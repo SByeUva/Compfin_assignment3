{
 "cells": [
  {
   "cell_type": "code",
   "execution_count": 1,
   "id": "645e6929",
   "metadata": {},
   "outputs": [],
   "source": [
    "import numpy as np\n",
    "import math\n",
    "import matplotlib.pyplot as plt"
   ]
  },
  {
   "cell_type": "markdown",
   "id": "3fbb4726",
   "metadata": {},
   "source": [
    "## 3.2 Finite difference method"
   ]
  },
  {
   "cell_type": "code",
   "execution_count": 28,
   "id": "a51c3da1",
   "metadata": {},
   "outputs": [
    {
     "data": {
      "text/plain": [
       "4.787491742782046"
      ]
     },
     "execution_count": 28,
     "metadata": {},
     "output_type": "execute_result"
    }
   ],
   "source": [
    "midpoint"
   ]
  },
  {
   "cell_type": "code",
   "execution_count": 30,
   "id": "0d7fa565",
   "metadata": {},
   "outputs": [
    {
     "data": {
      "text/plain": [
       "109.9471724521235"
      ]
     },
     "execution_count": 30,
     "metadata": {},
     "output_type": "execute_result"
    }
   ],
   "source": [
    "math.e**4.7"
   ]
  },
  {
   "cell_type": "code",
   "execution_count": 60,
   "id": "ae441496",
   "metadata": {},
   "outputs": [],
   "source": [
    "sigma = 0.3\n",
    "K = 110\n",
    "S = 120\n",
    "r = 0.04\n",
    "N = 100\n",
    "T = 1\n",
    "\n",
    "midpoint = math.log(S)\n",
    "M2 = -5\n",
    "M1 = (midpoint-M2) + midpoint\n",
    "\n",
    "stocks = np.linspace(M1,M2,N) "
   ]
  },
  {
   "cell_type": "code",
   "execution_count": 61,
   "id": "d73c68aa",
   "metadata": {},
   "outputs": [],
   "source": [
    "delx = (M1 - M2) / N\n",
    "deltau = T / N"
   ]
  },
  {
   "cell_type": "code",
   "execution_count": 62,
   "id": "3441913a",
   "metadata": {},
   "outputs": [],
   "source": [
    "grid = np.zeros((N,N))\n"
   ]
  },
  {
   "cell_type": "code",
   "execution_count": 63,
   "id": "1195bde5",
   "metadata": {},
   "outputs": [],
   "source": [
    "A = np.zeros((N,N))"
   ]
  },
  {
   "cell_type": "code",
   "execution_count": 69,
   "id": "5fcd97c4",
   "metadata": {},
   "outputs": [],
   "source": [
    "amin1 = (0.5*sigma**2 * deltau / delx**2)    -    ((r-0.5*sigma**2) *deltau / (2*delx))\n",
    "aplus1 = (0.5*sigma**2 * deltau / delx**2)    +    ((r-0.5*sigma**2) *deltau / (2*delx))\n",
    "anow = 1-(sigma**2 * deltau / delx**2) - r * deltau\n",
    "\n",
    "np.fill_diagonal(A[1:], amin1)\n",
    "np.fill_diagonal(A[:,1:], aplus1)\n",
    "np.fill_diagonal(A, anow)\n",
    "\n",
    "\n",
    "k1 = M1\n",
    "k2 = M1\n",
    "k3 = M2\n",
    "k4 = M2\n",
    "\n",
    "A[0,0] = k1\n",
    "A[0,1] = k2\n",
    "A[-1,-2] = k3\n",
    "A[-1, -1] = k4"
   ]
  },
  {
   "cell_type": "code",
   "execution_count": 70,
   "id": "fd6edf60",
   "metadata": {},
   "outputs": [],
   "source": [
    "for row in range(grid.shape[0]):\n",
    "    ans = math.e**(-r*T) * stocks[row] - math.log(K)\n",
    "    if ans > 0:\n",
    "        grid[row,0] = ans\n",
    "    else:\n",
    "        grid[row,0] = 0"
   ]
  },
  {
   "cell_type": "code",
   "execution_count": 71,
   "id": "bf2422da",
   "metadata": {},
   "outputs": [],
   "source": [
    "for column in range(N-2):\n",
    "    grid[:,column+1] = A @ grid[:,column]"
   ]
  },
  {
   "cell_type": "code",
   "execution_count": 72,
   "id": "759f6768",
   "metadata": {},
   "outputs": [
    {
     "data": {
      "text/plain": [
       "0.0"
      ]
     },
     "execution_count": 72,
     "metadata": {},
     "output_type": "execute_result"
    }
   ],
   "source": [
    "np.mean(grid[:,-1])"
   ]
  },
  {
   "cell_type": "code",
   "execution_count": 73,
   "id": "6d697e83",
   "metadata": {},
   "outputs": [
    {
     "data": {
      "text/plain": [
       "array([2.68413560e+02, 9.10943904e+00, 8.91954091e+00, 8.72964279e+00,\n",
       "       8.53974466e+00, 8.34984654e+00, 8.15994841e+00, 7.97005028e+00,\n",
       "       7.78015216e+00, 7.59025403e+00, 7.40035591e+00, 7.21045778e+00,\n",
       "       7.02055966e+00, 6.83066153e+00, 6.64076341e+00, 6.45086528e+00,\n",
       "       6.26096715e+00, 6.07106903e+00, 5.88117090e+00, 5.69127278e+00,\n",
       "       5.50137465e+00, 5.31147653e+00, 5.12157840e+00, 4.93168028e+00,\n",
       "       4.74178215e+00, 4.55188402e+00, 4.36198590e+00, 4.17208777e+00,\n",
       "       3.98218965e+00, 3.79229152e+00, 3.60239340e+00, 3.41249527e+00,\n",
       "       3.22259715e+00, 3.03269902e+00, 2.84280090e+00, 2.65290277e+00,\n",
       "       2.46300464e+00, 2.27310652e+00, 2.08320839e+00, 1.89331027e+00,\n",
       "       1.70341214e+00, 1.51351402e+00, 1.32361589e+00, 1.13371777e+00,\n",
       "       9.43819639e-01, 7.53921514e-01, 5.64023388e-01, 3.74125263e-01,\n",
       "       1.84293602e-01, 2.18735920e-03, 0.00000000e+00, 0.00000000e+00,\n",
       "       0.00000000e+00, 0.00000000e+00, 0.00000000e+00, 0.00000000e+00,\n",
       "       0.00000000e+00, 0.00000000e+00, 0.00000000e+00, 0.00000000e+00,\n",
       "       0.00000000e+00, 0.00000000e+00, 0.00000000e+00, 0.00000000e+00,\n",
       "       0.00000000e+00, 0.00000000e+00, 0.00000000e+00, 0.00000000e+00,\n",
       "       0.00000000e+00, 0.00000000e+00, 0.00000000e+00, 0.00000000e+00,\n",
       "       0.00000000e+00, 0.00000000e+00, 0.00000000e+00, 0.00000000e+00,\n",
       "       0.00000000e+00, 0.00000000e+00, 0.00000000e+00, 0.00000000e+00,\n",
       "       0.00000000e+00, 0.00000000e+00, 0.00000000e+00, 0.00000000e+00,\n",
       "       0.00000000e+00, 0.00000000e+00, 0.00000000e+00, 0.00000000e+00,\n",
       "       0.00000000e+00, 0.00000000e+00, 0.00000000e+00, 0.00000000e+00,\n",
       "       0.00000000e+00, 0.00000000e+00, 0.00000000e+00, 0.00000000e+00,\n",
       "       0.00000000e+00, 0.00000000e+00, 0.00000000e+00, 0.00000000e+00])"
      ]
     },
     "execution_count": 73,
     "metadata": {},
     "output_type": "execute_result"
    }
   ],
   "source": [
    "np.matmul(A, grid[:,0])"
   ]
  },
  {
   "cell_type": "code",
   "execution_count": 74,
   "id": "f6f83243",
   "metadata": {},
   "outputs": [
    {
     "data": {
      "text/plain": [
       "array([0., 0., 0., 0., 0., 0., 0., 0., 0., 0., 0., 0., 0., 0., 0., 0., 0.,\n",
       "       0., 0., 0., 0., 0., 0., 0., 0., 0., 0., 0., 0., 0., 0., 0., 0., 0.,\n",
       "       0., 0., 0., 0., 0., 0., 0., 0., 0., 0., 0., 0., 0., 0., 0., 0., 0.,\n",
       "       0., 0., 0., 0., 0., 0., 0., 0., 0., 0., 0., 0., 0., 0., 0., 0., 0.,\n",
       "       0., 0., 0., 0., 0., 0., 0., 0., 0., 0., 0., 0., 0., 0., 0., 0., 0.,\n",
       "       0., 0., 0., 0., 0., 0., 0., 0., 0., 0., 0., 0., 0., 0., 0.])"
      ]
     },
     "execution_count": 74,
     "metadata": {},
     "output_type": "execute_result"
    }
   ],
   "source": [
    "grid[:,-1]"
   ]
  }
 ],
 "metadata": {
  "kernelspec": {
   "display_name": "Python 3",
   "language": "python",
   "name": "python3"
  },
  "language_info": {
   "codemirror_mode": {
    "name": "ipython",
    "version": 3
   },
   "file_extension": ".py",
   "mimetype": "text/x-python",
   "name": "python",
   "nbconvert_exporter": "python",
   "pygments_lexer": "ipython3",
   "version": "3.9.2"
  }
 },
 "nbformat": 4,
 "nbformat_minor": 5
}
