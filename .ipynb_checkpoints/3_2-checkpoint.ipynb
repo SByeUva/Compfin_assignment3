{
 "cells": [
  {
   "cell_type": "code",
   "execution_count": 1,
   "id": "645e6929",
   "metadata": {},
   "outputs": [],
   "source": [
    "import numpy as np\n",
    "import math\n",
    "import matplotlib.pyplot as plt"
   ]
  },
  {
   "cell_type": "markdown",
   "id": "3fbb4726",
   "metadata": {},
   "source": [
    "## 3.2 Finite difference method"
   ]
  },
  {
   "cell_type": "markdown",
   "id": "37bd59c7",
   "metadata": {},
   "source": [
    "$$\\begin{equation}\n",
    "\\frac{\\partial C}{\\partial t^*} = \\frac{C_i^{n+1} - C_i^{n}}{\\Delta t}\\\\\n",
    "\\frac{\\partial C}{\\partial S} = \\frac{C_{i+1}^{n} - C_{i-1}^{n}}{2\\Delta S}\\\\\n",
    "\\frac{\\partial^2 C}{\\partial S^2} = \\frac{C_{i+1}^{n} - 2C_i^{n} + C_{i-1}^{n}}{(\\Delta S)^2}\\\\\n",
    "\\end{equation}$$\n",
    "\n",
    "the discretized Black-Scholes equation:\n",
    "$$\\frac{C_i^{n+1} - C_i^{n}}{\\Delta t} - \\frac{1}{2} \\sigma^2 S^2 \\frac{C_{i+1}^{n} - 2C_i^{n} + C_{i-1}^{n}}{(\\Delta S)^2} - rS \\frac{C_{i+1}^{n} - C_{i-1}^{n}}{2\\Delta S} + rC_i^{n} = 0 $$\n",
    "\n",
    "since $S=i \\Delta S$, we can rearrange the above equation as:\n",
    "\n",
    "$$\\frac{C_i^{n+1} - C_i^{n}}{\\Delta t} - \\frac{1}{2} \\sigma^2 i^2 (C_{i+1}^{n} - 2C_i^{n} + C_{i-1}^{n}) - \\frac{1}{2} ri (C_{i+1}^{n} - C_{i-1}^{n}) + rC_i^{n} = 0 $$\n",
    "\n",
    "the option price at the next time step can be expressed as:\n",
    "$$\\begin{equation}\n",
    "C_i^{n+1} = \\frac{1}{2}(\\sigma^2 i^2 \\Delta t-ri\\Delta t)C_{i-1}^n + (1 - \\sigma^2 i^2 \\Delta t -r \\Delta t) C_i^n + \\frac{1}{2}(\\sigma^2 i^2 \\Delta t+ri\\Delta t)C_{i+1}^n \n",
    "\\end{equation}$$"
   ]
  },
  {
   "cell_type": "code",
   "execution_count": 84,
   "id": "91970aa9",
   "metadata": {},
   "outputs": [],
   "source": [
    "from scipy.stats import norm\n",
    "def Black_Scholes_Call(S, K, r, vol, tau):\n",
    "    \"\"\" \n",
    "    Black Scholes Model for European Call\n",
    "    \"\"\"\n",
    "    d1 = (np.log(S / K) + (r + ((vol**2)/2.)*tau)) / (vol*np.sqrt(tau))\n",
    "    d2 = d1 - vol*np.sqrt(tau)\n",
    "    V = S * norm.cdf(d1) - np.exp(-r*tau) * K * norm.cdf(d2)\n",
    "    \n",
    "    return V"
   ]
  },
  {
   "cell_type": "code",
   "execution_count": 375,
   "id": "6659a770",
   "metadata": {},
   "outputs": [],
   "source": [
    "sigma = 0.3\n",
    "K = 110\n",
    "S = 120\n",
    "r = 0.04\n",
    "T = 1\n",
    "N = 6000# time points\n",
    "M = 150 # space points\n",
    "smin = 0.001\n",
    "smax = S*2\n",
    "\n",
    "dt = T/N       # time step\n",
    "dx = np.log(smax-smin)/M\n",
    "s = np.linspace(smin, smax, M)   # spatial grid (stock's price)\n",
    "#s = np.clip(s, smin, np.log(smax))\n",
    "#s = np.log(s)\n",
    "\n",
    "# initial condition & boundary condition\n",
    "V = s - K * math.e**-r\n",
    "V = np.clip(V, 0, smax)"
   ]
  },
  {
   "cell_type": "markdown",
   "id": "06b9c1a9",
   "metadata": {},
   "source": [
    "To find an expression for $\\vec{a_{-1}}, \\vec{a_{0}}$ and  $\\vec{a_{1}}$, we combine like terms \n",
    "\\begin{align}\n",
    "     V^{n+1}_{i} &= V^{n}_{i} + \\frac{\\Delta \\tau}{2 \\Delta X} \\left( r - \\frac{1}{2}\\sigma^{2} \\right) \\left( V^{n}_{i+1} - V^{n}_{i-1} \\right) + \\frac{1}{2}\\sigma^{2}\\frac{\\Delta \\tau}{\\Delta X^{2}} \\left( V^{n}_{i+1} + V^{n}_{i-1} - 2V^{n}_{i}  \\right) - r \\Delta \\tau V^{n}_{i} \\\\\n",
    "    \\begin{split}\n",
    "    &= V^{n}_{i}\\left( 1- \\sigma^{2}\\frac{\\Delta\\tau}{\\Delta X^{2}} - r\\Delta\\tau \\right) + V_{i+1}\\left( \\frac{\\Delta\\tau}{2\\Delta X}(r-\\frac{1}{2}\\sigma^{2})+\\frac{1}{2}\\sigma^{2}\\frac{\\Delta\\tau}{\\Delta X^{2}} \\right) \\\\\n",
    "    &+ V^{n}_{i-1}\\left( \\frac{1}{2}\\sigma^{2}\\frac{\\Delta\\tau}{\\Delta X^{2}} - \\frac{\\Delta\\tau}{2\\Delta X}(r-\\frac{1}{2}\\sigma^{2}) \\right).\n",
    "    \\end{split}\n",
    "\\end{align}\n",
    "For this equation, we conclude that\n",
    "\\begin{align}\n",
    "    \\vec{a_{-1}} &= \\frac{1}{2}\\sigma^{2}\\frac{\\Delta\\tau}{\\Delta X^{2}} - \\frac{\\Delta\\tau}{2\\Delta X}(r-\\frac{1}{2}\\sigma^{2}) \\\\\n",
    "    \\vec{a_{0}} &=  1- 2\\frac{1}{2}\\sigma^{2}\\frac{\\Delta\\tau}{\\Delta X^{2}} - r\\Delta\\tau\\\\\n",
    "    \\vec{a_{+1}} &=  \\frac{\\Delta\\tau}{2\\Delta X}(r-\\frac{1}{2}\\sigma^{2})+\\frac{1}{2}\\sigma^{2}\\frac{\\Delta\\tau}{\\Delta X^{2}}\n",
    "\\end{align}"
   ]
  },
  {
   "cell_type": "code",
   "execution_count": 376,
   "id": "9e133b65",
   "metadata": {},
   "outputs": [],
   "source": [
    "up = ((0.5*(sigma**2) * dt / dx**2)    -    ((r-0.5*(sigma**2)) *dt / (2*dx)))\n",
    "mid = (1-((sigma**2) * dt / dx**2) - r * dt)\n",
    "down = ((0.5*(sigma**2) * dt / dx**2)    +    ((r-0.5*(sigma**2)) *dt / (2*dx)))"
   ]
  },
  {
   "cell_type": "code",
   "execution_count": 377,
   "id": "98cc7962",
   "metadata": {},
   "outputs": [
    {
     "name": "stdout",
     "output_type": "stream",
     "text": [
      "0.005629407999542349 0.9887573249113907 0.005606600422400312\n"
     ]
    }
   ],
   "source": [
    "print(up, mid, down)"
   ]
  },
  {
   "cell_type": "code",
   "execution_count": 378,
   "id": "126ea927",
   "metadata": {},
   "outputs": [],
   "source": [
    "V_new = np.zeros(M)"
   ]
  },
  {
   "cell_type": "code",
   "execution_count": 379,
   "id": "78334482",
   "metadata": {},
   "outputs": [
    {
     "name": "stdout",
     "output_type": "stream",
     "text": [
      "[  0.           0.           0.           0.           0.\n",
      "   0.           0.           0.           0.           0.\n",
      "   0.           0.           0.           0.           0.\n",
      "   0.           0.           0.           0.           0.\n",
      "   0.           0.           0.           0.           0.\n",
      "   0.           0.           0.           0.           0.\n",
      "   0.           0.           0.           0.           0.\n",
      "   0.           0.           0.           0.           0.\n",
      "   0.           0.           0.           0.           0.\n",
      "   0.           0.           0.           0.           0.\n",
      "   0.           0.           0.           0.           0.\n",
      "   0.           0.           0.           0.           0.\n",
      "   0.           0.           0.           0.           0.\n",
      "   0.           0.62244357   2.23317512   3.84390666   5.4546382\n",
      "   7.06536975   8.67610129  10.28683283  11.89756438  13.50829592\n",
      "  15.11902747  16.72975901  18.34049055  19.9512221   21.56195364\n",
      "  23.17268518  24.78341673  26.39414827  28.00487981  29.61561136\n",
      "  31.2263429   32.83707444  34.44780599  36.05853753  37.66926908\n",
      "  39.28000062  40.89073216  42.50146371  44.11219525  45.72292679\n",
      "  47.33365834  48.94438988  50.55512142  52.16585297  53.77658451\n",
      "  55.38731606  56.9980476   58.60877914  60.21951069  61.83024223\n",
      "  63.44097377  65.05170532  66.66243686  68.2731684   69.88389995\n",
      "  71.49463149  73.10536304  74.71609458  76.32682612  77.93755767\n",
      "  79.54828921  81.15902075  82.7697523   84.38048384  85.99121538\n",
      "  87.60194693  89.21267847  90.82341002  92.43414156  94.0448731\n",
      "  95.65560465  97.26633619  98.87706773 100.48779928 102.09853082\n",
      " 103.70926236 105.31999391 106.93072545 108.541457   110.15218854\n",
      " 111.76292008 113.37365163 114.98438317 116.59511471 118.20584626\n",
      " 119.8165778  121.42730934 123.03804089 124.64877243 126.25950398\n",
      " 127.87023552 129.48096706 131.09169861 132.70243015 134.31316169]\n"
     ]
    }
   ],
   "source": [
    "print(V)\n",
    "for j in range(N):\n",
    "    for i in range(1,M-1):\n",
    "        #print(up * V[i-1] + mid * V[i] + down * V[i+1])\n",
    "        V_new[i] = up * V[i-1] + mid * V[i] + down * V[i+1]\n",
    "    \n",
    "    V_new[0] = V[0]\n",
    "    V_new[-1] = V[-1]\n",
    "    #V_new = np.clip(V_new, 0, smax)\n",
    "    #print(j, V)\n",
    "    V = np.copy(V_new)\n",
    "    #print(j, V)"
   ]
  },
  {
   "cell_type": "code",
   "execution_count": 380,
   "id": "9435ba84",
   "metadata": {},
   "outputs": [
    {
     "data": {
      "text/plain": [
       "15.143507666651223"
      ]
     },
     "execution_count": 380,
     "metadata": {},
     "output_type": "execute_result"
    }
   ],
   "source": [
    "V_new[int(len(V_new)/2)]"
   ]
  },
  {
   "cell_type": "code",
   "execution_count": 316,
   "id": "3badaf94",
   "metadata": {
    "scrolled": true
   },
   "outputs": [
    {
     "data": {
      "text/plain": [
       "21.788808338829327"
      ]
     },
     "execution_count": 316,
     "metadata": {},
     "output_type": "execute_result"
    }
   ],
   "source": [
    "Black_Scholes_Call(S, K, r, sigma, 1)"
   ]
  },
  {
   "cell_type": "code",
   "execution_count": null,
   "id": "e6170194",
   "metadata": {},
   "outputs": [],
   "source": [
    "%matplotlib inline\n",
    "import numpy\n",
    "import matplotlib.pyplot as pyplot\n",
    "from matplotlib import rcParams\n",
    "rcParams['figure.dpi'] = 100\n",
    "rcParams['font.size'] = 16\n",
    "rcParams['font.family'] = 'StixGeneral'\n",
    "\n",
    "T = 0.25       # expiry time\n",
    "r = 0.1        # no-risk interest rate\n",
    "sigma = 0.4    # volatility of underlying asset\n",
    "E = 10.        # exercise price\n",
    "S_max = 4*E    # upper bound of price of the stock (4*E)"
   ]
  },
  {
   "cell_type": "code",
   "execution_count": null,
   "id": "20f9f414",
   "metadata": {},
   "outputs": [],
   "source": [
    "def FTCS(C, N, M, dt, r, sigma):\n",
    "    \"\"\"using forward-time central-space scheme to solve the Black-Scholes equation for the call option price\n",
    "    \n",
    "    Arguments:\n",
    "        C:       array of the price of call option\n",
    "        N:       total number of time steps\n",
    "        M:       total number of spatials grids\n",
    "        dt:      time step\n",
    "        r:       no-risk interest rate\n",
    "        sigma:   volatility of the stock\n",
    "    \n",
    "    Returns:\n",
    "        C:       array of the price of call option\n",
    "    \"\"\"\n",
    "    index = numpy.arange(1,M)\n",
    "    for n in range(N):\n",
    "\n",
    "        C[1:-1] = 0.5 * (sigma**2 * index**2 * dt - r*index*dt) * C[0:-2] \\\n",
    "             +       (1 - sigma**2* index**2 *dt - r*dt) * C[1:-1]   \\\n",
    "             + 0.5 * (sigma**2 * index**2 * dt + r*index*dt) * C[2:]\n",
    "    return C"
   ]
  },
  {
   "cell_type": "code",
   "execution_count": null,
   "id": "ee3d5594",
   "metadata": {},
   "outputs": [],
   "source": [
    "N = 2000       # number of time steps \n",
    "M = 200        # number of space grids\n",
    "dt = T/N       # time step\n",
    "s = numpy.linspace(0, S_max, M+1)   # spatial grid (stock's price)\n",
    "\n",
    "# initial condition & boundary condition\n",
    "C = s - E\n",
    "C = numpy.clip(C, 0, S_max-E)"
   ]
  },
  {
   "cell_type": "code",
   "execution_count": null,
   "id": "7bbddfef",
   "metadata": {},
   "outputs": [],
   "source": [
    "numpy.clip(C, 0, S_max-E)"
   ]
  },
  {
   "cell_type": "code",
   "execution_count": null,
   "id": "b0f4aba5",
   "metadata": {},
   "outputs": [],
   "source": [
    "C_exp = FTCS(C, N, M, dt, r, sigma)\n",
    "print(f'the price of the call option should be around {C_exp[int(M/2)]}, \\\n",
    "if the current price of stock is 20 dollar.')"
   ]
  },
  {
   "cell_type": "code",
   "execution_count": null,
   "id": "ab3618db",
   "metadata": {},
   "outputs": [],
   "source": [
    "C[int(len(C)/2)]"
   ]
  },
  {
   "cell_type": "code",
   "execution_count": null,
   "id": "8240b126",
   "metadata": {},
   "outputs": [],
   "source": [
    "index = numpy.arange(1,M)\n",
    "for n in range(N):\n",
    "\n",
    "    C[1:-1] = 0.5 * (sigma**2 * index**2 * dt - r*index*dt) * C[0:-2] \\\n",
    "        +       (1 - sigma**2* index**2 *dt - r*dt) * C[1:-1]   \\\n",
    "        + 0.5 * (sigma**2 * index**2 * dt + r*index*dt) * C[2:]\n",
    "    "
   ]
  },
  {
   "cell_type": "code",
   "execution_count": null,
   "id": "519ac6ca",
   "metadata": {},
   "outputs": [],
   "source": [
    "pyplot.figure(figsize=(8,5), dpi=100)\n",
    "pyplot.plot(s,C_exp,color='#20b2aa', ls='--', lw=3, label='FTCS');\n",
    "pyplot.xlabel('Current Price of the Stock (S)')\n",
    "pyplot.ylabel('Price of the call option (C)')\n",
    "pyplot.legend(loc='upper left',prop={'size':15});"
   ]
  }
 ],
 "metadata": {
  "kernelspec": {
   "display_name": "Python 3",
   "language": "python",
   "name": "python3"
  },
  "language_info": {
   "codemirror_mode": {
    "name": "ipython",
    "version": 3
   },
   "file_extension": ".py",
   "mimetype": "text/x-python",
   "name": "python",
   "nbconvert_exporter": "python",
   "pygments_lexer": "ipython3",
   "version": "3.9.2"
  }
 },
 "nbformat": 4,
 "nbformat_minor": 5
}
