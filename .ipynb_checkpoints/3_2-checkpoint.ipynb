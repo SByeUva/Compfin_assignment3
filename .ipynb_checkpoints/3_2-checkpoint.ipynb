{
 "cells": [
  {
   "cell_type": "code",
   "execution_count": 4,
   "id": "645e6929",
   "metadata": {},
   "outputs": [],
   "source": [
    "import numpy as np\n",
    "import math\n",
    "import matplotlib.pyplot as plt"
   ]
  },
  {
   "cell_type": "markdown",
   "id": "3fbb4726",
   "metadata": {},
   "source": [
    "## 3.2 Finite difference method"
   ]
  },
  {
   "cell_type": "code",
   "execution_count": 2,
   "id": "a51c3da1",
   "metadata": {},
   "outputs": [
    {
     "ename": "NameError",
     "evalue": "name 'midpoint' is not defined",
     "output_type": "error",
     "traceback": [
      "\u001b[1;31m---------------------------------------------------------------------------\u001b[0m",
      "\u001b[1;31mNameError\u001b[0m                                 Traceback (most recent call last)",
      "\u001b[1;32m~\\AppData\\Local\\Temp/ipykernel_7600/662553104.py\u001b[0m in \u001b[0;36m<module>\u001b[1;34m\u001b[0m\n\u001b[1;32m----> 1\u001b[1;33m \u001b[0mmidpoint\u001b[0m\u001b[1;33m\u001b[0m\u001b[1;33m\u001b[0m\u001b[0m\n\u001b[0m",
      "\u001b[1;31mNameError\u001b[0m: name 'midpoint' is not defined"
     ]
    }
   ],
   "source": [
    "midpoint"
   ]
  },
  {
   "cell_type": "code",
   "execution_count": 3,
   "id": "0d7fa565",
   "metadata": {},
   "outputs": [
    {
     "data": {
      "text/plain": [
       "109.9471724521235"
      ]
     },
     "execution_count": 3,
     "metadata": {},
     "output_type": "execute_result"
    }
   ],
   "source": [
    "math.e**4.7"
   ]
  },
  {
   "cell_type": "code",
   "execution_count": null,
   "id": "3c2ee3c9",
   "metadata": {},
   "outputs": [],
   "source": []
  },
  {
   "cell_type": "code",
   "execution_count": 204,
   "id": "2f1863cc",
   "metadata": {},
   "outputs": [],
   "source": [
    "M2 = 1\n",
    "M1 = 123458\n",
    "np.log(np.linspace(M1, M2, N))\n",
    "stocks = np.log(np.linspace(M1, M2, N))"
   ]
  },
  {
   "cell_type": "code",
   "execution_count": 15,
   "id": "ae441496",
   "metadata": {},
   "outputs": [],
   "source": [
    "sigma = 0.3\n",
    "K = 110\n",
    "S = 120\n",
    "r = 0.04\n",
    "N = 100\n",
    "T = 1\n",
    "\n",
    "midpoint = math.log(S)\n",
    "M2 = -5\n",
    "M1 = (midpoint-M2) + midpoint\n",
    "\n",
    "stocks = np.log(np.linspace(M1, M2, N))"
   ]
  },
  {
   "cell_type": "code",
   "execution_count": 16,
   "id": "d73c68aa",
   "metadata": {},
   "outputs": [],
   "source": [
    "delx = (M1 - M2) / N\n",
    "deltau = T / N"
   ]
  },
  {
   "cell_type": "code",
   "execution_count": 17,
   "id": "3441913a",
   "metadata": {},
   "outputs": [],
   "source": [
    "grid = np.zeros((N,N))\n"
   ]
  },
  {
   "cell_type": "code",
   "execution_count": 18,
   "id": "f95c6b55",
   "metadata": {},
   "outputs": [
    {
     "data": {
      "text/plain": [
       "array([[0., 0., 0., ..., 0., 0., 0.],\n",
       "       [0., 0., 0., ..., 0., 0., 0.],\n",
       "       [0., 0., 0., ..., 0., 0., 0.],\n",
       "       ...,\n",
       "       [0., 0., 0., ..., 0., 0., 0.],\n",
       "       [0., 0., 0., ..., 0., 0., 0.],\n",
       "       [0., 0., 0., ..., 0., 0., 0.]])"
      ]
     },
     "execution_count": 18,
     "metadata": {},
     "output_type": "execute_result"
    }
   ],
   "source": [
    "grid"
   ]
  },
  {
   "cell_type": "code",
   "execution_count": null,
   "id": "342d7f61",
   "metadata": {},
   "outputs": [],
   "source": []
  },
  {
   "cell_type": "code",
   "execution_count": null,
   "id": "ed8daad6",
   "metadata": {},
   "outputs": [],
   "source": []
  },
  {
   "cell_type": "code",
   "execution_count": null,
   "id": "c5acca3d",
   "metadata": {},
   "outputs": [],
   "source": []
  },
  {
   "cell_type": "code",
   "execution_count": 56,
   "id": "8c159e56",
   "metadata": {},
   "outputs": [],
   "source": []
  },
  {
   "cell_type": "code",
   "execution_count": 59,
   "id": "91970aa9",
   "metadata": {},
   "outputs": [],
   "source": [
    "from scipy.stats import norm\n",
    "def Black_Scholes_Call(S, K, r, vol, tau):\n",
    "    \"\"\" \n",
    "    Black Scholes Model for European Call\n",
    "    \"\"\"\n",
    "    d1 = (np.log(S / K) + (r + ((vol**2)/2.)*tau)) / (vol*np.sqrt(tau))\n",
    "    d2 = d1 - vol*np.sqrt(tau)\n",
    "    V = S * norm.cdf(d1) - np.exp(-r*tau) * K * norm.cdf(d2)\n",
    "    \n",
    "    return V"
   ]
  },
  {
   "cell_type": "code",
   "execution_count": 158,
   "id": "4413495d",
   "metadata": {},
   "outputs": [
    {
     "data": {
      "text/plain": [
       "14.210340371976184"
      ]
     },
     "execution_count": 158,
     "metadata": {},
     "output_type": "execute_result"
    }
   ],
   "source": [
    "M1"
   ]
  },
  {
   "cell_type": "code",
   "execution_count": 164,
   "id": "c0f65ad1",
   "metadata": {
    "scrolled": true
   },
   "outputs": [
    {
     "data": {
      "text/plain": [
       "4.605170185988092"
      ]
     },
     "execution_count": 164,
     "metadata": {},
     "output_type": "execute_result"
    }
   ],
   "source": [
    "np.log(S)"
   ]
  },
  {
   "cell_type": "code",
   "execution_count": 163,
   "id": "5b0d5e30",
   "metadata": {},
   "outputs": [
    {
     "data": {
      "text/plain": [
       "6.886275403655313"
      ]
     },
     "execution_count": 163,
     "metadata": {},
     "output_type": "execute_result"
    }
   ],
   "source": [
    "np.log(S) + np.log(delx*(N/2))"
   ]
  },
  {
   "cell_type": "code",
   "execution_count": 162,
   "id": "c8df14a3",
   "metadata": {},
   "outputs": [
    {
     "data": {
      "text/plain": [
       "2.32406496832087"
      ]
     },
     "execution_count": 162,
     "metadata": {},
     "output_type": "execute_result"
    }
   ],
   "source": [
    "np.log(S) - np.log(delx*(N/2))"
   ]
  },
  {
   "cell_type": "code",
   "execution_count": 205,
   "id": "be1a2f72",
   "metadata": {},
   "outputs": [],
   "source": [
    "stocks = np.log(np.linspace(M1, M2, N))"
   ]
  },
  {
   "cell_type": "code",
   "execution_count": 206,
   "id": "1195bde5",
   "metadata": {},
   "outputs": [
    {
     "name": "stdout",
     "output_type": "stream",
     "text": [
      "The Correct answer is 9.625357828843697\n"
     ]
    }
   ],
   "source": [
    "# Define matrix A\n",
    "N = 100\n",
    "A = np.zeros((N,N))\n",
    "amin1 = (0.5*sigma**2 * deltau / delx**2)    -    ((r-0.5*sigma**2) *deltau / (2*delx))\n",
    "aplus1 = (0.5*sigma**2 * deltau / delx**2)    +    ((r-0.5*sigma**2) *deltau / (2*delx))\n",
    "anow = 1-(sigma**2 * deltau / delx**2) - r * deltau\n",
    "\n",
    "np.fill_diagonal(A[1:], amin1)\n",
    "np.fill_diagonal(A[:,1:], aplus1)\n",
    "np.fill_diagonal(A, anow)\n",
    "k1, k2, k3, k4 = M1, M1, M2, M2\n",
    "\n",
    "sigma, K, S, r, N, T = 0.3, 110, 100, 0.04, 100, 1\n",
    "\n",
    "#midpoint = math.log(S)\n",
    "#M2 = -5\n",
    "#M1 = (midpoint-M2) + midpoint\n",
    "\n",
    "#M1 = np.log(S) + delx*(N/2)\n",
    "#M2 = np.log(S) - delx*(N/2)\n",
    "\n",
    "# Stock price at T\n",
    "#stocks = np.linspace(M1,M2,N) \n",
    "print(f\"The Correct answer is {Black_Scholes_Call(S, K, r, sigma, 1)}\")\n",
    "\n",
    "\n",
    "# Boundaries\n",
    "A[0,0] = k1\n",
    "A[0,1] = k2\n",
    "A[-1,-2] = k3\n",
    "A[-1, -1] = k4"
   ]
  },
  {
   "cell_type": "code",
   "execution_count": 207,
   "id": "4eb8229c",
   "metadata": {},
   "outputs": [
    {
     "name": "stderr",
     "output_type": "stream",
     "text": [
      "C:\\Users\\sebas\\AppData\\Local\\Temp/ipykernel_7600/2109465226.py:7: RuntimeWarning: overflow encountered in exp\n",
      "  ans = np.exp(stocks[row])*np.exp(-r)\n"
     ]
    }
   ],
   "source": [
    "# Get the call prices at maturity\n",
    "V = np.zeros((N,N))\n",
    "stocks = np.linspace(M1,M2,N) \n",
    "\n",
    "for row in range(V.shape[0]):\n",
    "    #ans = Black_Scholes_Call(np.exp(stocks[row]), K, r, sigma, T)\n",
    "    ans = np.exp(stocks[row])*np.exp(-r)\n",
    "    if ans > 0:\n",
    "        V[row,0] = ans\n",
    "    else:\n",
    "        V[row,0] = 0"
   ]
  },
  {
   "cell_type": "code",
   "execution_count": 208,
   "id": "28004291",
   "metadata": {},
   "outputs": [
    {
     "name": "stderr",
     "output_type": "stream",
     "text": [
      "C:\\Users\\sebas\\AppData\\Local\\Temp/ipykernel_7600/4263752455.py:2: RuntimeWarning: invalid value encountered in matmul\n",
      "  V[:,column+1] = A @ V[:,column]\n"
     ]
    }
   ],
   "source": [
    "for column in range(0,N-1):\n",
    "    V[:,column+1] = A @ V[:,column]"
   ]
  },
  {
   "cell_type": "code",
   "execution_count": 209,
   "id": "6e16c9d6",
   "metadata": {},
   "outputs": [
    {
     "data": {
      "text/plain": [
       "nan"
      ]
     },
     "execution_count": 209,
     "metadata": {},
     "output_type": "execute_result"
    }
   ],
   "source": [
    "V[:,-1][49]"
   ]
  },
  {
   "cell_type": "code",
   "execution_count": 210,
   "id": "d87d9000",
   "metadata": {},
   "outputs": [
    {
     "name": "stderr",
     "output_type": "stream",
     "text": [
      "C:\\Users\\sebas\\AppData\\Local\\Temp/ipykernel_7600/3344671722.py:1: RuntimeWarning: overflow encountered in exp\n",
      "  np.exp(stocks[40:55])\n"
     ]
    },
    {
     "data": {
      "text/plain": [
       "array([inf, inf, inf, inf, inf, inf, inf, inf, inf, inf, inf, inf, inf,\n",
       "       inf, inf])"
      ]
     },
     "execution_count": 210,
     "metadata": {},
     "output_type": "execute_result"
    }
   ],
   "source": [
    "np.exp(stocks[40:55])"
   ]
  },
  {
   "cell_type": "code",
   "execution_count": null,
   "id": "fb5c8a4f",
   "metadata": {},
   "outputs": [],
   "source": []
  },
  {
   "cell_type": "code",
   "execution_count": null,
   "id": "b96ff6f0",
   "metadata": {},
   "outputs": [],
   "source": []
  },
  {
   "cell_type": "code",
   "execution_count": null,
   "id": "93cce84e",
   "metadata": {},
   "outputs": [],
   "source": []
  },
  {
   "cell_type": "code",
   "execution_count": 114,
   "id": "79d42506",
   "metadata": {},
   "outputs": [
    {
     "data": {
      "text/plain": [
       "100"
      ]
     },
     "execution_count": 114,
     "metadata": {},
     "output_type": "execute_result"
    }
   ],
   "source": [
    "len(stocks)"
   ]
  },
  {
   "cell_type": "code",
   "execution_count": 113,
   "id": "3e69cdad",
   "metadata": {},
   "outputs": [
    {
     "data": {
      "text/plain": [
       "array([2.13714949e+06, 1.75373153e+06, 1.43910115e+06, 1.18091742e+06,\n",
       "       9.69053462e+05, 7.95199222e+05, 6.52535518e+05, 5.35466573e+05,\n",
       "       4.39400527e+05, 3.60569330e+05, 2.95880941e+05, 2.42798053e+05,\n",
       "       1.99238567e+05, 1.63493924e+05, 1.34162094e+05, 1.10092577e+05,\n",
       "       9.03412812e+04, 7.41334914e+04, 6.08334803e+04, 4.99195742e+04,\n",
       "       4.09636910e+04, 3.36145491e+04, 2.75838892e+04, 2.26351673e+04,\n",
       "       1.85742770e+04, 1.52419357e+04, 1.25074373e+04, 1.02635250e+04,\n",
       "       8.42218454e+03, 6.91119206e+03, 5.67128106e+03, 4.65381784e+03,\n",
       "       3.81889387e+03, 3.13376047e+03, 2.57154428e+03, 2.11019318e+03,\n",
       "       1.73161135e+03, 1.42094947e+03, 1.16602226e+03, 9.56830591e+02,\n",
       "       7.85169210e+02, 6.44304953e+02, 5.28712622e+02, 4.33858277e+02,\n",
       "       3.56021394e+02, 2.92148934e+02, 2.39735591e+02, 1.96725530e+02,\n",
       "       1.61431742e+02, 1.32469880e+02, 1.08703956e+02, 8.92017880e+01,\n",
       "       7.31984304e+01, 6.00661751e+01, 4.92899283e+01, 4.04470075e+01,\n",
       "       3.31905619e+01, 2.72359679e+01, 2.23496652e+01, 1.83399958e+01,\n",
       "       1.50496861e+01, 1.23496784e+01, 1.01340690e+01, 8.31595379e+00,\n",
       "       6.82401977e+00, 5.59974802e+00, 4.59511827e+00, 3.77072537e+00,\n",
       "       3.09423370e+00, 2.53910886e+00, 2.08357688e+00, 1.70977018e+00,\n",
       "       1.40302674e+00, 1.15131498e+00, 9.44761889e-01, 7.75265709e-01,\n",
       "       6.36178201e-01, 5.22043861e-01, 4.28385934e-01, 3.51530823e-01,\n",
       "       2.88463999e-01, 2.36711757e-01, 1.94244190e-01, 1.59395570e-01,\n",
       "       1.30799010e-01, 1.07332851e-01, 8.80766674e-02, 7.22751635e-02,\n",
       "       5.93085480e-02, 4.86682243e-02, 3.99368410e-02, 3.27719225e-02,\n",
       "       2.68924350e-02, 2.20677643e-02, 1.81086696e-02, 1.48598613e-02,\n",
       "       1.21939094e-02, 1.00062459e-02, 8.21106295e-03, 6.73794700e-03])"
      ]
     },
     "execution_count": 113,
     "metadata": {},
     "output_type": "execute_result"
    }
   ],
   "source": [
    "np.exp(stocks)"
   ]
  },
  {
   "cell_type": "code",
   "execution_count": null,
   "id": "be9df8ec",
   "metadata": {},
   "outputs": [],
   "source": []
  },
  {
   "cell_type": "code",
   "execution_count": null,
   "id": "507dd24e",
   "metadata": {},
   "outputs": [],
   "source": []
  },
  {
   "cell_type": "code",
   "execution_count": null,
   "id": "0a9e233a",
   "metadata": {},
   "outputs": [],
   "source": []
  },
  {
   "cell_type": "code",
   "execution_count": null,
   "id": "d69d4158",
   "metadata": {},
   "outputs": [],
   "source": []
  },
  {
   "cell_type": "code",
   "execution_count": null,
   "id": "b5ae6eab",
   "metadata": {},
   "outputs": [],
   "source": [
    "V = "
   ]
  },
  {
   "cell_type": "code",
   "execution_count": null,
   "id": "d7eae213",
   "metadata": {},
   "outputs": [],
   "source": []
  },
  {
   "cell_type": "code",
   "execution_count": 9,
   "id": "5fcd97c4",
   "metadata": {},
   "outputs": [],
   "source": [
    "amin1 = (0.5*sigma**2 * deltau / delx**2)    -    ((r-0.5*sigma**2) *deltau / (2*delx))\n",
    "aplus1 = (0.5*sigma**2 * deltau / delx**2)    +    ((r-0.5*sigma**2) *deltau / (2*delx))\n",
    "anow = 1-(sigma**2 * deltau / delx**2) - r * deltau\n",
    "\n",
    "np.fill_diagonal(A[1:], amin1)\n",
    "np.fill_diagonal(A[:,1:], aplus1)\n",
    "np.fill_diagonal(A, anow)\n",
    "\n",
    "\n",
    "k1 = M1\n",
    "k2 = M1\n",
    "k3 = M2\n",
    "k4 = M2\n",
    "\n",
    "A[0,0] = k1\n",
    "A[0,1] = k2\n",
    "A[-1,-2] = k3\n",
    "A[-1, -1] = k4"
   ]
  },
  {
   "cell_type": "code",
   "execution_count": 10,
   "id": "fd6edf60",
   "metadata": {},
   "outputs": [],
   "source": [
    "for row in range(grid.shape[0]):\n",
    "    ans = math.e**(-r*T) * stocks[row] - math.log(K)\n",
    "    if ans > 0:\n",
    "        grid[row,0] = ans\n",
    "    else:\n",
    "        grid[row,0] = 0"
   ]
  },
  {
   "cell_type": "code",
   "execution_count": 11,
   "id": "bf2422da",
   "metadata": {},
   "outputs": [],
   "source": [
    "for column in range(N-2):\n",
    "    grid[:,column+1] = A @ grid[:,column]"
   ]
  },
  {
   "cell_type": "code",
   "execution_count": 12,
   "id": "759f6768",
   "metadata": {},
   "outputs": [
    {
     "data": {
      "text/plain": [
       "0.0"
      ]
     },
     "execution_count": 12,
     "metadata": {},
     "output_type": "execute_result"
    }
   ],
   "source": [
    "np.mean(grid[:,-1])"
   ]
  },
  {
   "cell_type": "code",
   "execution_count": 13,
   "id": "6d697e83",
   "metadata": {},
   "outputs": [
    {
     "data": {
      "text/plain": [
       "array([2.68413560e+02, 9.10943904e+00, 8.91954091e+00, 8.72964279e+00,\n",
       "       8.53974466e+00, 8.34984654e+00, 8.15994841e+00, 7.97005028e+00,\n",
       "       7.78015216e+00, 7.59025403e+00, 7.40035591e+00, 7.21045778e+00,\n",
       "       7.02055966e+00, 6.83066153e+00, 6.64076341e+00, 6.45086528e+00,\n",
       "       6.26096715e+00, 6.07106903e+00, 5.88117090e+00, 5.69127278e+00,\n",
       "       5.50137465e+00, 5.31147653e+00, 5.12157840e+00, 4.93168028e+00,\n",
       "       4.74178215e+00, 4.55188402e+00, 4.36198590e+00, 4.17208777e+00,\n",
       "       3.98218965e+00, 3.79229152e+00, 3.60239340e+00, 3.41249527e+00,\n",
       "       3.22259715e+00, 3.03269902e+00, 2.84280090e+00, 2.65290277e+00,\n",
       "       2.46300464e+00, 2.27310652e+00, 2.08320839e+00, 1.89331027e+00,\n",
       "       1.70341214e+00, 1.51351402e+00, 1.32361589e+00, 1.13371777e+00,\n",
       "       9.43819639e-01, 7.53921514e-01, 5.64023388e-01, 3.74125263e-01,\n",
       "       1.84293602e-01, 2.18735920e-03, 0.00000000e+00, 0.00000000e+00,\n",
       "       0.00000000e+00, 0.00000000e+00, 0.00000000e+00, 0.00000000e+00,\n",
       "       0.00000000e+00, 0.00000000e+00, 0.00000000e+00, 0.00000000e+00,\n",
       "       0.00000000e+00, 0.00000000e+00, 0.00000000e+00, 0.00000000e+00,\n",
       "       0.00000000e+00, 0.00000000e+00, 0.00000000e+00, 0.00000000e+00,\n",
       "       0.00000000e+00, 0.00000000e+00, 0.00000000e+00, 0.00000000e+00,\n",
       "       0.00000000e+00, 0.00000000e+00, 0.00000000e+00, 0.00000000e+00,\n",
       "       0.00000000e+00, 0.00000000e+00, 0.00000000e+00, 0.00000000e+00,\n",
       "       0.00000000e+00, 0.00000000e+00, 0.00000000e+00, 0.00000000e+00,\n",
       "       0.00000000e+00, 0.00000000e+00, 0.00000000e+00, 0.00000000e+00,\n",
       "       0.00000000e+00, 0.00000000e+00, 0.00000000e+00, 0.00000000e+00,\n",
       "       0.00000000e+00, 0.00000000e+00, 0.00000000e+00, 0.00000000e+00,\n",
       "       0.00000000e+00, 0.00000000e+00, 0.00000000e+00, 0.00000000e+00])"
      ]
     },
     "execution_count": 13,
     "metadata": {},
     "output_type": "execute_result"
    }
   ],
   "source": [
    "np.matmul(A, grid[:,0])"
   ]
  },
  {
   "cell_type": "code",
   "execution_count": 14,
   "id": "f6f83243",
   "metadata": {},
   "outputs": [
    {
     "data": {
      "text/plain": [
       "array([0., 0., 0., 0., 0., 0., 0., 0., 0., 0., 0., 0., 0., 0., 0., 0., 0.,\n",
       "       0., 0., 0., 0., 0., 0., 0., 0., 0., 0., 0., 0., 0., 0., 0., 0., 0.,\n",
       "       0., 0., 0., 0., 0., 0., 0., 0., 0., 0., 0., 0., 0., 0., 0., 0., 0.,\n",
       "       0., 0., 0., 0., 0., 0., 0., 0., 0., 0., 0., 0., 0., 0., 0., 0., 0.,\n",
       "       0., 0., 0., 0., 0., 0., 0., 0., 0., 0., 0., 0., 0., 0., 0., 0., 0.,\n",
       "       0., 0., 0., 0., 0., 0., 0., 0., 0., 0., 0., 0., 0., 0., 0.])"
      ]
     },
     "execution_count": 14,
     "metadata": {},
     "output_type": "execute_result"
    }
   ],
   "source": [
    "grid[:,-1]"
   ]
  },
  {
   "cell_type": "code",
   "execution_count": null,
   "id": "20f9f414",
   "metadata": {},
   "outputs": [],
   "source": []
  }
 ],
 "metadata": {
  "kernelspec": {
   "display_name": "Python 3 (ipykernel)",
   "language": "python",
   "name": "python3"
  },
  "language_info": {
   "codemirror_mode": {
    "name": "ipython",
    "version": 3
   },
   "file_extension": ".py",
   "mimetype": "text/x-python",
   "name": "python",
   "nbconvert_exporter": "python",
   "pygments_lexer": "ipython3",
   "version": "3.9.7"
  }
 },
 "nbformat": 4,
 "nbformat_minor": 5
}
