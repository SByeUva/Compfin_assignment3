{
 "cells": [
  {
   "cell_type": "code",
   "execution_count": 1,
   "id": "e0040b45",
   "metadata": {},
   "outputs": [],
   "source": [
    "'''\n",
    "Equations referenced are from Fang and Oosterlee (2008)\n",
    "https://www.google.com/url?sa=t&rct=j&q=&esrc=s&source=web&cd=&cad=rja&uact=8&ved=2ahUKEwjV4Mu3nM72AhWJ_6QKHQ_fBwkQFnoECAMQAQ&url=http%3A%2F%2Fta.twi.tudelft.nl%2Fmf%2Fusers%2Foosterle%2Foosterlee%2FCOS.pdf&usg=AOvVaw3dgj0ljH4hQO920rT84DGN\n",
    "'''\n",
    "import numpy as np\n",
    "import matplotlib.pyplot as plot\n",
    "from scipy.stats import norm"
   ]
  },
  {
   "cell_type": "code",
   "execution_count": 2,
   "id": "de958a30",
   "metadata": {},
   "outputs": [],
   "source": [
    "def Black_Scholes_Call(S, K, r, vol, tau):\n",
    "    \"\"\" \n",
    "    Black Scholes Model for European Call\n",
    "    \"\"\"\n",
    "    d1 = (np.log(S / K) + (r + ((vol**2)/2.)*tau)) / (vol*np.sqrt(tau))\n",
    "    d2 = d1 - vol*np.sqrt(tau)\n",
    "    V = S * norm.cdf(d1) - np.exp(-r*tau) * K * norm.cdf(d2)\n",
    "    \n",
    "    return V"
   ]
  },
  {
   "cell_type": "code",
   "execution_count": 3,
   "id": "5c276d20",
   "metadata": {},
   "outputs": [],
   "source": [
    "def chi(a, b, c, d, k):\n",
    "    ''' Equation 22 '''\n",
    "    bma = b-a\n",
    "    uu  = k * np.pi/bma\n",
    "    first = (k*np.pi) * ((d-a)/bma)\n",
    "    second = (k*np.pi) * ((c-a)/bma)\n",
    "\n",
    "    return (1/(1+np.power(uu,2))) * ( np.cos(first)*np.exp(d) -  np.cos(second)*np.exp(c) +\n",
    "                uu*np.sin(first)*np.exp(d) - uu*np.sin(second)*np.exp(c) )\n",
    "\n",
    "def psi(a, b, c, d, k):\n",
    "    ''' Equation 23 '''\n",
    "    bma = b-a\n",
    "    uu = k * np.pi/bma\n",
    "\n",
    "    if k == 0:\n",
    "        return d -c\n",
    "    else: \n",
    "        return (1/uu) * (np.sin(uu * (d-a)) - np.sin(uu * (c-a)))\n",
    "\n",
    "def phi(u, r, sigma, T):\n",
    "    ''' Assigment 3. GBM '''\n",
    "    phi_temp = np.exp(1j * u*T * (r - 0.5 * np.power(sigma,2))  - 0.5 * np.power(sigma,2) * T * np.power(u,2))\n",
    "    return phi_temp\n",
    "\n",
    "def V(a,b,k):\n",
    "    ''' Equation 24 '''\n",
    "    return K*2/(b-a) *  (chi(a, b, 0, b, k) - psi(a, b, 0, b, k))\n",
    "\n",
    "def F(u,a,b,k):\n",
    "    ''' Equation 9 '''\n",
    "    return np.real(phi(u, r, sigma, T) * (np.exp(1j * k * np.pi * (x-a)/(b-a))))"
   ]
  },
  {
   "cell_type": "code",
   "execution_count": 4,
   "id": "1737921d",
   "metadata": {},
   "outputs": [],
   "source": [
    "S0, K, r, sigma, T = 100, 110, 0.04, 0.3, 1\n",
    "a = np.log(S0/K) + r - 12*np.sqrt(sigma*sigma*T)\n",
    "b = np.log(S0/K) + r + 12*np.sqrt(sigma*sigma*T)"
   ]
  },
  {
   "cell_type": "code",
   "execution_count": 5,
   "id": "196330f0",
   "metadata": {},
   "outputs": [
    {
     "data": {
      "text/plain": [
       "9.625357828843875"
      ]
     },
     "execution_count": 5,
     "metadata": {},
     "output_type": "execute_result"
    }
   ],
   "source": [
    "''' Equation 19 '''\n",
    "fourier = []\n",
    "x  = np.log(S0/K)\n",
    "\n",
    "for i in range(64):\n",
    "    u = i * np.pi/(b-a)\n",
    "    V_temp = V(a,b,i)\n",
    "    F_temp = F(u,a,b,i)\n",
    "    \n",
    "    if i == 0:\n",
    "        F_temp = F_temp * 0.5\n",
    "    \n",
    "    fourier.append(V_temp*F_temp)\n",
    "\n",
    "np.sum(fourier) * np.exp(-r * T)"
   ]
  },
  {
   "cell_type": "code",
   "execution_count": 6,
   "id": "eb935544",
   "metadata": {},
   "outputs": [
    {
     "data": {
      "text/plain": [
       "9.625357828843697"
      ]
     },
     "execution_count": 6,
     "metadata": {},
     "output_type": "execute_result"
    }
   ],
   "source": [
    "Black_Scholes_Call(S0, K, r, sigma, T)"
   ]
  },
  {
   "cell_type": "code",
   "execution_count": null,
   "id": "ee5d098e",
   "metadata": {},
   "outputs": [],
   "source": []
  }
 ],
 "metadata": {
  "kernelspec": {
   "display_name": "Python 3 (ipykernel)",
   "language": "python",
   "name": "python3"
  },
  "language_info": {
   "codemirror_mode": {
    "name": "ipython",
    "version": 3
   },
   "file_extension": ".py",
   "mimetype": "text/x-python",
   "name": "python",
   "nbconvert_exporter": "python",
   "pygments_lexer": "ipython3",
   "version": "3.9.7"
  }
 },
 "nbformat": 4,
 "nbformat_minor": 5
}
