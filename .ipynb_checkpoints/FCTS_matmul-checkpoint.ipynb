{
 "cells": [
  {
   "cell_type": "code",
   "execution_count": 17,
   "id": "cc33c64e",
   "metadata": {},
   "outputs": [],
   "source": [
    "import numpy as np\n",
    "import math\n",
    "import matplotlib.pyplot as plt\n",
    "import scipy.linalg as linalg\n",
    "from numba import jit\n",
    "import scipy\n",
    "from joblib import Parallel, delayed"
   ]
  },
  {
   "cell_type": "code",
   "execution_count": 2,
   "id": "0d1abd3e",
   "metadata": {},
   "outputs": [],
   "source": [
    "from scipy.stats import norm\n",
    "def Black_Scholes_Call(S, K, r, vol, tau):\n",
    "    \"\"\" \n",
    "    Black Scholes Model for European Call\n",
    "    \"\"\"\n",
    "    d1 = (np.log(S / K) + (r + ((vol**2)/2.)*tau)) / (vol*np.sqrt(tau))\n",
    "    d2 = d1 - vol*np.sqrt(tau)\n",
    "    V = S * norm.cdf(d1) - np.exp(-r*tau) * K * norm.cdf(d2)\n",
    "    \n",
    "    return V"
   ]
  },
  {
   "cell_type": "markdown",
   "id": "fb515f74",
   "metadata": {},
   "source": [
    "For this equation, we conclude that\n",
    "\\begin{align}\n",
    "    \\vec{a_{-1}} &= \\frac{1}{2}\\sigma^{2}\\frac{\\Delta\\tau}{\\Delta X^{2}} - \\frac{\\Delta\\tau}{2\\Delta X}(r-\\frac{1}{2}\\sigma^{2}) \\\\\n",
    "    \\vec{a_{0}} &=  1- \\sigma^{2}\\frac{\\Delta\\tau}{\\Delta X^{2}} - r\\Delta\\tau\\\\\n",
    "    \\vec{a_{+1}} &=  \\frac{\\Delta\\tau}{2\\Delta X}(r-\\frac{1}{2}\\sigma^{2})+\\frac{1}{2}\\sigma^{2}\\frac{\\Delta\\tau}{\\Delta X^{2}}\n",
    "\\end{align}"
   ]
  },
  {
   "cell_type": "code",
   "execution_count": 40,
   "id": "891f825f",
   "metadata": {},
   "outputs": [],
   "source": [
    "#@jit(fastmath=True,nopython=False)\n",
    "def FD(S, K, r, sigma, T, N, M, scheme=\"FCTS\"):\n",
    "    # Compute delta T\n",
    "    dt = T/N\n",
    "    M_h = int(M/2)\n",
    "    M -= 1\n",
    "    S_log = np.log(S)\n",
    "    \n",
    "    Xp1 = np.logspace(0,S_log,M_h,endpoint=True, base=math.e)\n",
    "    Xp2 = np.logspace(S_log,S_log*2,M_h,endpoint=True, base=math.e)\n",
    "    X_true = [*Xp1, *Xp2[1:]]\n",
    "    X = np.log(X_true)\n",
    "        \n",
    "    dx = (X[-1] - X[0])/(M-1);\n",
    "  \n",
    "    s_max = X_true[-1]\n",
    "    s_min = 0\n",
    "    \n",
    "    \n",
    "    # Generate stock prices on log scale\n",
    "    # Generate T * S grid\n",
    "    V = np.zeros((M,N))\n",
    "\n",
    "    # Put the discounted values into the first column\n",
    "    V[:, 0] = [max(np.exp(s)-K,0) for s in X]\n",
    "    V[0, -1] = s_max\n",
    "    V[0, 0] = s_min\n",
    "    # Fucking constants\n",
    "    ss = sigma * sigma\n",
    "    dxx = dx*dx\n",
    "    \n",
    "    # a-1, a0, a+1\n",
    "    if scheme==\"FCTS\":\n",
    "        f = (0.5*ss * dt / dxx)\n",
    "        g = (r-0.5*ss) *dt / (2*dx)\n",
    "        h = r * dt\n",
    "        \n",
    "        ad = f-g\n",
    "        a0 = 1-2*f - h\n",
    "        au = f+g\n",
    "    else:       \n",
    "        f = ((r-0.5*ss) * (dt/(4*dx)))\n",
    "        g = (ss*dt)/(4*dxx)\n",
    "        h = (r*dt/2)\n",
    "        \n",
    "        ad = g-f\n",
    "        a0 = 1-2*g-h\n",
    "        au = g+f\n",
    "        \n",
    "        \n",
    "        bd = f-g\n",
    "        b0 = 1+2*g+h\n",
    "        bu = -f-g\n",
    "        \n",
    "        \n",
    "    # Generate matrix A\n",
    "    A = np.zeros((M,M))\n",
    "    \n",
    "    np.fill_diagonal(A[1:], ad)\n",
    "    np.fill_diagonal(A[:,1:], au)\n",
    "    np.fill_diagonal(A, a0)\n",
    "    A[0,0], A[0,1], A[-1,-2], A[-1,-1] = 1,0, 0,1\n",
    "    \n",
    "    if scheme == \"CN\":\n",
    "        B = np.zeros((M,M))\n",
    "    \n",
    "        np.fill_diagonal(B[1:], bd)\n",
    "        np.fill_diagonal(B[:,1:], bu)\n",
    "        np.fill_diagonal(B, b0)\n",
    "        \n",
    "        B[0,0], B[0,1], B[-1,-2], B[-1,-1] = 1,0, 0,1\n",
    "\n",
    "        \n",
    "    # main loop\n",
    "    if scheme == \"CN\":\n",
    "        for i in range(1,N):\n",
    "            b = np.matmul(A, V[:, i-1])\n",
    "            V[:, i]  = TDMA(B.diagonal(-1),B.diagonal(0), B.diagonal(+1), b)\n",
    "    else:\n",
    "        for i in range(1,N):\n",
    "            V[:, i] = np.matmul(A, V[:, i-1])\n",
    "\n",
    "    return A, V , X\n",
    "\n",
    "# returns the answer from a result object\n",
    "def get_ans(result, S):\n",
    "    nearest_idx = np.where(abs(np.exp(result[2])-S)==abs(np.exp(result[2])-S).min())[0]\n",
    "    return result[1][nearest_idx, -1]\n",
    "\n",
    "#https://stackoverflow.com/questions/8733015/tridiagonal-matrix-algorithm-tdma-aka-thomas-algorithm-using-python-with-nump\n",
    "@jit(nopython=False)\n",
    "def TDMA(a,b,c,d):\n",
    "    n = len(d)\n",
    "    w= np.zeros(n-1,float)\n",
    "    g= np.zeros(n, float)\n",
    "    p = np.zeros(n,float)\n",
    "    \n",
    "    w[0] = c[0]/b[0]\n",
    "    g[0] = d[0]/b[0]\n",
    "\n",
    "    for i in range(1,n-1):\n",
    "        w[i] = c[i]/(b[i] - a[i-1]*w[i-1])\n",
    "    for i in range(1,n):\n",
    "        g[i] = (d[i] - a[i-1]*g[i-1])/(b[i] - a[i-1]*w[i-1])\n",
    "    p[n-1] = g[n-1]\n",
    "    for i in range(n-1,0,-1):\n",
    "        p[i-1] = g[i-1] - w[i-1]*p[i]\n",
    "    return p"
   ]
  },
  {
   "cell_type": "code",
   "execution_count": 4,
   "id": "9fc94756",
   "metadata": {},
   "outputs": [],
   "source": [
    "sigma = 0.3\n",
    "K = 110\n",
    "S = 100\n",
    "r = 0.04\n",
    "T = 1\n",
    "N = 1000 # time points\n",
    "M =  600# space points"
   ]
  },
  {
   "cell_type": "code",
   "execution_count": 5,
   "id": "c51f611d",
   "metadata": {},
   "outputs": [
    {
     "name": "stdout",
     "output_type": "stream",
     "text": [
      "Wall time: 999 µs\n"
     ]
    },
    {
     "data": {
      "text/plain": [
       "9.625357828843697"
      ]
     },
     "execution_count": 5,
     "metadata": {},
     "output_type": "execute_result"
    }
   ],
   "source": [
    "%%time\n",
    "Black_Scholes_Call(S, K, r, sigma, T)"
   ]
  },
  {
   "cell_type": "code",
   "execution_count": 6,
   "id": "c62bf428",
   "metadata": {},
   "outputs": [
    {
     "name": "stdout",
     "output_type": "stream",
     "text": [
      "Wall time: 113 ms\n"
     ]
    },
    {
     "data": {
      "text/plain": [
       "array([9.61802851])"
      ]
     },
     "execution_count": 6,
     "metadata": {},
     "output_type": "execute_result"
    }
   ],
   "source": [
    "%%time\n",
    "result = FD(S, K, r, sigma, T, N, M, scheme=\"FCTS\")\n",
    "get_ans(result, S)"
   ]
  },
  {
   "cell_type": "code",
   "execution_count": 9,
   "id": "7a272409",
   "metadata": {},
   "outputs": [],
   "source": [
    "import logging;\n",
    "logging.disable(logging.WARNING)"
   ]
  },
  {
   "cell_type": "code",
   "execution_count": 10,
   "id": "2105e6ef",
   "metadata": {},
   "outputs": [
    {
     "name": "stdout",
     "output_type": "stream",
     "text": [
      "Wall time: 136 ms\n"
     ]
    },
    {
     "data": {
      "text/plain": [
       "array([9.61665255])"
      ]
     },
     "execution_count": 10,
     "metadata": {},
     "output_type": "execute_result"
    }
   ],
   "source": [
    "%%time\n",
    "result = FD(S, K, r, sigma, T, N, M, scheme=\"CN\")\n",
    "get_ans(result, S)"
   ]
  },
  {
   "cell_type": "markdown",
   "id": "8e12fb2a",
   "metadata": {},
   "source": [
    "## Experiments"
   ]
  },
  {
   "cell_type": "markdown",
   "id": "eb0bf167",
   "metadata": {},
   "source": [
    "### Space experiment"
   ]
  },
  {
   "cell_type": "code",
   "execution_count": 21,
   "id": "2c1bdb6b",
   "metadata": {},
   "outputs": [],
   "source": [
    "def space_experiment(scheme, points):\n",
    "    results = Parallel(n_jobs=10)(delayed(FD)(S, K, r, sigma, T, N, M=int(point), scheme=scheme)\n",
    "                                 for point in points)\n",
    "    final = []\n",
    "    for result in results:\n",
    "        final.append(get_ans(result, S))\n",
    "        \n",
    "    return final"
   ]
  },
  {
   "cell_type": "code",
   "execution_count": 22,
   "id": "4130d74d",
   "metadata": {},
   "outputs": [
    {
     "data": {
      "text/plain": [
       "[<matplotlib.lines.Line2D at 0x187c4bf3df0>]"
      ]
     },
     "execution_count": 22,
     "metadata": {},
     "output_type": "execute_result"
    },
    {
     "data": {
      "image/png": "[encoded data removed]",
      "text/plain": [
       "<Figure size 432x288 with 1 Axes>"
      ]
     },
     "metadata": {
      "needs_background": "light"
     },
     "output_type": "display_data"
    }
   ],
   "source": [
    "points = np.arange(50,800,10)\n",
    "y = space_experiment(\"FCTS\", points)\n",
    "plt.plot(points, abs(y-Black_Scholes_Call(S, K, r, sigma, T)))"
   ]
  },
  {
   "cell_type": "code",
   "execution_count": 26,
   "id": "bae7d853",
   "metadata": {},
   "outputs": [
    {
     "data": {
      "text/plain": [
       "[<matplotlib.lines.Line2D at 0x187c4c2fd90>]"
      ]
     },
     "execution_count": 26,
     "metadata": {},
     "output_type": "execute_result"
    },
    {
     "data": {
      "image/png": "[encoded data removed]",
      "text/plain": [
       "<Figure size 432x288 with 1 Axes>"
      ]
     },
     "metadata": {
      "needs_background": "light"
     },
     "output_type": "display_data"
    }
   ],
   "source": [
    "y = space_experiment(\"CN\", points)\n",
    "plt.plot(points, abs(y-Black_Scholes_Call(S, K, r, sigma, T)))"
   ]
  },
  {
   "cell_type": "code",
   "execution_count": 27,
   "id": "4738f5a6",
   "metadata": {},
   "outputs": [
    {
     "data": {
      "text/plain": [
       "[<matplotlib.lines.Line2D at 0x18780001130>]"
      ]
     },
     "execution_count": 27,
     "metadata": {},
     "output_type": "execute_result"
    },
    {
     "data": {
      "image/png": "[encoded data removed]",
      "text/plain": [
       "<Figure size 432x288 with 1 Axes>"
      ]
     },
     "metadata": {
      "needs_background": "light"
     },
     "output_type": "display_data"
    }
   ],
   "source": [
    "points = np.arange(1000,7000,500)\n",
    "y = space_experiment(\"CN\", points)\n",
    "plt.plot(points, abs(y-Black_Scholes_Call(S, K, r, sigma, T)))"
   ]
  },
  {
   "cell_type": "code",
   "execution_count": 29,
   "id": "d31aea80",
   "metadata": {},
   "outputs": [
    {
     "data": {
      "text/plain": [
       "[<matplotlib.lines.Line2D at 0x187c5050760>]"
      ]
     },
     "execution_count": 29,
     "metadata": {},
     "output_type": "execute_result"
    },
    {
     "data": {
      "image/png": "[encoded data removed]",
      "text/plain": [
       "<Figure size 432x288 with 1 Axes>"
      ]
     },
     "metadata": {
      "needs_background": "light"
     },
     "output_type": "display_data"
    }
   ],
   "source": [
    "y = space_experiment(\"FCTS\", points)\n",
    "plt.plot(points, abs(y-Black_Scholes_Call(S, K, r, sigma, T)))"
   ]
  },
  {
   "cell_type": "code",
   "execution_count": 30,
   "id": "47842a64",
   "metadata": {},
   "outputs": [
    {
     "data": {
      "image/png": "[encoded data removed]",
      "text/plain": [
       "<Figure size 432x288 with 1 Axes>"
      ]
     },
     "metadata": {
      "needs_background": "light"
     },
     "output_type": "display_data"
    }
   ],
   "source": [
    "fig = plt.figure()\n",
    "ax = fig.add_subplot(111)\n",
    "ax.plot(points, abs(y-Black_Scholes_Call(S, K, r, sigma, T)))\n",
    "ax.set_yscale(\"log\")"
   ]
  },
  {
   "cell_type": "markdown",
   "id": "4df95025",
   "metadata": {},
   "source": [
    "### Experiment 2: Time points"
   ]
  },
  {
   "cell_type": "code",
   "execution_count": 34,
   "id": "0e46b23c",
   "metadata": {},
   "outputs": [],
   "source": [
    "def time_experiment(scheme, points):\n",
    "    results = Parallel(n_jobs=10)(delayed(FD)(S, K, r, sigma, T, N=point, M=M, scheme=scheme)\n",
    "                                 for point in points)\n",
    "    final = []\n",
    "    for result in results:\n",
    "        final.append(get_ans(result, S))\n",
    "        \n",
    "    return final"
   ]
  },
  {
   "cell_type": "code",
   "execution_count": 36,
   "id": "727c6b31",
   "metadata": {},
   "outputs": [
    {
     "data": {
      "text/plain": [
       "[<matplotlib.lines.Line2D at 0x18780238640>]"
      ]
     },
     "execution_count": 36,
     "metadata": {},
     "output_type": "execute_result"
    },
    {
     "data": {
      "image/png": "[encoded data removed]",
      "text/plain": [
       "<Figure size 432x288 with 1 Axes>"
      ]
     },
     "metadata": {
      "needs_background": "light"
     },
     "output_type": "display_data"
    }
   ],
   "source": [
    "points = np.arange(50,800,10)\n",
    "y = time_experiment(\"FCTS\", points)\n",
    "plt.plot(points, abs(y-Black_Scholes_Call(S, K, r, sigma, T)))"
   ]
  },
  {
   "cell_type": "code",
   "execution_count": 37,
   "id": "c6bcab1c",
   "metadata": {},
   "outputs": [
    {
     "data": {
      "text/plain": [
       "[<matplotlib.lines.Line2D at 0x18783a9fc70>]"
      ]
     },
     "execution_count": 37,
     "metadata": {},
     "output_type": "execute_result"
    },
    {
     "data": {
      "image/png": "[encoded data removed]",
      "text/plain": [
       "<Figure size 432x288 with 1 Axes>"
      ]
     },
     "metadata": {
      "needs_background": "light"
     },
     "output_type": "display_data"
    }
   ],
   "source": [
    "points = np.arange(50,800,10)\n",
    "y = time_experiment(\"CN\", points)\n",
    "plt.plot(points, abs(y-Black_Scholes_Call(S, K, r, sigma, T)))"
   ]
  },
  {
   "cell_type": "code",
   "execution_count": 38,
   "id": "fdc03883",
   "metadata": {},
   "outputs": [
    {
     "data": {
      "text/plain": [
       "[<matplotlib.lines.Line2D at 0x187802766a0>]"
      ]
     },
     "execution_count": 38,
     "metadata": {},
     "output_type": "execute_result"
    },
    {
     "data": {
      "image/png": "[encoded data removed]",
      "text/plain": [
       "<Figure size 432x288 with 1 Axes>"
      ]
     },
     "metadata": {
      "needs_background": "light"
     },
     "output_type": "display_data"
    }
   ],
   "source": [
    "points = np.arange(1000,7000,500)\n",
    "y = time_experiment(\"CN\", points)\n",
    "plt.plot(points, abs(y-Black_Scholes_Call(S, K, r, sigma, T)))"
   ]
  },
  {
   "cell_type": "code",
   "execution_count": 39,
   "id": "c764e190",
   "metadata": {},
   "outputs": [
    {
     "data": {
      "text/plain": [
       "[<matplotlib.lines.Line2D at 0x187802d2ee0>]"
      ]
     },
     "execution_count": 39,
     "metadata": {},
     "output_type": "execute_result"
    },
    {
     "data": {
      "image/png": "[encoded data removed]",
      "text/plain": [
       "<Figure size 432x288 with 1 Axes>"
      ]
     },
     "metadata": {
      "needs_background": "light"
     },
     "output_type": "display_data"
    }
   ],
   "source": [
    "points = np.arange(1000,7000,500)\n",
    "y = time_experiment(\"FCTS\", points)\n",
    "plt.plot(points, abs(y-Black_Scholes_Call(S, K, r, sigma, T)))"
   ]
  },
  {
   "cell_type": "markdown",
   "id": "df144da3",
   "metadata": {},
   "source": [
    "### Conlusion: run CN with big mesh"
   ]
  },
  {
   "cell_type": "code",
   "execution_count": null,
   "id": "b792d838",
   "metadata": {},
   "outputs": [
    {
     "name": "stderr",
     "output_type": "stream",
     "text": [
      "<ipython-input-40-0b8fb1c0448c>:91: NumbaWarning: \u001b[1m\n",
      "Compilation is falling back to object mode WITH looplifting enabled because Function \"TDMA\" failed type inference due to: \u001b[1m\u001b[1m\u001b[1mNo implementation of function Function(<built-in function zeros>) found for signature:\n",
      " \n",
      " >>> zeros(int64, Function(<class 'float'>))\n",
      " \n",
      "There are 4 candidate implementations:\n",
      "\u001b[1m      - Of which 4 did not match due to:\n",
      "      Overload in function '_OverloadWrapper._build.<locals>.ol_generated': File: numba\\core\\overload_glue.py: Line 131.\n",
      "        With argument(s): '(int64, Function(<class 'float'>))':\u001b[0m\n",
      "\u001b[1m       Rejected as the implementation raised a specific error:\n",
      "         TypingError: Failed in nopython mode pipeline (step: nopython frontend)\n",
      "       \u001b[1m\u001b[1m\u001b[1mNo implementation of function Function(<intrinsic stub>) found for signature:\n",
      "        \n",
      "        >>> stub(int64, Function(<class 'float'>))\n",
      "        \n",
      "       There are 2 candidate implementations:\n",
      "       \u001b[1m  - Of which 2 did not match due to:\n",
      "         Intrinsic of function 'stub': File: numba\\core\\overload_glue.py: Line 35.\n",
      "           With argument(s): '(int64, Function(<class 'float'>))':\u001b[0m\n",
      "       \u001b[1m   No match.\u001b[0m\n",
      "       \u001b[0m\n",
      "       \u001b[0m\u001b[1mDuring: resolving callee type: Function(<intrinsic stub>)\u001b[0m\n",
      "       \u001b[0m\u001b[1mDuring: typing of call at <string> (3)\n",
      "       \u001b[0m\n",
      "       \u001b[1m\n",
      "       File \"<string>\", line 3:\u001b[0m\n",
      "       \u001b[1m<source missing, REPL/exec in use?>\u001b[0m\n",
      "\u001b[0m\n",
      "  raised from c:\\users\\jwant\\appdata\\local\\programs\\python\\python39\\lib\\site-packages\\numba\\core\\typeinfer.py:1086\n",
      "\u001b[0m\n",
      "\u001b[0m\u001b[1mDuring: resolving callee type: Function(<built-in function zeros>)\u001b[0m\n",
      "\u001b[0m\u001b[1mDuring: typing of call at <ipython-input-40-0b8fb1c0448c> (94)\n",
      "\u001b[0m\n",
      "\u001b[1m\n",
      "File \"<ipython-input-40-0b8fb1c0448c>\", line 94:\u001b[0m\n",
      "\u001b[1mdef TDMA(a,b,c,d):\n",
      "    <source elided>\n",
      "    n = len(d)\n",
      "\u001b[1m    w= np.zeros(n-1,float)\n",
      "\u001b[0m    \u001b[1m^\u001b[0m\u001b[0m\n",
      "\u001b[0m\n",
      "  @jit(nopython=False)\n",
      "<ipython-input-40-0b8fb1c0448c>:91: NumbaWarning: \u001b[1m\n",
      "Compilation is falling back to object mode WITHOUT looplifting enabled because Function \"TDMA\" failed type inference due to: \u001b[1m\u001b[1mCannot determine Numba type of <class 'numba.core.dispatcher.LiftedLoop'>\u001b[0m\n",
      "\u001b[1m\n",
      "File \"<ipython-input-40-0b8fb1c0448c>\", line 101:\u001b[0m\n",
      "\u001b[1mdef TDMA(a,b,c,d):\n",
      "    <source elided>\n",
      "\n",
      "\u001b[1m    for i in range(1,n-1):\n",
      "\u001b[0m    \u001b[1m^\u001b[0m\u001b[0m\n",
      "\u001b[0m\u001b[0m\n",
      "  @jit(nopython=False)\n",
      "c:\\users\\jwant\\appdata\\local\\programs\\python\\python39\\lib\\site-packages\\numba\\core\\object_mode_passes.py:151: NumbaWarning: \u001b[1mFunction \"TDMA\" was compiled in object mode without forceobj=True, but has lifted loops.\n",
      "\u001b[1m\n",
      "File \"<ipython-input-40-0b8fb1c0448c>\", line 93:\u001b[0m\n",
      "\u001b[1mdef TDMA(a,b,c,d):\n",
      "\u001b[1m    n = len(d)\n",
      "\u001b[0m    \u001b[1m^\u001b[0m\u001b[0m\n",
      "\u001b[0m\n",
      "  warnings.warn(errors.NumbaWarning(warn_msg,\n",
      "c:\\users\\jwant\\appdata\\local\\programs\\python\\python39\\lib\\site-packages\\numba\\core\\object_mode_passes.py:161: NumbaDeprecationWarning: \u001b[1m\n",
      "Fall-back from the nopython compilation path to the object mode compilation path has been detected, this is deprecated behaviour.\n",
      "\n",
      "For more information visit https://numba.readthedocs.io/en/stable/reference/deprecation.html#deprecation-of-object-mode-fall-back-behaviour-when-using-jit\n",
      "\u001b[1m\n",
      "File \"<ipython-input-40-0b8fb1c0448c>\", line 93:\u001b[0m\n",
      "\u001b[1mdef TDMA(a,b,c,d):\n",
      "\u001b[1m    n = len(d)\n",
      "\u001b[0m    \u001b[1m^\u001b[0m\u001b[0m\n",
      "\u001b[0m\n",
      "  warnings.warn(errors.NumbaDeprecationWarning(msg,\n"
     ]
    }
   ],
   "source": [
    "result = FD(S, K, r, sigma, T, 10000, 10000, scheme=\"CN\")\n",
    "get_ans(result, S)"
   ]
  }
 ],
 "metadata": {
  "kernelspec": {
   "display_name": "Python 3",
   "language": "python",
   "name": "python3"
  },
  "language_info": {
   "codemirror_mode": {
    "name": "ipython",
    "version": 3
   },
   "file_extension": ".py",
   "mimetype": "text/x-python",
   "name": "python",
   "nbconvert_exporter": "python",
   "pygments_lexer": "ipython3",
   "version": "3.9.2"
  }
 },
 "nbformat": 4,
 "nbformat_minor": 5
}
