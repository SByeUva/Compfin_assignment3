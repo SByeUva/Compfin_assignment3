{
 "cells": [
  {
   "cell_type": "code",
   "execution_count": 1,
   "id": "cc33c64e",
   "metadata": {},
   "outputs": [],
   "source": [
    "import numpy as np\n",
    "import math\n",
    "import matplotlib.pyplot as plt\n",
    "import scipy.linalg as linalg\n",
    "from numba import jit"
   ]
  },
  {
   "cell_type": "code",
   "execution_count": 2,
   "id": "0d1abd3e",
   "metadata": {},
   "outputs": [],
   "source": [
    "from scipy.stats import norm\n",
    "def Black_Scholes_Call(S, K, r, vol, tau):\n",
    "    \"\"\" \n",
    "    Black Scholes Model for European Call\n",
    "    \"\"\"\n",
    "    d1 = (np.log(S / K) + (r + ((vol**2)/2.)*tau)) / (vol*np.sqrt(tau))\n",
    "    d2 = d1 - vol*np.sqrt(tau)\n",
    "    V = S * norm.cdf(d1) - np.exp(-r*tau) * K * norm.cdf(d2)\n",
    "    \n",
    "    return V"
   ]
  },
  {
   "cell_type": "markdown",
   "id": "96967e18",
   "metadata": {},
   "source": [
    "For this equation, we conclude that\n",
    "\\begin{align}\n",
    "    \\vec{a_{-1}} &= \\frac{1}{2}\\sigma^{2}\\frac{\\Delta\\tau}{\\Delta X^{2}} - \\frac{\\Delta\\tau}{2\\Delta X}(r-\\frac{1}{2}\\sigma^{2}) \\\\\n",
    "    \\vec{a_{0}} &=  1- \\sigma^{2}\\frac{\\Delta\\tau}{\\Delta X^{2}} - r\\Delta\\tau\\\\\n",
    "    \\vec{a_{+1}} &=  \\frac{\\Delta\\tau}{2\\Delta X}(r-\\frac{1}{2}\\sigma^{2})+\\frac{1}{2}\\sigma^{2}\\frac{\\Delta\\tau}{\\Delta X^{2}}\n",
    "\\end{align}"
   ]
  },
  {
   "cell_type": "code",
   "execution_count": null,
   "id": "668cffae",
   "metadata": {},
   "outputs": [],
   "source": [
    "smax = 10000\n",
    "smin = 1\n",
    "xaxis =  np.linspace(np.log(smin), np.log(smax), M)\n",
    "dx = (xaxis[-1] - xaxis[0]) / M"
   ]
  },
  {
   "cell_type": "code",
   "execution_count": 31,
   "id": "938d6a46",
   "metadata": {},
   "outputs": [],
   "source": [
    "dt = T/N\n",
    "x_max = np.log(S) + 12*sigma*np.sqrt(T);\n",
    "x_min = np.log(S) - 12*sigma*np.sqrt(T);\n",
    "dx = (x_max - x_min)/M;\n",
    "ss = sigma**2\n",
    "dxx = dx**2\n",
    "\n",
    "up = ((0.5*(sigma**2) * dt / dx**2)    +    ((r-0.5*(sigma**2)) *dt / (2*dx)))\n",
    "\n",
    "ad = (dt/2)* ((r - 1/2*ss)/dx - ss/dxx)"
   ]
  },
  {
   "cell_type": "code",
   "execution_count": 504,
   "id": "891f825f",
   "metadata": {},
   "outputs": [],
   "source": [
    "def FD(S, K, r, sigma, T, N, M, scheme=\"FCTS\"):\n",
    "    # Compute delta T\n",
    "    dt = T/N\n",
    "        \n",
    "    s_max = 10000\n",
    "    s_min = 1\n",
    "    X = np.linspace(np.log(s_min), np.log(s_max), M)\n",
    "    dx = (X[-1] - X[0])/(M-1);\n",
    "\n",
    "    # Generate stock prices on log scale\n",
    "    # Generate T * S grid\n",
    "    V = np.zeros((N,M))\n",
    "\n",
    "    # Put the discounted values into the first column\n",
    "    V[0, :] = [max(np.exp(s)-K,0) for s in X]\n",
    "    V[0, -1] = s_min\n",
    "    V[0, 0] = s_max\n",
    "    # Fucking constants\n",
    "    ss = sigma * sigma\n",
    "    dxx = dx*dx\n",
    "    \n",
    "    # a-1, a0, a+1\n",
    "    if scheme==\"FCTS\":\n",
    "        ad = ((0.5*(sigma**2) * dt / dx**2)    -    ((r-0.5*(sigma**2)) *dt / (2*dx)))\n",
    "        a0 = (1-((sigma**2) * dt / dx**2) - r * dt)\n",
    "        au = ((0.5*(sigma**2) * dt / dx**2)    +    ((r-0.5*(sigma**2)) *dt / (2*dx)))\n",
    "    else:\n",
    "        ad = (ss*dt)/(4*dxx) - ((r-0.5*ss) * (dt/4*dx))\n",
    "        a0 = (-2*((ss*dt)/(4*dxx)) + (r*dt/2) + 1)\n",
    "        au = (ss*dt)/(4*dxx) + ((r-0.5*ss) * (dt/4*dx))\n",
    "        \n",
    "        bd\n",
    "        b0\n",
    "        bu\n",
    "        \n",
    "    # Generate matrix A\n",
    "    A = np.zeros((M,M))\n",
    "    \n",
    "    np.fill_diagonal(A[1:], ad)\n",
    "    np.fill_diagonal(A[:,1:], au)\n",
    "    np.fill_diagonal(A, a0)\n",
    "    \n",
    "    A[0,0], A[0,1], A[-1,-2], A[-1,-1] = 1, 0, 1,1\n",
    "    \n",
    "    # V[n+1] = A * V[m]\n",
    "    #return A, V\n",
    "    for i in range(1,N):\n",
    "        V[i] = np.matmul(A, V[i-1])\n",
    "\n",
    "    return A, V , X"
   ]
  },
  {
   "cell_type": "code",
   "execution_count": 501,
   "id": "9fc94756",
   "metadata": {},
   "outputs": [],
   "source": [
    "sigma = 0.3\n",
    "K = 110\n",
    "S = 130\n",
    "r = 0.04\n",
    "T = 1\n",
    "N = 1500# time points\n",
    "M =  300# space points"
   ]
  },
  {
   "cell_type": "code",
   "execution_count": 502,
   "id": "c51f611d",
   "metadata": {},
   "outputs": [
    {
     "data": {
      "text/plain": [
       "29.38930249574946"
      ]
     },
     "execution_count": 502,
     "metadata": {},
     "output_type": "execute_result"
    }
   ],
   "source": [
    "Black_Scholes_Call(S, K, r, sigma, T)"
   ]
  },
  {
   "cell_type": "code",
   "execution_count": 493,
   "id": "e81da210",
   "metadata": {
    "scrolled": true
   },
   "outputs": [],
   "source": [
    "result = FD(S, K, r, sigma, T, N, M, scheme=\"FCTS\")"
   ]
  },
  {
   "cell_type": "code",
   "execution_count": 503,
   "id": "47bafae5",
   "metadata": {
    "scrolled": false
   },
   "outputs": [
    {
     "data": {
      "text/plain": [
       "array([29.33014133])"
      ]
     },
     "execution_count": 503,
     "metadata": {},
     "output_type": "execute_result"
    }
   ],
   "source": [
    "result[2][abs(np.exp(result[2])-S)==abs(np.exp(result[2])-S).min()]\n",
    "\n",
    "nearest_idx = np.where(abs(np.exp(result[2])-S)==abs(np.exp(result[2])-S).min())[0]\n",
    "result[1][-1][nearest_idx]"
   ]
  },
  {
   "cell_type": "code",
   "execution_count": null,
   "id": "716704cc",
   "metadata": {},
   "outputs": [],
   "source": []
  },
  {
   "cell_type": "code",
   "execution_count": null,
   "id": "d2f78323",
   "metadata": {},
   "outputs": [],
   "source": []
  }
 ],
 "metadata": {
  "kernelspec": {
   "display_name": "Python 3",
   "language": "python",
   "name": "python3"
  },
  "language_info": {
   "codemirror_mode": {
    "name": "ipython",
    "version": 3
   },
   "file_extension": ".py",
   "mimetype": "text/x-python",
   "name": "python",
   "nbconvert_exporter": "python",
   "pygments_lexer": "ipython3",
   "version": "3.9.2"
  }
 },
 "nbformat": 4,
 "nbformat_minor": 5
}
