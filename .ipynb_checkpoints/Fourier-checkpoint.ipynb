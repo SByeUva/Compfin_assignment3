{
 "cells": [
  {
   "cell_type": "code",
   "execution_count": 1,
   "id": "cbf8ed7e",
   "metadata": {},
   "outputs": [],
   "source": [
    "'''\n",
    "Equations referenced are from Fang and Oosterlee (2008)\n",
    "'''\n",
    "import numpy as np\n",
    "import matplotlib.pyplot as plot\n",
    "from scipy.stats import norm"
   ]
  },
  {
   "cell_type": "code",
   "execution_count": 2,
   "id": "0a7a3afc",
   "metadata": {},
   "outputs": [],
   "source": [
    "def Black_Scholes_Call(S, K, r, vol, tau):\n",
    "    \"\"\" \n",
    "    Black Scholes Model for European Call\n",
    "    \"\"\"\n",
    "    d1 = (np.log(S / K) + (r + ((vol**2)/2.)*tau)) / (vol*np.sqrt(tau))\n",
    "    d2 = d1 - vol*np.sqrt(tau)\n",
    "    V = S * norm.cdf(d1) - np.exp(-r*tau) * K * norm.cdf(d2)\n",
    "    \n",
    "    return V"
   ]
  },
  {
   "cell_type": "code",
   "execution_count": null,
   "id": "edd3bb02",
   "metadata": {},
   "outputs": [],
   "source": [
    "def Cos_method(S0, K, r, vol, tau, N):\n",
    "    \n",
    "    # Compute integration bounds\n",
    "    a = np.log(S0/K) + r - 12*np.sqrt(sigma*sigma*T)\n",
    "    b = np.log(S0/K) + r + 12*np.sqrt(sigma*sigma*T)\n",
    "    \n",
    "    \n",
    "    # Compute V\n",
    "    V_k = V()\n",
    "    \n",
    "    "
   ]
  },
  {
   "cell_type": "code",
   "execution_count": 61,
   "id": "5b53e632",
   "metadata": {},
   "outputs": [],
   "source": [
    "def V(a,b,c,d,N):\n",
    "    \n",
    "    psi_k = psi(a,b,c,d,N)\n",
    "    xi_k = xi(a,b,c,d,N)\n",
    "    \n",
    "    v = np.array(psi_k) - np.array(xi_k)\n",
    "    \n",
    "    return v"
   ]
  },
  {
   "cell_type": "code",
   "execution_count": 62,
   "id": "60c676db",
   "metadata": {},
   "outputs": [
    {
     "data": {
      "text/plain": [
       "array([-30.08425266,  27.14552293, -20.19393114,  13.06931104,\n",
       "        -8.32609299,   5.912434  ,  -4.52811933,   3.40014815,\n",
       "        -2.55618238,   2.08052156])"
      ]
     },
     "execution_count": 62,
     "metadata": {},
     "output_type": "execute_result"
    }
   ],
   "source": [
    "V(a,b,0,b,10)"
   ]
  },
  {
   "cell_type": "code",
   "execution_count": 54,
   "id": "5ca2cac7",
   "metadata": {},
   "outputs": [],
   "source": [
    "def psi(a,b,c,d,N):\n",
    "    '''Equation 22'''\n",
    "    \n",
    "    ba = b-a\n",
    "    array = []\n",
    "\n",
    "    \n",
    "    \n",
    "    \n",
    "    for i in range(N):\n",
    "        da = i * np.pi * ((d-a)/(b-a))\n",
    "        ca = i * np.pi * ((c-a)/(b-a))\n",
    "        uu = i * np.pi / ba\n",
    "        \n",
    "        if i == 0:\n",
    "            array.append(d - c)\n",
    "        else:\n",
    "            array.append((np.sin(da) - np.sin(ca))*(ba/(i*np.pi)))\n",
    "    return array"
   ]
  },
  {
   "cell_type": "code",
   "execution_count": 43,
   "id": "df5aa0c8",
   "metadata": {},
   "outputs": [],
   "source": [
    "def xi(a,b,c,d,N):\n",
    "    \n",
    "    array = []\n",
    "    \n",
    "    ba = b-a\n",
    "\n",
    "    \n",
    "    for i in range(N):\n",
    "        uu = i * np.pi / ba\n",
    "        array.append(1/(1+uu*uu) * (np.cos((d-a)*uu)*np.exp(d) - np.cos((c-a)*uu)*np.exp(c) + \n",
    "                 uu * np.sin((d-a)*uu)*np.exp(d) - uu * np.sin((c-a)*uu)*np.exp(c)))\n",
    "    return array"
   ]
  },
  {
   "cell_type": "code",
   "execution_count": null,
   "id": "df967176",
   "metadata": {},
   "outputs": [],
   "source": []
  },
  {
   "cell_type": "code",
   "execution_count": null,
   "id": "98f92674",
   "metadata": {},
   "outputs": [],
   "source": []
  },
  {
   "cell_type": "code",
   "execution_count": null,
   "id": "5fdf770a",
   "metadata": {},
   "outputs": [],
   "source": []
  },
  {
   "cell_type": "code",
   "execution_count": null,
   "id": "e087e040",
   "metadata": {},
   "outputs": [],
   "source": []
  },
  {
   "cell_type": "code",
   "execution_count": 3,
   "id": "dcbe98a0",
   "metadata": {},
   "outputs": [],
   "source": [
    "def phi(u, sigma, t, r):\n",
    "    '''\n",
    "    Given in assignement without equation number >:(\n",
    "    '''\n",
    "    return np.exp(1j*u*(r-0.5*sigma*sigma)*t-(0.5*sigma*sigma*t*u*u))"
   ]
  },
  {
   "cell_type": "code",
   "execution_count": 4,
   "id": "1690a9cc",
   "metadata": {},
   "outputs": [],
   "source": [
    "def F(k,sigma,t,r):\n",
    "    '''\n",
    "    Equation 9\n",
    "    '''\n",
    "    return (2/(b-a)) * ( phi((k*np.pi)/(b-a), sigma, t, r) * np.exp(-1j*((k*a*np.pi)/(b-a)))).real"
   ]
  },
  {
   "cell_type": "code",
   "execution_count": 5,
   "id": "9b0782ad",
   "metadata": {},
   "outputs": [],
   "source": [
    "def V(k,K):\n",
    "    '''\n",
    "    Equation 24: Call option\n",
    "    Inputs: a and b as defined in assignment, k is fourier coef, K is strike price\n",
    "    Output: Fourier of call option\n",
    "    '''\n",
    "    \n",
    "    return (2/b-a)*K*(xi(0,b,k) - psi(0,b,k))"
   ]
  },
  {
   "cell_type": "code",
   "execution_count": 6,
   "id": "a125df9c",
   "metadata": {},
   "outputs": [],
   "source": [
    "def xi(c, d, k):\n",
    "    '''Equation 22'''\n",
    "    \n",
    "    ba = b-a\n",
    "    uu = k * np.pi / ba\n",
    "    \n",
    "    return 1/(1+uu*uu) * (np.cos((d-a)*uu)*np.exp(d) - np.cos((c-a)*uu)*np.exp(c) + \n",
    "                 uu * np.sin((d-a)*uu)*np.exp(d) - uu * np.sin((c-a)*uu)*np.exp(c))\n",
    "    "
   ]
  },
  {
   "cell_type": "code",
   "execution_count": 22,
   "id": "b7590c41",
   "metadata": {},
   "outputs": [],
   "source": [
    "def psi(c, d, k):\n",
    "    '''Equation 23'''    \n",
    "    ba = b-a\n",
    "    da = k * np.pi * ((d-a)/(b-a))\n",
    "    ca = k * np.pi * ((c-a)/(b-a))\n",
    "    \n",
    "    if k == 0:\n",
    "        return d - c\n",
    "    else:\n",
    "        return (np.sin(da) - np.sin(ca))*(ba/(k*np.pi))"
   ]
  },
  {
   "cell_type": "code",
   "execution_count": 23,
   "id": "3f030156",
   "metadata": {},
   "outputs": [
    {
     "data": {
      "text/plain": [
       "9.625357828843697"
      ]
     },
     "execution_count": 23,
     "metadata": {},
     "output_type": "execute_result"
    }
   ],
   "source": [
    "r, sigma, S0, K, T = 0.04, 0.3, 100, 110, 1\n",
    "Black_Scholes_Call(S0, K, r, sigma, T)"
   ]
  },
  {
   "cell_type": "code",
   "execution_count": 24,
   "id": "d7104b31",
   "metadata": {},
   "outputs": [
    {
     "name": "stdout",
     "output_type": "stream",
     "text": [
      "According to the Cos method: 6937.822949181254\n",
      "32\n"
     ]
    }
   ],
   "source": [
    "'''\n",
    "Equation 19: discounted sum of all F_k * V_k\n",
    "'''\n",
    "\n",
    "a = np.log(S0/K) + r - 12*np.sqrt(sigma*sigma*T)\n",
    "b = np.log(S0/K) + r + 12*np.sqrt(sigma*sigma*T)\n",
    "n = 32\n",
    "fourier = []\n",
    "\n",
    "for i in range(n):\n",
    "    fourier.append( F(i,sigma,T,r) * V(i,K))\n",
    "\n",
    "print(f'According to the Cos method: {np.exp(-r*T)*((b-a)/2) * sum(fourier)}')    \n",
    "print(len(fourier))"
   ]
  },
  {
   "cell_type": "code",
   "execution_count": null,
   "id": "cb432f47",
   "metadata": {},
   "outputs": [],
   "source": []
  }
 ],
 "metadata": {
  "kernelspec": {
   "display_name": "Python 3",
   "language": "python",
   "name": "python3"
  },
  "language_info": {
   "codemirror_mode": {
    "name": "ipython",
    "version": 3
   },
   "file_extension": ".py",
   "mimetype": "text/x-python",
   "name": "python",
   "nbconvert_exporter": "python",
   "pygments_lexer": "ipython3",
   "version": "3.9.2"
  }
 },
 "nbformat": 4,
 "nbformat_minor": 5
}
