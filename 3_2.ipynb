{
 "cells": [
  {
   "cell_type": "code",
   "execution_count": 2,
   "id": "645e6929",
   "metadata": {},
   "outputs": [],
   "source": [
    "import numpy as np\n",
    "import math\n",
    "import matplotlib.pyplot as plt"
   ]
  },
  {
   "cell_type": "markdown",
   "id": "3fbb4726",
   "metadata": {},
   "source": [
    "## 3.2 Finite difference method"
   ]
  },
  {
   "cell_type": "markdown",
   "id": "2a8ae3db",
   "metadata": {},
   "source": [
    "$$\\begin{equation}\n",
    "\\frac{\\partial C}{\\partial t^*} = \\frac{C_i^{n+1} - C_i^{n}}{\\Delta t}\\\\\n",
    "\\frac{\\partial C}{\\partial S} = \\frac{C_{i+1}^{n} - C_{i-1}^{n}}{2\\Delta S}\\\\\n",
    "\\frac{\\partial^2 C}{\\partial S^2} = \\frac{C_{i+1}^{n} - 2C_i^{n} + C_{i-1}^{n}}{(\\Delta S)^2}\\\\\n",
    "\\end{equation}$$\n",
    "\n",
    "the discretized Black-Scholes equation:\n",
    "$$\\frac{C_i^{n+1} - C_i^{n}}{\\Delta t} - \\frac{1}{2} \\sigma^2 S^2 \\frac{C_{i+1}^{n} - 2C_i^{n} + C_{i-1}^{n}}{(\\Delta S)^2} - rS \\frac{C_{i+1}^{n} - C_{i-1}^{n}}{2\\Delta S} + rC_i^{n} = 0 $$\n",
    "\n",
    "since $S=i \\Delta S$, we can rearrange the above equation as:\n",
    "\n",
    "$$\\frac{C_i^{n+1} - C_i^{n}}{\\Delta t} - \\frac{1}{2} \\sigma^2 i^2 (C_{i+1}^{n} - 2C_i^{n} + C_{i-1}^{n}) - \\frac{1}{2} ri (C_{i+1}^{n} - C_{i-1}^{n}) + rC_i^{n} = 0 $$\n",
    "\n",
    "the option price at the next time step can be expressed as:\n",
    "$$\\begin{equation}\n",
    "C_i^{n+1} = \\frac{1}{2}(\\sigma^2 i^2 \\Delta t-ri\\Delta t)C_{i-1}^n + (1 - \\sigma^2 i^2 \\Delta t -r \\Delta t) C_i^n + \\frac{1}{2}(\\sigma^2 i^2 \\Delta t+ri\\Delta t)C_{i+1}^n \n",
    "\\end{equation}$$"
   ]
  },
  {
   "cell_type": "code",
   "execution_count": 3,
   "id": "91970aa9",
   "metadata": {},
   "outputs": [],
   "source": [
    "from scipy.stats import norm\n",
    "def Black_Scholes_Call(S, K, r, vol, tau):\n",
    "    \"\"\" \n",
    "    Black Scholes Model for European Call\n",
    "    \"\"\"\n",
    "    d1 = (np.log(S / K) + (r + ((vol**2)/2.)*tau)) / (vol*np.sqrt(tau))\n",
    "    d2 = d1 - vol*np.sqrt(tau)\n",
    "    V = S * norm.cdf(d1) - np.exp(-r*tau) * K * norm.cdf(d2)\n",
    "    \n",
    "    return V"
   ]
  },
  {
   "cell_type": "code",
   "execution_count": 30,
   "id": "3f16f421",
   "metadata": {},
   "outputs": [],
   "source": [
    "sigma = 0.3\n",
    "K = 110\n",
    "S = 120\n",
    "r = 0.04\n",
    "T = 1\n",
    "N = 1000# time points\n",
    "M =  100# space points\n",
    "smin = 1\n",
    "smax = 10000\n",
    "\n",
    "dt = T/N       # time step\n",
    "x = np.linspace(np.log(smin), np.log(smax), M)\n",
    "dx = (x[-1] - x[0]) / (M - 1)\n",
    "#s = np.clip(s, smin, np.log(smax))\n",
    "#s = np.log(s)\n",
    "\n",
    "# initial condition & boundary condition\n",
    "V = np.exp(x) - K\n",
    "V = np.clip(V, 0, smax)"
   ]
  },
  {
   "cell_type": "markdown",
   "id": "1286fc1e",
   "metadata": {},
   "source": [
    "For this equation, we conclude that\n",
    "\\begin{align}\n",
    "    \\vec{a_{-1}} &= \\frac{1}{2}\\sigma^{2}\\frac{\\Delta\\tau}{\\Delta X^{2}} - \\frac{\\Delta\\tau}{2\\Delta X}(r-\\frac{1}{2}\\sigma^{2}) \\\\\n",
    "    \\vec{a_{0}} &=  1- \\sigma^{2}\\frac{\\Delta\\tau}{\\Delta X^{2}} - r\\Delta\\tau\\\\\n",
    "    \\vec{a_{+1}} &=  \\frac{\\Delta\\tau}{2\\Delta X}(r-\\frac{1}{2}\\sigma^{2})+\\frac{1}{2}\\sigma^{2}\\frac{\\Delta\\tau}{\\Delta X^{2}}\n",
    "\\end{align}"
   ]
  },
  {
   "cell_type": "code",
   "execution_count": 31,
   "id": "1fc19638",
   "metadata": {},
   "outputs": [],
   "source": [
    "up = ((0.5*(sigma**2) * dt / dx**2)    -    ((r-0.5*(sigma**2)) *dt / (2*dx)))\n",
    "mid = (1-((sigma**2) * dt / dx**2) - r * dt)\n",
    "down = ((0.5*(sigma**2) * dt / dx**2)    +    ((r-0.5*(sigma**2)) *dt / (2*dx)))\n",
    "\n",
    "    ad = (dt/2)* ((r - 1/2*ss)/dx - ss/dxx)\n",
    "    a0 = 1 + dt*(ss/(dxx) + r)\n",
    "    au = (dt/2)*(-ss/dxx - (r - 1/2*ss)/dx)"
   ]
  },
  {
   "cell_type": "code",
   "execution_count": 32,
   "id": "6b429c89",
   "metadata": {},
   "outputs": [
    {
     "name": "stdout",
     "output_type": "stream",
     "text": [
      "1.00004\n"
     ]
    }
   ],
   "source": [
    "print(up+mid+down)"
   ]
  },
  {
   "cell_type": "code",
   "execution_count": 33,
   "id": "f7af66fe",
   "metadata": {},
   "outputs": [],
   "source": [
    "V_new = np.zeros(M)"
   ]
  },
  {
   "cell_type": "code",
   "execution_count": 34,
   "id": "4acf6382",
   "metadata": {
    "scrolled": true
   },
   "outputs": [
    {
     "data": {
      "text/plain": [
       "12923142.750591867"
      ]
     },
     "execution_count": 34,
     "metadata": {},
     "output_type": "execute_result"
    }
   ],
   "source": [
    "for j in range(N+1):\n",
    "    for i in range(1,M-1):\n",
    "        #print(up * V[i-1] + mid * V[i] + down * V[i+1])\n",
    "        V_new[i] = up * V[i-1] + mid * V[i] + down * V[i+1]\n",
    "    \n",
    "    V_new[0] = V[0]\n",
    "    V_new[-1] = V[-1]\n",
    "    #V_new = np.clip(V_new, 0, smax)\n",
    "    #print(j, V)\n",
    "    V = np.copy(V_new)\n",
    "    #print(j, V)\n",
    "    \n",
    "V_new[int(len(V_new)/2)]"
   ]
  },
  {
   "cell_type": "code",
   "execution_count": 38,
   "id": "8736be6d",
   "metadata": {},
   "outputs": [
    {
     "data": {
      "text/plain": [
       "array([1.00000000e+00, 1.09749877e+00, 1.20450354e+00, 1.32194115e+00,\n",
       "       1.45082878e+00, 1.59228279e+00, 1.74752840e+00, 1.91791026e+00,\n",
       "       2.10490414e+00, 2.31012970e+00, 2.53536449e+00, 2.78255940e+00,\n",
       "       3.05385551e+00, 3.35160265e+00, 3.67837977e+00, 4.03701726e+00,\n",
       "       4.43062146e+00, 4.86260158e+00, 5.33669923e+00, 5.85702082e+00,\n",
       "       6.42807312e+00, 7.05480231e+00, 7.74263683e+00, 8.49753436e+00,\n",
       "       9.32603347e+00, 1.02353102e+01, 1.12332403e+01, 1.23284674e+01,\n",
       "       1.35304777e+01, 1.48496826e+01, 1.62975083e+01, 1.78864953e+01,\n",
       "       1.96304065e+01, 2.15443469e+01, 2.36448941e+01, 2.59502421e+01,\n",
       "       2.84803587e+01, 3.12571585e+01, 3.43046929e+01, 3.76493581e+01,\n",
       "       4.13201240e+01, 4.53487851e+01, 4.97702356e+01, 5.46227722e+01,\n",
       "       5.99484250e+01, 6.57933225e+01, 7.22080902e+01, 7.92482898e+01,\n",
       "       8.69749003e+01, 9.54548457e+01, 1.04761575e+02, 1.14975700e+02,\n",
       "       1.26185688e+02, 1.38488637e+02, 1.51991108e+02, 1.66810054e+02,\n",
       "       1.83073828e+02, 2.00923300e+02, 2.20513074e+02, 2.42012826e+02,\n",
       "       2.65608778e+02, 2.91505306e+02, 3.19926714e+02, 3.51119173e+02,\n",
       "       3.85352859e+02, 4.22924287e+02, 4.64158883e+02, 5.09413801e+02,\n",
       "       5.59081018e+02, 6.13590727e+02, 6.73415066e+02, 7.39072203e+02,\n",
       "       8.11130831e+02, 8.90215085e+02, 9.77009957e+02, 1.07226722e+03,\n",
       "       1.17681195e+03, 1.29154967e+03, 1.41747416e+03, 1.55567614e+03,\n",
       "       1.70735265e+03, 1.87381742e+03, 2.05651231e+03, 2.25701972e+03,\n",
       "       2.47707636e+03, 2.71858824e+03, 2.98364724e+03, 3.27454916e+03,\n",
       "       3.59381366e+03, 3.94420606e+03, 4.32876128e+03, 4.75081016e+03,\n",
       "       5.21400829e+03, 5.72236766e+03, 6.28029144e+03, 6.89261210e+03,\n",
       "       7.56463328e+03, 8.30217568e+03, 9.11162756e+03, 1.00000000e+04])"
      ]
     },
     "execution_count": 38,
     "metadata": {},
     "output_type": "execute_result"
    }
   ],
   "source": [
    "math.e**x"
   ]
  },
  {
   "cell_type": "code",
   "execution_count": 36,
   "id": "1775fb49",
   "metadata": {},
   "outputs": [
    {
     "data": {
      "text/plain": [
       "array([ 0.00000000e+00,  5.41804700e-25, -5.63086901e-24,  5.67951989e-23,\n",
       "       -5.60631243e-22,  5.41405865e-21, -5.11278822e-20,  4.71935376e-19,\n",
       "       -4.25587727e-18,  3.74765946e-17, -3.22083356e-16,  2.70007365e-15,\n",
       "       -2.20664630e-14,  1.75702530e-13, -1.36218696e-12,  1.02759011e-11,\n",
       "       -7.53743242e-11,  5.37188360e-10, -3.71698558e-09,  2.49493011e-08,\n",
       "       -1.62311825e-07,  1.02250230e-06, -6.23123007e-06,  3.66964602e-05,\n",
       "       -2.08607922e-04,  1.14334089e-03, -6.03398585e-03,  3.06211114e-02,\n",
       "       -1.49205480e-01,  6.96953801e-01, -3.11551415e+00,  1.33029706e+01,\n",
       "       -5.41469657e+01,  2.09621546e+02, -7.69958542e+02,  2.67602243e+03,\n",
       "       -8.77390839e+03,  2.70465056e+04, -7.80888883e+04,  2.10252221e+05,\n",
       "       -5.25273548e+05,  1.21049210e+06, -2.55497092e+06,  4.89573622e+06,\n",
       "       -8.41848610e+06,  1.27803898e+07, -1.66914954e+07,  1.78442536e+07,\n",
       "       -1.36606671e+07,  2.87891074e+06,  1.29231428e+07, -2.93051877e+07,\n",
       "        4.10120205e+07, -4.48004701e+07,  4.08997558e+07, -3.22209353e+07,\n",
       "        2.23337430e+07, -1.38077042e+07,  7.69530125e+06, -3.89917672e+06,\n",
       "        1.80972431e+06, -7.73738437e+05,  3.06894231e+05, -1.12916289e+05,\n",
       "        3.93044848e+04, -1.23291256e+04,  4.20278597e+03, -7.14843309e+02,\n",
       "        7.47337656e+02,  4.20639065e+02,  5.78249309e+02,  6.20009274e+02,\n",
       "        6.97639613e+02,  7.75478887e+02,  8.62536662e+02,  9.57738648e+02,\n",
       "        1.06228509e+03,  1.17704695e+03,  1.30283485e+03,  1.44163039e+03,\n",
       "        1.59074796e+03,  1.76764307e+03,  1.90977919e+03,  2.25990609e+03,\n",
       "        1.95728230e+03,  3.92251773e+03, -1.16210928e+03,  1.46977048e+04,\n",
       "       -2.73005507e+04,  7.99895087e+04, -1.69576103e+05,  3.67923764e+05,\n",
       "       -6.84983394e+05,  1.18492601e+06, -1.78348724e+06,  2.37437741e+06,\n",
       "       -2.64348970e+06,  2.37671311e+06, -1.40890964e+06,  9.89000000e+03])"
      ]
     },
     "execution_count": 36,
     "metadata": {},
     "output_type": "execute_result"
    }
   ],
   "source": [
    "V"
   ]
  },
  {
   "cell_type": "code",
   "execution_count": 9,
   "id": "3976e63e",
   "metadata": {
    "scrolled": true
   },
   "outputs": [
    {
     "data": {
      "text/plain": [
       "21.788808338829327"
      ]
     },
     "execution_count": 9,
     "metadata": {},
     "output_type": "execute_result"
    }
   ],
   "source": [
    "Black_Scholes_Call(S, K, r, sigma, 1)"
   ]
  },
  {
   "cell_type": "code",
   "execution_count": null,
   "id": "81463042",
   "metadata": {},
   "outputs": [],
   "source": [
    "%matplotlib inline\n",
    "import numpy\n",
    "import matplotlib.pyplot as pyplot\n",
    "from matplotlib import rcParams\n",
    "rcParams['figure.dpi'] = 100\n",
    "rcParams['font.size'] = 16\n",
    "rcParams['font.family'] = 'StixGeneral'\n",
    "\n",
    "T = 0.25       # expiry time\n",
    "r = 0.1        # no-risk interest rate\n",
    "sigma = 0.4    # volatility of underlying asset\n",
    "E = 10.        # exercise price\n",
    "S_max = 4*E    # upper bound of price of the stock (4*E)"
   ]
  },
  {
   "cell_type": "code",
   "execution_count": null,
   "id": "20f9f414",
   "metadata": {},
   "outputs": [],
   "source": [
    "def FTCS(C, N, M, dt, r, sigma):\n",
    "    \"\"\"using forward-time central-space scheme to solve the Black-Scholes equation for the call option price\n",
    "    \n",
    "    Arguments:\n",
    "        C:       array of the price of call option\n",
    "        N:       total number of time steps\n",
    "        M:       total number of spatials grids\n",
    "        dt:      time step\n",
    "        r:       no-risk interest rate\n",
    "        sigma:   volatility of the stock\n",
    "    \n",
    "    Returns:\n",
    "        C:       array of the price of call option\n",
    "    \"\"\"\n",
    "    index = numpy.arange(1,M)\n",
    "    for n in range(N):\n",
    "\n",
    "        C[1:-1] = 0.5 * (sigma**2 * index**2 * dt - r*index*dt) * C[0:-2] \\\n",
    "             +       (1 - sigma**2* index**2 *dt - r*dt) * C[1:-1]   \\\n",
    "             + 0.5 * (sigma**2 * index**2 * dt + r*index*dt) * C[2:]\n",
    "    return C"
   ]
  },
  {
   "cell_type": "code",
   "execution_count": null,
   "id": "57a1cd37",
   "metadata": {},
   "outputs": [],
   "source": [
    "N = 2000       # number of time steps \n",
    "M = 200        # number of space grids\n",
    "dt = T/N       # time step\n",
    "s = numpy.linspace(0, S_max, M+1)   # spatial grid (stock's price)\n",
    "\n",
    "# initial condition & boundary condition\n",
    "C = s - E\n",
    "C = numpy.clip(C, 0, S_max-E)"
   ]
  },
  {
   "cell_type": "code",
   "execution_count": null,
   "id": "84bbdc9b",
   "metadata": {},
   "outputs": [],
   "source": [
    "numpy.clip(C, 0, S_max-E)"
   ]
  },
  {
   "cell_type": "code",
   "execution_count": null,
   "id": "0d6471cf",
   "metadata": {},
   "outputs": [],
   "source": [
    "C_exp = FTCS(C, N, M, dt, r, sigma)\n",
    "print(f'the price of the call option should be around {C_exp[int(M/2)]}, \\\n",
    "if the current price of stock is 20 dollar.')"
   ]
  },
  {
   "cell_type": "code",
   "execution_count": null,
   "id": "82221c3a",
   "metadata": {},
   "outputs": [],
   "source": [
    "C[int(len(C)/2)]"
   ]
  },
  {
   "cell_type": "code",
   "execution_count": null,
   "id": "754d6ffb",
   "metadata": {},
   "outputs": [],
   "source": [
    "index = numpy.arange(1,M)\n",
    "for n in range(N):\n",
    "\n",
    "    C[1:-1] = 0.5 * (sigma**2 * index**2 * dt - r*index*dt) * C[0:-2] \\\n",
    "        +       (1 - sigma**2* index**2 *dt - r*dt) * C[1:-1]   \\\n",
    "        + 0.5 * (sigma**2 * index**2 * dt + r*index*dt) * C[2:]\n",
    "    "
   ]
  },
  {
   "cell_type": "code",
   "execution_count": null,
   "id": "6c880b86",
   "metadata": {},
   "outputs": [],
   "source": [
    "pyplot.figure(figsize=(8,5), dpi=100)\n",
    "pyplot.plot(s,C_exp,color='#20b2aa', ls='--', lw=3, label='FTCS');\n",
    "pyplot.xlabel('Current Price of the Stock (S)')\n",
    "pyplot.ylabel('Price of the call option (C)')\n",
    "pyplot.legend(loc='upper left',prop={'size':15});"
   ]
  }
 ],
 "metadata": {
  "kernelspec": {
   "display_name": "Python 3",
   "language": "python",
   "name": "python3"
  },
  "language_info": {
   "codemirror_mode": {
    "name": "ipython",
    "version": 3
   },
   "file_extension": ".py",
   "mimetype": "text/x-python",
   "name": "python",
   "nbconvert_exporter": "python",
   "pygments_lexer": "ipython3",
   "version": "3.9.2"
  }
 },
 "nbformat": 4,
 "nbformat_minor": 5
}
