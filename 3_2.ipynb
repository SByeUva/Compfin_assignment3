{
 "cells": [
  {
   "cell_type": "code",
   "execution_count": 1,
   "id": "645e6929",
   "metadata": {},
   "outputs": [],
   "source": [
    "import numpy as np\n",
    "import math\n",
    "import matplotlib.pyplot as plt"
   ]
  },
  {
   "cell_type": "markdown",
   "id": "3fbb4726",
   "metadata": {},
   "source": [
    "## 3.2 Finite difference method"
   ]
  },
  {
   "cell_type": "markdown",
   "id": "2a8ae3db",
   "metadata": {},
   "source": [
    "$$\\begin{equation}\n",
    "\\frac{\\partial C}{\\partial t^*} = \\frac{C_i^{n+1} - C_i^{n}}{\\Delta t}\\\\\n",
    "\\frac{\\partial C}{\\partial S} = \\frac{C_{i+1}^{n} - C_{i-1}^{n}}{2\\Delta S}\\\\\n",
    "\\frac{\\partial^2 C}{\\partial S^2} = \\frac{C_{i+1}^{n} - 2C_i^{n} + C_{i-1}^{n}}{(\\Delta S)^2}\\\\\n",
    "\\end{equation}$$\n",
    "\n",
    "the discretized Black-Scholes equation:\n",
    "$$\\frac{C_i^{n+1} - C_i^{n}}{\\Delta t} - \\frac{1}{2} \\sigma^2 S^2 \\frac{C_{i+1}^{n} - 2C_i^{n} + C_{i-1}^{n}}{(\\Delta S)^2} - rS \\frac{C_{i+1}^{n} - C_{i-1}^{n}}{2\\Delta S} + rC_i^{n} = 0 $$\n",
    "\n",
    "since $S=i \\Delta S$, we can rearrange the above equation as:\n",
    "\n",
    "$$\\frac{C_i^{n+1} - C_i^{n}}{\\Delta t} - \\frac{1}{2} \\sigma^2 i^2 (C_{i+1}^{n} - 2C_i^{n} + C_{i-1}^{n}) - \\frac{1}{2} ri (C_{i+1}^{n} - C_{i-1}^{n}) + rC_i^{n} = 0 $$\n",
    "\n",
    "the option price at the next time step can be expressed as:\n",
    "$$\\begin{equation}\n",
    "C_i^{n+1} = \\frac{1}{2}(\\sigma^2 i^2 \\Delta t-ri\\Delta t)C_{i-1}^n + (1 - \\sigma^2 i^2 \\Delta t -r \\Delta t) C_i^n + \\frac{1}{2}(\\sigma^2 i^2 \\Delta t+ri\\Delta t)C_{i+1}^n \n",
    "\\end{equation}$$"
   ]
  },
  {
   "cell_type": "markdown",
   "id": "b3d4bcaf",
   "metadata": {},
   "source": [
    "### Stability Analysis"
   ]
  },
  {
   "cell_type": "markdown",
   "id": "ee144ded",
   "metadata": {},
   "source": [
    "$$-2\\leq (r-\\frac{1}{2}\\sigma^2)\\frac{\\Delta \\tau}{\\Delta X} - 2\\sigma^2\\frac{\\Delta \\tau}{\\Delta X^2} - r\\Delta X\\leq0$$"
   ]
  },
  {
   "cell_type": "code",
   "execution_count": 2,
   "id": "cb6926ec",
   "metadata": {},
   "outputs": [],
   "source": [
    "def stability(S, K, r, sigma, T, N, M):\n",
    "    # Compute delta T\n",
    "    dt = T/N\n",
    "    M_h = int(M/2)\n",
    "    M -= 1\n",
    "    S_log = np.log(S)\n",
    "    \n",
    "    Xp1 = np.logspace(0,S_log,M_h,endpoint=True, base=math.e)\n",
    "    Xp2 = np.logspace(S_log,S_log*2,M_h,endpoint=True, base=math.e)\n",
    "    X_true = [*Xp1, *Xp2[1:]]\n",
    "    X = np.log(X_true)\n",
    "        \n",
    "    dx = (X[-1] - X[0])/(M-1);\n",
    "    mesh_ratio = (r-0.5*sigma**2)*(dt/dx) - 2*sigma**2 *(dt/dx**2) - r*dx\n",
    "    if mesh_ratio >= -2:\n",
    "        if mesh_ratio <= 0:\n",
    "            return True\n",
    "    return False"
   ]
  },
  {
   "cell_type": "code",
   "execution_count": 6,
   "id": "ba54cca4",
   "metadata": {},
   "outputs": [],
   "source": [
    "sigma = 0.3\n",
    "K = 110\n",
    "S = 100\n",
    "r = 0.04\n",
    "T = 1\n",
    "N = 1000 # time points\n",
    "M =  1200# space points"
   ]
  },
  {
   "cell_type": "code",
   "execution_count": 8,
   "id": "6bace2ec",
   "metadata": {},
   "outputs": [
    {
     "data": {
      "text/plain": [
       "True"
      ]
     },
     "execution_count": 8,
     "metadata": {},
     "output_type": "execute_result"
    }
   ],
   "source": [
    "M = 600\n",
    "stability(S, K, r, sigma, T, N, M)"
   ]
  },
  {
   "cell_type": "code",
   "execution_count": 9,
   "id": "3ebdb4be",
   "metadata": {},
   "outputs": [
    {
     "data": {
      "text/plain": [
       "False"
      ]
     },
     "execution_count": 9,
     "metadata": {},
     "output_type": "execute_result"
    }
   ],
   "source": [
    "M=1200\n",
    "stability(S, K, r, sigma, T, N, M)"
   ]
  }
 ],
 "metadata": {
  "kernelspec": {
   "display_name": "Python 3",
   "language": "python",
   "name": "python3"
  },
  "language_info": {
   "codemirror_mode": {
    "name": "ipython",
    "version": 3
   },
   "file_extension": ".py",
   "mimetype": "text/x-python",
   "name": "python",
   "nbconvert_exporter": "python",
   "pygments_lexer": "ipython3",
   "version": "3.9.2"
  }
 },
 "nbformat": 4,
 "nbformat_minor": 5
}
