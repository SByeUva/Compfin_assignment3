{
 "cells": [
  {
   "cell_type": "code",
   "execution_count": 1,
   "id": "645e6929",
   "metadata": {},
   "outputs": [],
   "source": [
    "import numpy as np\n",
    "import math\n",
    "import matplotlib.pyplot as plt"
   ]
  },
  {
   "cell_type": "markdown",
   "id": "3fbb4726",
   "metadata": {},
   "source": [
    "## 3.2 Finite difference method"
   ]
  },
  {
   "cell_type": "markdown",
   "id": "87188071",
   "metadata": {},
   "source": [
    "$$\\begin{equation}\n",
    "\\frac{\\partial C}{\\partial t^*} = \\frac{C_i^{n+1} - C_i^{n}}{\\Delta t}\\\\\n",
    "\\frac{\\partial C}{\\partial S} = \\frac{C_{i+1}^{n} - C_{i-1}^{n}}{2\\Delta S}\\\\\n",
    "\\frac{\\partial^2 C}{\\partial S^2} = \\frac{C_{i+1}^{n} - 2C_i^{n} + C_{i-1}^{n}}{(\\Delta S)^2}\\\\\n",
    "\\end{equation}$$\n",
    "\n",
    "the discretized Black-Scholes equation:\n",
    "$$\\frac{C_i^{n+1} - C_i^{n}}{\\Delta t} - \\frac{1}{2} \\sigma^2 S^2 \\frac{C_{i+1}^{n} - 2C_i^{n} + C_{i-1}^{n}}{(\\Delta S)^2} - rS \\frac{C_{i+1}^{n} - C_{i-1}^{n}}{2\\Delta S} + rC_i^{n} = 0 $$\n",
    "\n",
    "since $S=i \\Delta S$, we can rearrange the above equation as:\n",
    "\n",
    "$$\\frac{C_i^{n+1} - C_i^{n}}{\\Delta t} - \\frac{1}{2} \\sigma^2 i^2 (C_{i+1}^{n} - 2C_i^{n} + C_{i-1}^{n}) - \\frac{1}{2} ri (C_{i+1}^{n} - C_{i-1}^{n}) + rC_i^{n} = 0 $$\n",
    "\n",
    "the option price at the next time step can be expressed as:\n",
    "$$\\begin{equation}\n",
    "C_i^{n+1} = \\frac{1}{2}(\\sigma^2 i^2 \\Delta t-ri\\Delta t)C_{i-1}^n + (1 - \\sigma^2 i^2 \\Delta t -r \\Delta t) C_i^n + \\frac{1}{2}(\\sigma^2 i^2 \\Delta t+ri\\Delta t)C_{i+1}^n \n",
    "\\end{equation}$$"
   ]
  },
  {
   "cell_type": "code",
   "execution_count": 84,
   "id": "91970aa9",
   "metadata": {},
   "outputs": [],
   "source": [
    "from scipy.stats import norm\n",
    "def Black_Scholes_Call(S, K, r, vol, tau):\n",
    "    \"\"\" \n",
    "    Black Scholes Model for European Call\n",
    "    \"\"\"\n",
    "    d1 = (np.log(S / K) + (r + ((vol**2)/2.)*tau)) / (vol*np.sqrt(tau))\n",
    "    d2 = d1 - vol*np.sqrt(tau)\n",
    "    V = S * norm.cdf(d1) - np.exp(-r*tau) * K * norm.cdf(d2)\n",
    "    \n",
    "    return V"
   ]
  },
  {
   "cell_type": "code",
   "execution_count": 235,
   "id": "2ff2d7df",
   "metadata": {},
   "outputs": [],
   "source": [
    "sigma = 0.3\n",
    "K = 110\n",
    "S = 120\n",
    "r = 0.04\n",
    "T = 1\n",
    "N = 1000# time points\n",
    "M = 100 # space points\n",
    "smin = 0.001\n",
    "smax = 1000\n",
    "\n",
    "dt = T/N       # time step\n",
    "dx = np.log(S/M)\n",
    "s = np.linspace(0, np.log(smax), M)   # spatial grid (stock's price)\n",
    "s = np.clip(s, smin, np.log(smax))\n",
    "#s = np.log(s)\n",
    "\n",
    "# initial condition & boundary condition\n",
    "V = np.exp(s) - K\n",
    "V = np.clip(V, 0, smax)"
   ]
  },
  {
   "cell_type": "code",
   "execution_count": 234,
   "id": "f0041656",
   "metadata": {},
   "outputs": [
    {
     "data": {
      "text/plain": [
       "array([   0.        ,    0.        ,    0.        ,    0.        ,\n",
       "          0.        ,    0.        ,    0.        ,    0.        ,\n",
       "          0.        ,    0.        ,    0.        ,    0.        ,\n",
       "          0.        ,    0.        ,    0.        ,    0.        ,\n",
       "          0.        ,    0.        ,    0.        ,    0.        ,\n",
       "          0.        ,    0.        ,    0.        ,    0.        ,\n",
       "          0.        ,    0.        ,    0.        ,    0.        ,\n",
       "        293.42879349, 1000.        , 1000.        , 1000.        ,\n",
       "       1000.        , 1000.        , 1000.        , 1000.        ,\n",
       "       1000.        , 1000.        , 1000.        , 1000.        ,\n",
       "       1000.        , 1000.        , 1000.        , 1000.        ,\n",
       "       1000.        , 1000.        , 1000.        , 1000.        ,\n",
       "       1000.        , 1000.        , 1000.        ])"
      ]
     },
     "execution_count": 234,
     "metadata": {},
     "output_type": "execute_result"
    }
   ],
   "source": [
    "V"
   ]
  },
  {
   "cell_type": "code",
   "execution_count": 229,
   "id": "544911f5",
   "metadata": {},
   "outputs": [
    {
     "data": {
      "text/plain": [
       "array([-10.,  -9.,  -8.,  -7.,  -6.,  -5.,  -4.,  -3.,  -2.,  -1.,   0.,\n",
       "         1.,   2.,   3.,   4.,   5.,   6.,   7.,   8.,   9.,  10.])"
      ]
     },
     "execution_count": 229,
     "metadata": {},
     "output_type": "execute_result"
    }
   ],
   "source": [
    "np.linspace(-10,10, 21)"
   ]
  },
  {
   "cell_type": "code",
   "execution_count": 213,
   "id": "72c73266",
   "metadata": {},
   "outputs": [
    {
     "data": {
      "text/plain": [
       "array([1.        , 1.149757  , 1.32194115, 1.51991108, 1.7475284 ,\n",
       "       2.009233  , 2.3101297 , 2.65608778, 3.05385551, 3.51119173,\n",
       "       4.03701726, 4.64158883, 5.33669923, 6.13590727, 6.90775528,\n",
       "       6.90775528, 6.90775528, 6.90775528, 6.90775528, 6.90775528,\n",
       "       6.90775528, 6.90775528, 6.90775528, 6.90775528, 6.90775528,\n",
       "       6.90775528, 6.90775528, 6.90775528, 6.90775528, 6.90775528,\n",
       "       6.90775528, 6.90775528, 6.90775528, 6.90775528, 6.90775528,\n",
       "       6.90775528, 6.90775528, 6.90775528, 6.90775528, 6.90775528,\n",
       "       6.90775528, 6.90775528, 6.90775528, 6.90775528, 6.90775528,\n",
       "       6.90775528, 6.90775528, 6.90775528, 6.90775528, 6.90775528,\n",
       "       6.90775528, 6.90775528, 6.90775528, 6.90775528, 6.90775528,\n",
       "       6.90775528, 6.90775528, 6.90775528, 6.90775528, 6.90775528,\n",
       "       6.90775528, 6.90775528, 6.90775528, 6.90775528, 6.90775528,\n",
       "       6.90775528, 6.90775528, 6.90775528, 6.90775528, 6.90775528,\n",
       "       6.90775528, 6.90775528, 6.90775528, 6.90775528, 6.90775528,\n",
       "       6.90775528, 6.90775528, 6.90775528, 6.90775528, 6.90775528,\n",
       "       6.90775528, 6.90775528, 6.90775528, 6.90775528, 6.90775528,\n",
       "       6.90775528, 6.90775528, 6.90775528, 6.90775528, 6.90775528,\n",
       "       6.90775528, 6.90775528, 6.90775528, 6.90775528, 6.90775528,\n",
       "       6.90775528, 6.90775528, 6.90775528, 6.90775528, 6.90775528])"
      ]
     },
     "execution_count": 213,
     "metadata": {},
     "output_type": "execute_result"
    }
   ],
   "source": [
    "s"
   ]
  },
  {
   "cell_type": "code",
   "execution_count": 214,
   "id": "8bef24a5",
   "metadata": {},
   "outputs": [],
   "source": [
    "V_new = np.zeros(M)"
   ]
  },
  {
   "cell_type": "markdown",
   "id": "e55c8626",
   "metadata": {},
   "source": [
    "\\begin{align}\n",
    "     V^{n+1}_{i} &= V^{n}_{i} + \\frac{\\Delta \\tau}{2 \\Delta X} \\left( r - \\frac{1}{2}\\sigma^{2} \\right) \\left( V^{n}_{i+1} - V^{n}_{i-1} \\right) +\n",
    "     \\frac{1}{2}\\sigma^{2}\\frac{\\Delta \\tau}{\\Delta X^{2}} \\left( V^{n}_{i+1} + V^{n}_{i-1} - 2V^{n}_{i}  \\right) - r \\Delta \\tau V^{n}_{i}.\n",
    "\\end{align}"
   ]
  },
  {
   "cell_type": "code",
   "execution_count": 236,
   "id": "458bf689",
   "metadata": {},
   "outputs": [],
   "source": [
    "for j in range(N):\n",
    "    for i in range(1,M-1):\n",
    "        V_new[i] = ((0.5*(sigma**2) * dt / dx**2)    -    ((r-0.5*(sigma**2)) *dt / (2*dx))) * V[i-1] \n",
    "        + (1-((sigma**2) * dt / dx**2) - r * dt) * V[i] \n",
    "        + ((0.5*(sigma**2) * dt / dx**2)    +    ((r-0.5*(sigma**2)) *dt / (2*dx))) * V[i+1]\n",
    "    \n",
    "    V_new[0] = V[0]\n",
    "    V_new[-1] = V[-1]\n",
    "    #V_new = np.clip(V_new, 0, smax)\n",
    "    V = np.copy(V_new)"
   ]
  },
  {
   "cell_type": "code",
   "execution_count": 222,
   "id": "c648cb46",
   "metadata": {},
   "outputs": [],
   "source": [
    "for j in range(N):\n",
    "    V[1:-1] = ((0.5*(sigma**2) * dt / dx**2)    -    ((r-0.5*(sigma**2)) *dt / (2*dx))) * V[i-1]  \n",
    "    + (1-((sigma**2) * dt / dx**2) - r * dt) * V[i] \n",
    "    + ((0.5*(sigma**2) * dt / dx**2)    +    ((r-0.5*(sigma**2)) *dt / (2*dx))) * V[i+1]"
   ]
  },
  {
   "cell_type": "code",
   "execution_count": 237,
   "id": "b828d81e",
   "metadata": {},
   "outputs": [
    {
     "data": {
      "text/plain": [
       "array([  0.,   0.,   0.,   0.,   0.,   0.,   0.,   0.,   0.,   0.,   0.,\n",
       "         0.,   0.,   0.,   0.,   0.,   0.,   0.,   0.,   0.,   0.,   0.,\n",
       "         0.,   0.,   0.,   0.,   0.,   0.,   0.,   0.,   0.,   0.,   0.,\n",
       "         0.,   0.,   0.,   0.,   0.,   0.,   0.,   0.,   0.,   0.,   0.,\n",
       "         0.,   0.,   0.,   0.,   0.,   0.,   0.,   0.,   0.,   0.,   0.,\n",
       "         0.,   0.,   0.,   0.,   0.,   0.,   0.,   0.,   0.,   0.,   0.,\n",
       "         0.,   0.,   0.,   0.,   0.,   0.,   0.,   0.,   0.,   0.,   0.,\n",
       "         0.,   0.,   0.,   0.,   0.,   0.,   0.,   0.,   0.,   0.,   0.,\n",
       "         0.,   0.,   0.,   0.,   0.,   0.,   0.,   0.,   0.,   0.,   0.,\n",
       "       890.])"
      ]
     },
     "execution_count": 237,
     "metadata": {},
     "output_type": "execute_result"
    }
   ],
   "source": [
    "V"
   ]
  },
  {
   "cell_type": "code",
   "execution_count": 194,
   "id": "06f3a8fc",
   "metadata": {
    "scrolled": true
   },
   "outputs": [
    {
     "data": {
      "text/plain": [
       "21.788808338829327"
      ]
     },
     "execution_count": 194,
     "metadata": {},
     "output_type": "execute_result"
    }
   ],
   "source": [
    "Black_Scholes_Call(S, K, r, sigma, 1)"
   ]
  },
  {
   "cell_type": "code",
   "execution_count": null,
   "id": "200a34a0",
   "metadata": {},
   "outputs": [],
   "source": [
    "i = numpy.arange(1,M)"
   ]
  },
  {
   "cell_type": "code",
   "execution_count": null,
   "id": "0d4fa2a9",
   "metadata": {},
   "outputs": [],
   "source": [
    "for j in range(N)\n",
    "V[1:-1] = ((0.5*sigma**2 * (j*dt) / (i*dx)**2)    -    ((r-0.5*sigma**2) *(j*dt) / (2*(i*dx)))) * V[0:-2] \\\n",
    "     +       (1-(sigma**2 * (j*dt) / dx**2) - r * (j*dt)) * V[1:-1]   \\\n",
    "     + ((0.5*sigma**2 * (j*dt) / dx**2)    +    ((r-0.5*sigma**2) *(j*dt) / (2*dx))) * V[2:]\n"
   ]
  },
  {
   "cell_type": "code",
   "execution_count": null,
   "id": "1195bde5",
   "metadata": {},
   "outputs": [],
   "source": [
    "# Define matrix A\n",
    "N = 100\n",
    "A = np.zeros((N,N))\n",
    "amin1 = (0.5*sigma**2 * deltau / delx**2)    -    ((r-0.5*sigma**2) *deltau / (2*delx))\n",
    "aplus1 = (0.5*sigma**2 * deltau / delx**2)    +    ((r-0.5*sigma**2) *deltau / (2*delx))\n",
    "anow = 1-(sigma**2 * deltau / delx**2) - r * deltau\n",
    "\n",
    "\n",
    "C[1:-1] = 0.5 * (sigma**2 * index**2 * dt - r*index*dt) * C[0:-2] \\\n",
    "     +       (1 - sigma**2* index**2 *dt - r*dt) * C[1:-1]   \\\n",
    "     + 0.5 * (sigma**2 * index**2 * dt + r*index*dt) * C[2:]\n",
    "\n",
    "\n",
    "\n",
    "np.fill_diagonal(A[1:], amin1)\n",
    "np.fill_diagonal(A[:,1:], aplus1)\n",
    "np.fill_diagonal(A, anow)\n",
    "k1, k2, k3, k4 = M1, M1, M2, M2\n",
    "\n",
    "sigma, K, S, r, N, T = 0.3, 110, 100, 0.04, 100, 1\n",
    "\n",
    "#midpoint = math.log(S)\n",
    "#M2 = -5\n",
    "#M1 = (midpoint-M2) + midpoint\n",
    "\n",
    "#M1 = np.log(S) + delx*(N/2)\n",
    "#M2 = np.log(S) - delx*(N/2)\n",
    "\n",
    "# Stock price at T\n",
    "#stocks = np.linspace(M1,M2,N) \n",
    "print(f\"The Correct answer is {Black_Scholes_Call(S, K, r, sigma, 1)}\")\n",
    "\n",
    "\n",
    "# Boundaries\n",
    "A[0,0] = k1\n",
    "A[0,1] = k2\n",
    "A[-1,-2] = k3\n",
    "A[-1, -1] = k4"
   ]
  },
  {
   "cell_type": "code",
   "execution_count": null,
   "id": "b71ef8c7",
   "metadata": {},
   "outputs": [],
   "source": [
    "A"
   ]
  },
  {
   "cell_type": "code",
   "execution_count": null,
   "id": "4eb8229c",
   "metadata": {},
   "outputs": [],
   "source": [
    "# Get the call prices at maturity\n",
    "V = np.zeros((N,N))\n",
    "stocks = np.linspace(M1,M2,N) \n",
    "\n",
    "for row in range(V.shape[0]):\n",
    "    #ans = Black_Scholes_Call(np.exp(stocks[row]), K, r, sigma, T)\n",
    "    ans = np.exp(stocks[row])*np.exp(-r)\n",
    "    if ans > 0:\n",
    "        V[row,0] = ans\n",
    "    else:\n",
    "        V[row,0] = 0"
   ]
  },
  {
   "cell_type": "code",
   "execution_count": null,
   "id": "28004291",
   "metadata": {},
   "outputs": [],
   "source": [
    "for column in range(0,N-1):\n",
    "    V[:,column+1] = A @ V[:,column]"
   ]
  },
  {
   "cell_type": "code",
   "execution_count": null,
   "id": "6e16c9d6",
   "metadata": {},
   "outputs": [],
   "source": [
    "V[:,-1][49]"
   ]
  },
  {
   "cell_type": "code",
   "execution_count": null,
   "id": "d87d9000",
   "metadata": {},
   "outputs": [],
   "source": [
    "np.exp(stocks[40:55])"
   ]
  },
  {
   "cell_type": "code",
   "execution_count": null,
   "id": "3e69cdad",
   "metadata": {},
   "outputs": [],
   "source": [
    "np.exp(stocks)"
   ]
  },
  {
   "cell_type": "code",
   "execution_count": null,
   "id": "5fcd97c4",
   "metadata": {},
   "outputs": [],
   "source": [
    "amin1 = (0.5*sigma**2 * deltau / delx**2)    -    ((r-0.5*sigma**2) *deltau / (2*delx))\n",
    "aplus1 = (0.5*sigma**2 * deltau / delx**2)    +    ((r-0.5*sigma**2) *deltau / (2*delx))\n",
    "anow = 1-(sigma**2 * deltau / delx**2) - r * deltau\n",
    "\n",
    "np.fill_diagonal(A[1:], amin1)\n",
    "np.fill_diagonal(A[:,1:], aplus1)\n",
    "np.fill_diagonal(A, anow)\n",
    "\n",
    "\n",
    "k1 = M1\n",
    "k2 = M1\n",
    "k3 = M2\n",
    "k4 = M2\n",
    "\n",
    "A[0,0] = k1\n",
    "A[0,1] = k2\n",
    "A[-1,-2] = k3\n",
    "A[-1, -1] = k4"
   ]
  },
  {
   "cell_type": "code",
   "execution_count": null,
   "id": "fd6edf60",
   "metadata": {},
   "outputs": [],
   "source": [
    "for row in range(grid.shape[0]):\n",
    "    ans = math.e**(-r*T) * stocks[row] - math.log(K)\n",
    "    if ans > 0:\n",
    "        grid[row,0] = ans\n",
    "    else:\n",
    "        grid[row,0] = 0"
   ]
  },
  {
   "cell_type": "code",
   "execution_count": null,
   "id": "bf2422da",
   "metadata": {},
   "outputs": [],
   "source": [
    "for column in range(N-2):\n",
    "    grid[:,column+1] = A @ grid[:,column]"
   ]
  },
  {
   "cell_type": "code",
   "execution_count": null,
   "id": "759f6768",
   "metadata": {},
   "outputs": [],
   "source": [
    "np.mean(grid[:,-1])"
   ]
  },
  {
   "cell_type": "code",
   "execution_count": null,
   "id": "6d697e83",
   "metadata": {},
   "outputs": [],
   "source": [
    "np.matmul(A, grid[:,0])"
   ]
  },
  {
   "cell_type": "code",
   "execution_count": null,
   "id": "f6f83243",
   "metadata": {},
   "outputs": [],
   "source": [
    "grid[:,-1]"
   ]
  },
  {
   "cell_type": "code",
   "execution_count": null,
   "id": "2a06661a",
   "metadata": {},
   "outputs": [],
   "source": [
    "%matplotlib inline\n",
    "import numpy\n",
    "import matplotlib.pyplot as pyplot\n",
    "from matplotlib import rcParams\n",
    "rcParams['figure.dpi'] = 100\n",
    "rcParams['font.size'] = 16\n",
    "rcParams['font.family'] = 'StixGeneral'\n",
    "\n",
    "T = 0.25       # expiry time\n",
    "r = 0.1        # no-risk interest rate\n",
    "sigma = 0.4    # volatility of underlying asset\n",
    "E = 10.        # exercise price\n",
    "S_max = 4*E    # upper bound of price of the stock (4*E)"
   ]
  },
  {
   "cell_type": "code",
   "execution_count": null,
   "id": "20f9f414",
   "metadata": {},
   "outputs": [],
   "source": [
    "def FTCS(C, N, M, dt, r, sigma):\n",
    "    \"\"\"using forward-time central-space scheme to solve the Black-Scholes equation for the call option price\n",
    "    \n",
    "    Arguments:\n",
    "        C:       array of the price of call option\n",
    "        N:       total number of time steps\n",
    "        M:       total number of spatials grids\n",
    "        dt:      time step\n",
    "        r:       no-risk interest rate\n",
    "        sigma:   volatility of the stock\n",
    "    \n",
    "    Returns:\n",
    "        C:       array of the price of call option\n",
    "    \"\"\"\n",
    "    index = numpy.arange(1,M)\n",
    "    for n in range(N):\n",
    "\n",
    "        C[1:-1] = 0.5 * (sigma**2 * index**2 * dt - r*index*dt) * C[0:-2] \\\n",
    "             +       (1 - sigma**2* index**2 *dt - r*dt) * C[1:-1]   \\\n",
    "             + 0.5 * (sigma**2 * index**2 * dt + r*index*dt) * C[2:]\n",
    "    return C"
   ]
  },
  {
   "cell_type": "code",
   "execution_count": null,
   "id": "fc55422d",
   "metadata": {},
   "outputs": [],
   "source": [
    "N = 2000       # number of time steps \n",
    "M = 200        # number of space grids\n",
    "dt = T/N       # time step\n",
    "s = numpy.linspace(0, S_max, M+1)   # spatial grid (stock's price)\n",
    "\n",
    "# initial condition & boundary condition\n",
    "C = s - E\n",
    "C = numpy.clip(C, 0, S_max-E)"
   ]
  },
  {
   "cell_type": "code",
   "execution_count": null,
   "id": "98c15da1",
   "metadata": {},
   "outputs": [],
   "source": [
    "numpy.clip(C, 0, S_max-E)"
   ]
  },
  {
   "cell_type": "code",
   "execution_count": null,
   "id": "5fd8be5b",
   "metadata": {},
   "outputs": [],
   "source": [
    "C_exp = FTCS(C, N, M, dt, r, sigma)\n",
    "print(f'the price of the call option should be around {C_exp[int(M/2)]}, \\\n",
    "if the current price of stock is 20 dollar.')"
   ]
  },
  {
   "cell_type": "code",
   "execution_count": null,
   "id": "dee9f99d",
   "metadata": {},
   "outputs": [],
   "source": [
    "C[int(len(C)/2)]"
   ]
  },
  {
   "cell_type": "code",
   "execution_count": null,
   "id": "ded9fbdf",
   "metadata": {},
   "outputs": [],
   "source": [
    "index = numpy.arange(1,M)\n",
    "for n in range(N):\n",
    "\n",
    "    C[1:-1] = 0.5 * (sigma**2 * index**2 * dt - r*index*dt) * C[0:-2] \\\n",
    "        +       (1 - sigma**2* index**2 *dt - r*dt) * C[1:-1]   \\\n",
    "        + 0.5 * (sigma**2 * index**2 * dt + r*index*dt) * C[2:]\n",
    "    "
   ]
  },
  {
   "cell_type": "code",
   "execution_count": null,
   "id": "6e881ae0",
   "metadata": {},
   "outputs": [],
   "source": [
    "pyplot.figure(figsize=(8,5), dpi=100)\n",
    "pyplot.plot(s,C_exp,color='#20b2aa', ls='--', lw=3, label='FTCS');\n",
    "pyplot.xlabel('Current Price of the Stock (S)')\n",
    "pyplot.ylabel('Price of the call option (C)')\n",
    "pyplot.legend(loc='upper left',prop={'size':15});"
   ]
  }
 ],
 "metadata": {
  "kernelspec": {
   "display_name": "Python 3",
   "language": "python",
   "name": "python3"
  },
  "language_info": {
   "codemirror_mode": {
    "name": "ipython",
    "version": 3
   },
   "file_extension": ".py",
   "mimetype": "text/x-python",
   "name": "python",
   "nbconvert_exporter": "python",
   "pygments_lexer": "ipython3",
   "version": "3.9.2"
  }
 },
 "nbformat": 4,
 "nbformat_minor": 5
}
