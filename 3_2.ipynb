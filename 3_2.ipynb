{
 "cells": [
  {
   "cell_type": "code",
   "execution_count": 1,
   "id": "645e6929",
   "metadata": {},
   "outputs": [],
   "source": [
    "import numpy as np\n",
    "import math\n",
    "import matplotlib.pyplot as plt"
   ]
  },
  {
   "cell_type": "markdown",
   "id": "3fbb4726",
   "metadata": {},
   "source": [
    "## 3.2 Finite difference method"
   ]
  },
  {
   "cell_type": "markdown",
   "id": "495c45c0",
   "metadata": {},
   "source": [
    "$$\\begin{equation}\n",
    "\\frac{\\partial C}{\\partial t^*} = \\frac{C_i^{n+1} - C_i^{n}}{\\Delta t}\\\\\n",
    "\\frac{\\partial C}{\\partial S} = \\frac{C_{i+1}^{n} - C_{i-1}^{n}}{2\\Delta S}\\\\\n",
    "\\frac{\\partial^2 C}{\\partial S^2} = \\frac{C_{i+1}^{n} - 2C_i^{n} + C_{i-1}^{n}}{(\\Delta S)^2}\\\\\n",
    "\\end{equation}$$\n",
    "\n",
    "the discretized Black-Scholes equation:\n",
    "$$\\frac{C_i^{n+1} - C_i^{n}}{\\Delta t} - \\frac{1}{2} \\sigma^2 S^2 \\frac{C_{i+1}^{n} - 2C_i^{n} + C_{i-1}^{n}}{(\\Delta S)^2} - rS \\frac{C_{i+1}^{n} - C_{i-1}^{n}}{2\\Delta S} + rC_i^{n} = 0 $$\n",
    "\n",
    "since $S=i \\Delta S$, we can rearrange the above equation as:\n",
    "\n",
    "$$\\frac{C_i^{n+1} - C_i^{n}}{\\Delta t} - \\frac{1}{2} \\sigma^2 i^2 (C_{i+1}^{n} - 2C_i^{n} + C_{i-1}^{n}) - \\frac{1}{2} ri (C_{i+1}^{n} - C_{i-1}^{n}) + rC_i^{n} = 0 $$\n",
    "\n",
    "the option price at the next time step can be expressed as:\n",
    "$$\\begin{equation}\n",
    "C_i^{n+1} = \\frac{1}{2}(\\sigma^2 i^2 \\Delta t-ri\\Delta t)C_{i-1}^n + (1 - \\sigma^2 i^2 \\Delta t -r \\Delta t) C_i^n + \\frac{1}{2}(\\sigma^2 i^2 \\Delta t+ri\\Delta t)C_{i+1}^n \n",
    "\\end{equation}$$"
   ]
  },
  {
   "cell_type": "code",
   "execution_count": 84,
   "id": "91970aa9",
   "metadata": {},
   "outputs": [],
   "source": [
    "from scipy.stats import norm\n",
    "def Black_Scholes_Call(S, K, r, vol, tau):\n",
    "    \"\"\" \n",
    "    Black Scholes Model for European Call\n",
    "    \"\"\"\n",
    "    d1 = (np.log(S / K) + (r + ((vol**2)/2.)*tau)) / (vol*np.sqrt(tau))\n",
    "    d2 = d1 - vol*np.sqrt(tau)\n",
    "    V = S * norm.cdf(d1) - np.exp(-r*tau) * K * norm.cdf(d2)\n",
    "    \n",
    "    return V"
   ]
  },
  {
   "cell_type": "code",
   "execution_count": 381,
   "id": "e7b47838",
   "metadata": {},
   "outputs": [],
   "source": [
    "sigma = 0.3\n",
    "K = 110\n",
    "S = 120\n",
    "r = 0.04\n",
    "T = 1\n",
    "N = 6000# time points\n",
    "M =  300# space points\n",
    "smin = 0.0001\n",
    "smax = S*2\n",
    "\n",
    "dt = T/N       # time step\n",
    "dx = np.log(smax-smin)/M\n",
    "s = np.linspace(smin, smax, M)   # spatial grid (stock's price)\n",
    "#s = np.clip(s, smin, np.log(smax))\n",
    "#s = np.log(s)\n",
    "\n",
    "# initial condition & boundary condition\n",
    "V = s - K * math.e**-r\n",
    "V = np.clip(V, 0, smax)"
   ]
  },
  {
   "cell_type": "markdown",
   "id": "d553a29d",
   "metadata": {},
   "source": [
    "For this equation, we conclude that\n",
    "\\begin{align}\n",
    "    \\vec{a_{-1}} &= \\frac{1}{2}\\sigma^{2}\\frac{\\Delta\\tau}{\\Delta X^{2}} - \\frac{\\Delta\\tau}{2\\Delta X}(r-\\frac{1}{2}\\sigma^{2}) \\\\\n",
    "    \\vec{a_{0}} &=  1- \\sigma^{2}\\frac{\\Delta\\tau}{\\Delta X^{2}} - r\\Delta\\tau\\\\\n",
    "    \\vec{a_{+1}} &=  \\frac{\\Delta\\tau}{2\\Delta X}(r-\\frac{1}{2}\\sigma^{2})+\\frac{1}{2}\\sigma^{2}\\frac{\\Delta\\tau}{\\Delta X^{2}}\n",
    "\\end{align}"
   ]
  },
  {
   "cell_type": "code",
   "execution_count": 382,
   "id": "a3e353fd",
   "metadata": {},
   "outputs": [],
   "source": [
    "up = ((0.5*(sigma**2) * dt / dx**2)    -    ((r-0.5*(sigma**2)) *dt / (2*dx)))\n",
    "mid = (1-((sigma**2) * dt / dx**2) - r * dt)\n",
    "down = ((0.5*(sigma**2) * dt / dx**2)    +    ((r-0.5*(sigma**2)) *dt / (2*dx)))"
   ]
  },
  {
   "cell_type": "code",
   "execution_count": 383,
   "id": "52071df0",
   "metadata": {},
   "outputs": [
    {
     "name": "stdout",
     "output_type": "stream",
     "text": [
      "0.005629407999542349 0.9887573249113907 0.005606600422400312\n"
     ]
    }
   ],
   "source": [
    "print(up, mid, down)"
   ]
  },
  {
   "cell_type": "code",
   "execution_count": 384,
   "id": "bcbefe33",
   "metadata": {},
   "outputs": [],
   "source": [
    "V_new = np.zeros(M)"
   ]
  },
  {
   "cell_type": "code",
   "execution_count": 385,
   "id": "675438fa",
   "metadata": {},
   "outputs": [],
   "source": [
    "for j in range(N+1):\n",
    "    for i in range(1,M-1):\n",
    "        #print(up * V[i-1] + mid * V[i] + down * V[i+1])\n",
    "        V_new[i] = up * V[i-1] + mid * V[i] + down * V[i+1]\n",
    "    \n",
    "    V_new[0] = V[0]\n",
    "    V_new[-1] = V[-1]\n",
    "    #V_new = np.clip(V_new, 0, smax)\n",
    "    #print(j, V)\n",
    "    V = np.copy(V_new)\n",
    "    #print(j, V)\n",
    "    \n",
    "V_new[int(len(V_new)/2)]"
   ]
  },
  {
   "cell_type": "code",
   "execution_count": 316,
   "id": "339b69fa",
   "metadata": {
    "scrolled": true
   },
   "outputs": [
    {
     "data": {
      "text/plain": [
       "21.788808338829327"
      ]
     },
     "execution_count": 316,
     "metadata": {},
     "output_type": "execute_result"
    }
   ],
   "source": [
    "Black_Scholes_Call(S, K, r, sigma, 1)"
   ]
  },
  {
   "cell_type": "code",
   "execution_count": null,
   "id": "b18778a0",
   "metadata": {},
   "outputs": [],
   "source": [
    "%matplotlib inline\n",
    "import numpy\n",
    "import matplotlib.pyplot as pyplot\n",
    "from matplotlib import rcParams\n",
    "rcParams['figure.dpi'] = 100\n",
    "rcParams['font.size'] = 16\n",
    "rcParams['font.family'] = 'StixGeneral'\n",
    "\n",
    "T = 0.25       # expiry time\n",
    "r = 0.1        # no-risk interest rate\n",
    "sigma = 0.4    # volatility of underlying asset\n",
    "E = 10.        # exercise price\n",
    "S_max = 4*E    # upper bound of price of the stock (4*E)"
   ]
  },
  {
   "cell_type": "code",
   "execution_count": null,
   "id": "20f9f414",
   "metadata": {},
   "outputs": [],
   "source": [
    "def FTCS(C, N, M, dt, r, sigma):\n",
    "    \"\"\"using forward-time central-space scheme to solve the Black-Scholes equation for the call option price\n",
    "    \n",
    "    Arguments:\n",
    "        C:       array of the price of call option\n",
    "        N:       total number of time steps\n",
    "        M:       total number of spatials grids\n",
    "        dt:      time step\n",
    "        r:       no-risk interest rate\n",
    "        sigma:   volatility of the stock\n",
    "    \n",
    "    Returns:\n",
    "        C:       array of the price of call option\n",
    "    \"\"\"\n",
    "    index = numpy.arange(1,M)\n",
    "    for n in range(N):\n",
    "\n",
    "        C[1:-1] = 0.5 * (sigma**2 * index**2 * dt - r*index*dt) * C[0:-2] \\\n",
    "             +       (1 - sigma**2* index**2 *dt - r*dt) * C[1:-1]   \\\n",
    "             + 0.5 * (sigma**2 * index**2 * dt + r*index*dt) * C[2:]\n",
    "    return C"
   ]
  },
  {
   "cell_type": "code",
   "execution_count": null,
   "id": "a8e8f33d",
   "metadata": {},
   "outputs": [],
   "source": [
    "N = 2000       # number of time steps \n",
    "M = 200        # number of space grids\n",
    "dt = T/N       # time step\n",
    "s = numpy.linspace(0, S_max, M+1)   # spatial grid (stock's price)\n",
    "\n",
    "# initial condition & boundary condition\n",
    "C = s - E\n",
    "C = numpy.clip(C, 0, S_max-E)"
   ]
  },
  {
   "cell_type": "code",
   "execution_count": null,
   "id": "7d634d31",
   "metadata": {},
   "outputs": [],
   "source": [
    "numpy.clip(C, 0, S_max-E)"
   ]
  },
  {
   "cell_type": "code",
   "execution_count": null,
   "id": "ddc6871c",
   "metadata": {},
   "outputs": [],
   "source": [
    "C_exp = FTCS(C, N, M, dt, r, sigma)\n",
    "print(f'the price of the call option should be around {C_exp[int(M/2)]}, \\\n",
    "if the current price of stock is 20 dollar.')"
   ]
  },
  {
   "cell_type": "code",
   "execution_count": null,
   "id": "5b8e965c",
   "metadata": {},
   "outputs": [],
   "source": [
    "C[int(len(C)/2)]"
   ]
  },
  {
   "cell_type": "code",
   "execution_count": null,
   "id": "81b16adf",
   "metadata": {},
   "outputs": [],
   "source": [
    "index = numpy.arange(1,M)\n",
    "for n in range(N):\n",
    "\n",
    "    C[1:-1] = 0.5 * (sigma**2 * index**2 * dt - r*index*dt) * C[0:-2] \\\n",
    "        +       (1 - sigma**2* index**2 *dt - r*dt) * C[1:-1]   \\\n",
    "        + 0.5 * (sigma**2 * index**2 * dt + r*index*dt) * C[2:]\n",
    "    "
   ]
  },
  {
   "cell_type": "code",
   "execution_count": null,
   "id": "a08b5f6b",
   "metadata": {},
   "outputs": [],
   "source": [
    "pyplot.figure(figsize=(8,5), dpi=100)\n",
    "pyplot.plot(s,C_exp,color='#20b2aa', ls='--', lw=3, label='FTCS');\n",
    "pyplot.xlabel('Current Price of the Stock (S)')\n",
    "pyplot.ylabel('Price of the call option (C)')\n",
    "pyplot.legend(loc='upper left',prop={'size':15});"
   ]
  }
 ],
 "metadata": {
  "kernelspec": {
   "display_name": "Python 3",
   "language": "python",
   "name": "python3"
  },
  "language_info": {
   "codemirror_mode": {
    "name": "ipython",
    "version": 3
   },
   "file_extension": ".py",
   "mimetype": "text/x-python",
   "name": "python",
   "nbconvert_exporter": "python",
   "pygments_lexer": "ipython3",
   "version": "3.9.2"
  }
 },
 "nbformat": 4,
 "nbformat_minor": 5
}
