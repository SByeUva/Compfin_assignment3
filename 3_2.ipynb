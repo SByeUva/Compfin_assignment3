{
 "cells": [
  {
   "cell_type": "code",
   "execution_count": 1,
   "id": "b3ecd4d7",
   "metadata": {},
   "outputs": [],
   "source": [
    "import numpy as np\n",
    "import math\n",
    "import matplotlib.pyplot as plt"
   ]
  },
  {
   "cell_type": "markdown",
   "id": "85c6614d",
   "metadata": {},
   "source": [
    "## 3.2 Finite difference method"
   ]
  },
  {
   "cell_type": "code",
   "execution_count": 17,
   "id": "5abce805",
   "metadata": {},
   "outputs": [],
   "source": [
    "sigma = 0.3\n",
    "K = 110\n",
    "S = 120\n",
    "r = 0.04\n",
    "N = 100\n",
    "T = 1\n",
    "M1 = 8\n",
    "M2 = -5"
   ]
  },
  {
   "cell_type": "code",
   "execution_count": 18,
   "id": "d94acfec",
   "metadata": {},
   "outputs": [],
   "source": [
    "delx = (M1 - M2) / N\n",
    "deltau = T / N"
   ]
  },
  {
   "cell_type": "code",
   "execution_count": 19,
   "id": "348e37db",
   "metadata": {},
   "outputs": [],
   "source": [
    "grid = np.zeros((N,N))\n"
   ]
  },
  {
   "cell_type": "code",
   "execution_count": 20,
   "id": "4da91e5b",
   "metadata": {},
   "outputs": [],
   "source": [
    "A = np.zeros((N,N))"
   ]
  },
  {
   "cell_type": "code",
   "execution_count": 21,
   "id": "d6fd05a5",
   "metadata": {},
   "outputs": [],
   "source": [
    "amin1 = (0.5*sigma**2 * deltau / delx**2)    -    ((r-0.5*sigma**2) *deltau / (2*delx))\n",
    "aplus1 = (0.5*sigma**2 * deltau / delx**2)    +    ((r-0.5*sigma**2) *deltau / (2*delx))\n",
    "anow = 1-(sigma**2 * deltau / delx**2) - r * deltau\n",
    "\n",
    "np.fill_diagonal(A[1:], amin1)\n",
    "np.fill_diagonal(A[:,1:], aplus1)\n",
    "np.fill_diagonal(A, anow)\n",
    "\n",
    "\n",
    "k1 = math.e**M1\n",
    "k2 = math.e**M1\n",
    "k3 = math.e**M2\n",
    "k4 = math.e**M2\n",
    "\n",
    "A[0,0] = k1\n",
    "A[0,1] = k2\n",
    "A[-1,-2] = k3\n",
    "A[-1, -1] = k4"
   ]
  },
  {
   "cell_type": "code",
   "execution_count": 22,
   "id": "91dccbd0",
   "metadata": {},
   "outputs": [],
   "source": [
    "stocks = np.linspace(M1,M2,N) \n",
    "i=0\n",
    "for row in range(grid.shape[0]):\n",
    "    ans = math.e**(-r*T) * stocks[row] - math.log(K)\n",
    "    if ans > 0:\n",
    "        grid[row,0] = ans\n",
    "    else:\n",
    "        grid[row,0] = 0"
   ]
  },
  {
   "cell_type": "code",
   "execution_count": 23,
   "id": "3b8ae96c",
   "metadata": {},
   "outputs": [],
   "source": [
    "for column in range(N-2):\n",
    "    grid[:,column+1] = np.linalg.solve(A, grid[:,column])"
   ]
  },
  {
   "cell_type": "code",
   "execution_count": 24,
   "id": "dd09f321",
   "metadata": {},
   "outputs": [
    {
     "data": {
      "text/plain": [
       "array([2.98583515, 2.85967088, 2.73350661, 2.60734234, 2.48117807,\n",
       "       2.3550138 , 2.22884953, 2.10268526, 1.97652099, 1.85035672,\n",
       "       1.72419245, 1.59802818, 1.47186391, 1.34569964, 1.21953537,\n",
       "       1.0933711 , 0.96720683, 0.84104256, 0.71487829, 0.58871402,\n",
       "       0.46254975, 0.33638548, 0.21022121, 0.08405694, 0.        ,\n",
       "       0.        , 0.        , 0.        , 0.        , 0.        ,\n",
       "       0.        , 0.        , 0.        , 0.        , 0.        ,\n",
       "       0.        , 0.        , 0.        , 0.        , 0.        ,\n",
       "       0.        , 0.        , 0.        , 0.        , 0.        ,\n",
       "       0.        , 0.        , 0.        , 0.        , 0.        ,\n",
       "       0.        , 0.        , 0.        , 0.        , 0.        ,\n",
       "       0.        , 0.        , 0.        , 0.        , 0.        ,\n",
       "       0.        , 0.        , 0.        , 0.        , 0.        ,\n",
       "       0.        , 0.        , 0.        , 0.        , 0.        ,\n",
       "       0.        , 0.        , 0.        , 0.        , 0.        ,\n",
       "       0.        , 0.        , 0.        , 0.        , 0.        ,\n",
       "       0.        , 0.        , 0.        , 0.        , 0.        ,\n",
       "       0.        , 0.        , 0.        , 0.        , 0.        ,\n",
       "       0.        , 0.        , 0.        , 0.        , 0.        ,\n",
       "       0.        , 0.        , 0.        , 0.        , 0.        ])"
      ]
     },
     "execution_count": 24,
     "metadata": {},
     "output_type": "execute_result"
    }
   ],
   "source": [
    "grid[:,0]"
   ]
  },
  {
   "cell_type": "code",
   "execution_count": 25,
   "id": "490922c3",
   "metadata": {},
   "outputs": [
    {
     "data": {
      "text/plain": [
       "array([1.74252079e+04, 2.85857553e+00, 2.73246173e+00, 2.60634793e+00,\n",
       "       2.48023412e+00, 2.35412032e+00, 2.22800651e+00, 2.10189271e+00,\n",
       "       1.97577891e+00, 1.84966510e+00, 1.72355130e+00, 1.59743749e+00,\n",
       "       1.47132369e+00, 1.34520989e+00, 1.21909608e+00, 1.09298228e+00,\n",
       "       9.66868473e-01, 8.40754669e-01, 7.14640865e-01, 5.88527061e-01,\n",
       "       4.62413256e-01, 3.36299452e-01, 2.10185648e-01, 8.51849477e-02,\n",
       "       2.25436740e-03, 0.00000000e+00, 0.00000000e+00, 0.00000000e+00,\n",
       "       0.00000000e+00, 0.00000000e+00, 0.00000000e+00, 0.00000000e+00,\n",
       "       0.00000000e+00, 0.00000000e+00, 0.00000000e+00, 0.00000000e+00,\n",
       "       0.00000000e+00, 0.00000000e+00, 0.00000000e+00, 0.00000000e+00,\n",
       "       0.00000000e+00, 0.00000000e+00, 0.00000000e+00, 0.00000000e+00,\n",
       "       0.00000000e+00, 0.00000000e+00, 0.00000000e+00, 0.00000000e+00,\n",
       "       0.00000000e+00, 0.00000000e+00, 0.00000000e+00, 0.00000000e+00,\n",
       "       0.00000000e+00, 0.00000000e+00, 0.00000000e+00, 0.00000000e+00,\n",
       "       0.00000000e+00, 0.00000000e+00, 0.00000000e+00, 0.00000000e+00,\n",
       "       0.00000000e+00, 0.00000000e+00, 0.00000000e+00, 0.00000000e+00,\n",
       "       0.00000000e+00, 0.00000000e+00, 0.00000000e+00, 0.00000000e+00,\n",
       "       0.00000000e+00, 0.00000000e+00, 0.00000000e+00, 0.00000000e+00,\n",
       "       0.00000000e+00, 0.00000000e+00, 0.00000000e+00, 0.00000000e+00,\n",
       "       0.00000000e+00, 0.00000000e+00, 0.00000000e+00, 0.00000000e+00,\n",
       "       0.00000000e+00, 0.00000000e+00, 0.00000000e+00, 0.00000000e+00,\n",
       "       0.00000000e+00, 0.00000000e+00, 0.00000000e+00, 0.00000000e+00,\n",
       "       0.00000000e+00, 0.00000000e+00, 0.00000000e+00, 0.00000000e+00,\n",
       "       0.00000000e+00, 0.00000000e+00, 0.00000000e+00, 0.00000000e+00,\n",
       "       0.00000000e+00, 0.00000000e+00, 0.00000000e+00, 0.00000000e+00])"
      ]
     },
     "execution_count": 25,
     "metadata": {},
     "output_type": "execute_result"
    }
   ],
   "source": [
    "np.matmul(A, grid[:,0])"
   ]
  },
  {
   "cell_type": "code",
   "execution_count": 26,
   "id": "7b1b60b8",
   "metadata": {},
   "outputs": [
    {
     "data": {
      "text/plain": [
       "array([0., 0., 0., 0., 0., 0., 0., 0., 0., 0., 0., 0., 0., 0., 0., 0., 0.,\n",
       "       0., 0., 0., 0., 0., 0., 0., 0., 0., 0., 0., 0., 0., 0., 0., 0., 0.,\n",
       "       0., 0., 0., 0., 0., 0., 0., 0., 0., 0., 0., 0., 0., 0., 0., 0., 0.,\n",
       "       0., 0., 0., 0., 0., 0., 0., 0., 0., 0., 0., 0., 0., 0., 0., 0., 0.,\n",
       "       0., 0., 0., 0., 0., 0., 0., 0., 0., 0., 0., 0., 0., 0., 0., 0., 0.,\n",
       "       0., 0., 0., 0., 0., 0., 0., 0., 0., 0., 0., 0., 0., 0., 0.])"
      ]
     },
     "execution_count": 26,
     "metadata": {},
     "output_type": "execute_result"
    }
   ],
   "source": [
    "grid[:,-1]"
   ]
  }
 ],
 "metadata": {
  "kernelspec": {
   "display_name": "Python 3",
   "language": "python",
   "name": "python3"
  },
  "language_info": {
   "codemirror_mode": {
    "name": "ipython",
    "version": 3
   },
   "file_extension": ".py",
   "mimetype": "text/x-python",
   "name": "python",
   "nbconvert_exporter": "python",
   "pygments_lexer": "ipython3",
   "version": "3.9.2"
  }
 },
 "nbformat": 4,
 "nbformat_minor": 5
}
