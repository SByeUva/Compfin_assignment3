{
 "cells": [
  {
   "cell_type": "code",
   "execution_count": 1,
   "id": "cc33c64e",
   "metadata": {},
   "outputs": [],
   "source": [
    "import numpy as np\n",
    "import math\n",
    "import matplotlib.pyplot as plt\n",
    "import scipy.linalg as linalg\n",
    "from numba import jit\n",
    "import scipy"
   ]
  },
  {
   "cell_type": "code",
   "execution_count": null,
   "id": "24498a49",
   "metadata": {},
   "outputs": [],
   "source": [
    "import logging;\n",
    "logging.disable(logging.WARNING)"
   ]
  },
  {
   "cell_type": "code",
   "execution_count": 2,
   "id": "0d1abd3e",
   "metadata": {},
   "outputs": [],
   "source": [
    "from scipy.stats import norm\n",
    "def Black_Scholes_Call(S, K, r, vol, tau):\n",
    "    \"\"\" \n",
    "    Black Scholes Model for European Call\n",
    "    \"\"\"\n",
    "    d1 = (np.log(S / K) + (r + ((vol**2)/2.)*tau)) / (vol*np.sqrt(tau))\n",
    "    d2 = d1 - vol*np.sqrt(tau)\n",
    "    V = S * norm.cdf(d1) - np.exp(-r*tau) * K * norm.cdf(d2)\n",
    "    \n",
    "    return V"
   ]
  },
  {
   "cell_type": "markdown",
   "id": "fb515f74",
   "metadata": {},
   "source": [
    "For this equation, we conclude that\n",
    "\\begin{align}\n",
    "    \\vec{a_{-1}} &= \\frac{1}{2}\\sigma^{2}\\frac{\\Delta\\tau}{\\Delta X^{2}} - \\frac{\\Delta\\tau}{2\\Delta X}(r-\\frac{1}{2}\\sigma^{2}) \\\\\n",
    "    \\vec{a_{0}} &=  1- \\sigma^{2}\\frac{\\Delta\\tau}{\\Delta X^{2}} - r\\Delta\\tau\\\\\n",
    "    \\vec{a_{+1}} &=  \\frac{\\Delta\\tau}{2\\Delta X}(r-\\frac{1}{2}\\sigma^{2})+\\frac{1}{2}\\sigma^{2}\\frac{\\Delta\\tau}{\\Delta X^{2}}\n",
    "\\end{align}"
   ]
  },
  {
   "cell_type": "code",
   "execution_count": 40,
   "id": "891f825f",
   "metadata": {},
   "outputs": [],
   "source": [
    "#@jit(fastmath=True,nopython=False)\n",
    "def FD(S, K, r, sigma, T, N, M, scheme=\"FCTS\"):\n",
    "    # Compute delta T\n",
    "    dt = T/N\n",
    "    M_h = int(M/2)\n",
    "    M -= 1\n",
    "    S_log = np.log(S)\n",
    "    \n",
    "    Xp1 = np.logspace(0,S_log,M_h,endpoint=True, base=math.e)\n",
    "    Xp2 = np.logspace(S_log,S_log*2,M_h,endpoint=True, base=math.e)\n",
    "    X_true = [*Xp1, *Xp2[1:]]\n",
    "    X = np.log(X_true)\n",
    "        \n",
    "    #s_max = 10000\n",
    "    #s_min = 1\n",
    "    #X = np.linspace(np.log(s_min), np.log(s_max), M)\n",
    "    dx = (X[-1] - X[0])/(M-1);\n",
    "    #x_max = np.log(S) + 12*sigma*np.sqrt(T);\n",
    "    #x_min = np.log(S) - 12*sigma*np.sqrt(T);\n",
    "    #s_max = np.exp(x_max)\n",
    "    #s_min = np.exp(x_min)\n",
    "    #dx = (x_max - x_min)/(M);\n",
    "    #X = np.linspace(x_min, x_max, M+1)\n",
    "    \n",
    "    \n",
    "    s_max = X_true[0]\n",
    "    s_min = X_true[-1]\n",
    "    \n",
    "    \n",
    "    \n",
    "    \n",
    "    # Generate stock prices on log scale\n",
    "    # Generate T * S grid\n",
    "    V = np.zeros((M,N))\n",
    "\n",
    "    # Put the discounted values into the first column\n",
    "    V[:, 0] = [max(np.exp(s)-K,0) for s in X]\n",
    "    V[0, -1] = s_max\n",
    "    V[0, 0] = s_min\n",
    "    # Fucking constants\n",
    "    ss = sigma * sigma\n",
    "    dxx = dx*dx\n",
    "    \n",
    "    # a-1, a0, a+1\n",
    "    if scheme==\"FCTS\":\n",
    "        f = (0.5*ss * dt / dxx)\n",
    "        g = (r-0.5*ss) *dt / (2*dx)\n",
    "        h = r * dt\n",
    "        \n",
    "        ad = f-g\n",
    "        a0 = 1-2*f - h\n",
    "        au = f+g\n",
    "    else:       \n",
    "        f = ((r-0.5*ss) * (dt/(4*dx)))\n",
    "        g = (ss*dt)/(4*dxx)\n",
    "        h = (r*dt/2)\n",
    "        \n",
    "        ad = g-f\n",
    "        a0 = 1-2*g-h\n",
    "        au = g+f\n",
    "        \n",
    "        \n",
    "        bd = f-g\n",
    "        b0 = 1+2*g+h\n",
    "        bu = -f-g\n",
    "        \n",
    "        \n",
    "    # Generate matrix A\n",
    "    A = np.zeros((M,M))\n",
    "    \n",
    "    np.fill_diagonal(A[1:], ad)\n",
    "    np.fill_diagonal(A[:,1:], au)\n",
    "    np.fill_diagonal(A, a0)\n",
    "    A[0,0], A[0,1], A[-1,-2], A[-1,-1] = 1,0, 0,1\n",
    "    \n",
    "    if scheme == \"CN\":\n",
    "        B = np.zeros((M,M))\n",
    "    \n",
    "        np.fill_diagonal(B[1:], bd)\n",
    "        np.fill_diagonal(B[:,1:], bu)\n",
    "        np.fill_diagonal(B, b0)\n",
    "        \n",
    "        B[0,0], B[0,1], B[-1,-2], B[-1,-1] = 1,0, 0,1\n",
    "\n",
    "    if scheme == \"CN\":\n",
    "        for i in range(1,N):\n",
    "            b = np.matmul(A, V[:, i-1])\n",
    "            #V[:, i] = np.linalg.solve(B, b)\n",
    "            \n",
    "            V[:, i]  = TDMA(B.diagonal(-1),B.diagonal(0), B.diagonal(+1), b)\n",
    "    else:\n",
    "        for i in range(1,N):\n",
    "            V[:, i] = np.matmul(A, V[:, i-1])\n",
    "\n",
    "    return A, V , X\n",
    "\n",
    "def get_ans(result):\n",
    "    nearest_idx = np.where(abs(np.exp(result[2])-S)==abs(np.exp(result[2])-S).min())[0]\n",
    "    return result[1][nearest_idx, -1]\n",
    "\n",
    "#https://stackoverflow.com/questions/8733015/tridiagonal-matrix-algorithm-tdma-aka-thomas-algorithm-using-python-with-nump\n",
    "@jit(nopython=False)\n",
    "def TDMA(a,b,c,d):\n",
    "    n = len(d)\n",
    "    w= np.zeros(n-1,float)\n",
    "    g= np.zeros(n, float)\n",
    "    p = np.zeros(n,float)\n",
    "    \n",
    "    w[0] = c[0]/b[0]\n",
    "    g[0] = d[0]/b[0]\n",
    "\n",
    "    for i in range(1,n-1):\n",
    "        w[i] = c[i]/(b[i] - a[i-1]*w[i-1])\n",
    "    for i in range(1,n):\n",
    "        g[i] = (d[i] - a[i-1]*g[i-1])/(b[i] - a[i-1]*w[i-1])\n",
    "    p[n-1] = g[n-1]\n",
    "    for i in range(n-1,0,-1):\n",
    "        p[i-1] = g[i-1] - w[i-1]*p[i]\n",
    "    return p"
   ]
  },
  {
   "cell_type": "code",
   "execution_count": 44,
   "id": "9fc94756",
   "metadata": {},
   "outputs": [],
   "source": [
    "sigma = 0.3\n",
    "K = 110\n",
    "S = 110\n",
    "r = 0.04\n",
    "T = 1\n",
    "N = 15000 # time points\n",
    "M =  1000# space points"
   ]
  },
  {
   "cell_type": "code",
   "execution_count": 45,
   "id": "c51f611d",
   "metadata": {},
   "outputs": [
    {
     "name": "stdout",
     "output_type": "stream",
     "text": [
      "Wall time: 0 ns\n"
     ]
    },
    {
     "data": {
      "text/plain": [
       "15.128591111967928"
      ]
     },
     "execution_count": 45,
     "metadata": {},
     "output_type": "execute_result"
    }
   ],
   "source": [
    "%%time\n",
    "Black_Scholes_Call(S, K, r, sigma, T)"
   ]
  },
  {
   "cell_type": "code",
   "execution_count": 46,
   "id": "c62bf428",
   "metadata": {},
   "outputs": [
    {
     "name": "stdout",
     "output_type": "stream",
     "text": [
      "Wall time: 1.92 s\n"
     ]
    },
    {
     "data": {
      "text/plain": [
       "array([15.12664461])"
      ]
     },
     "execution_count": 46,
     "metadata": {},
     "output_type": "execute_result"
    }
   ],
   "source": [
    "%%time\n",
    "result = FD(S, K, r, sigma, T, N, M, scheme=\"FCTS\")\n",
    "get_ans(result)"
   ]
  },
  {
   "cell_type": "code",
   "execution_count": 48,
   "id": "110aa2c6",
   "metadata": {},
   "outputs": [
    {
     "name": "stdout",
     "output_type": "stream",
     "text": [
      "Wall time: 2.5 s\n"
     ]
    },
    {
     "data": {
      "text/plain": [
       "array([15.12652746])"
      ]
     },
     "execution_count": 48,
     "metadata": {},
     "output_type": "execute_result"
    }
   ],
   "source": [
    "%%time\n",
    "result = FD(S, K, r, sigma, T, N, M, scheme=\"CN\")\n",
    "get_ans(result)"
   ]
  },
  {
   "cell_type": "markdown",
   "id": "49dc486c",
   "metadata": {},
   "source": [
    "## Experiments"
   ]
  },
  {
   "cell_type": "code",
   "execution_count": null,
   "id": "a3c4bab9",
   "metadata": {},
   "outputs": [],
   "source": []
  }
 ],
 "metadata": {
  "kernelspec": {
   "display_name": "Python 3",
   "language": "python",
   "name": "python3"
  },
  "language_info": {
   "codemirror_mode": {
    "name": "ipython",
    "version": 3
   },
   "file_extension": ".py",
   "mimetype": "text/x-python",
   "name": "python",
   "nbconvert_exporter": "python",
   "pygments_lexer": "ipython3",
   "version": "3.9.2"
  }
 },
 "nbformat": 4,
 "nbformat_minor": 5
}
