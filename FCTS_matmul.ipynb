{
 "cells": [
  {
   "cell_type": "code",
   "execution_count": 1,
   "id": "cc33c64e",
   "metadata": {},
   "outputs": [],
   "source": [
    "import numpy as np\n",
    "import math\n",
    "import matplotlib.pyplot as plt\n",
    "import scipy.linalg as linalg\n",
    "from numba import jit\n",
    "import scipy\n",
    "from joblib import Parallel, delayed\n",
    "import warnings"
   ]
  },
  {
   "cell_type": "code",
   "execution_count": 2,
   "id": "0d1abd3e",
   "metadata": {},
   "outputs": [],
   "source": [
    "from scipy.stats import norm\n",
    "def Black_Scholes_Call(S, K, r, vol, tau):\n",
    "    \"\"\" \n",
    "    Black Scholes Model for European Call\n",
    "    \"\"\"\n",
    "    d1 = (np.log(S / K) + (r + ((vol**2)/2.)*tau)) / (vol*np.sqrt(tau))\n",
    "    d2 = d1 - vol*np.sqrt(tau)\n",
    "    V = S * norm.cdf(d1) - np.exp(-r*tau) * K * norm.cdf(d2)\n",
    "    \n",
    "    return V"
   ]
  },
  {
   "cell_type": "markdown",
   "id": "fb515f74",
   "metadata": {},
   "source": [
    "For this equation, we conclude that\n",
    "\\begin{align}\n",
    "    \\vec{a_{-1}} &= \\frac{1}{2}\\sigma^{2}\\frac{\\Delta\\tau}{\\Delta X^{2}} - \\frac{\\Delta\\tau}{2\\Delta X}(r-\\frac{1}{2}\\sigma^{2}) \\\\\n",
    "    \\vec{a_{0}} &=  1- \\sigma^{2}\\frac{\\Delta\\tau}{\\Delta X^{2}} - r\\Delta\\tau\\\\\n",
    "    \\vec{a_{+1}} &=  \\frac{\\Delta\\tau}{2\\Delta X}(r-\\frac{1}{2}\\sigma^{2})+\\frac{1}{2}\\sigma^{2}\\frac{\\Delta\\tau}{\\Delta X^{2}}\n",
    "\\end{align}"
   ]
  },
  {
   "cell_type": "code",
   "execution_count": 8,
   "id": "891f825f",
   "metadata": {},
   "outputs": [],
   "source": [
    "#@jit(fastmath=True,nopython=False)\n",
    "def FD(S, K, r, sigma, T, N, M, scheme=\"FCTS\"):\n",
    "    # Compute delta T\n",
    "    dt = T/N\n",
    "    M_h = int(M/2)\n",
    "    M -= 1\n",
    "    S_log = np.log(S)\n",
    "    \n",
    "    Xp1 = np.logspace(0,S_log,M_h,endpoint=True, base=math.e)\n",
    "    Xp2 = np.logspace(S_log,S_log*2,M_h,endpoint=True, base=math.e)\n",
    "    X_true = [*Xp1, *Xp2[1:]]\n",
    "    X = np.log(X_true)\n",
    "        \n",
    "    dx = (X[-1] - X[0])/(M-1);\n",
    "    \n",
    "    if scheme==\"FCTS\":\n",
    "        if not stability_2(S, K, r, sigma, T, N, M):\n",
    "            warnings.warn('Stability cannot be ensured')\n",
    "    \n",
    "    \n",
    "    s_max = X_true[-1]\n",
    "    s_min = 0\n",
    "    \n",
    "    \n",
    "    # Generate stock prices on log scale\n",
    "    # Generate T * S grid\n",
    "    V = np.zeros((M,N))\n",
    "\n",
    "    # Put the discounted values into the first column\n",
    "    V[:, 0] = [max(np.exp(s)-K,0) for s in X]\n",
    "    V[0, -1] = s_max\n",
    "    V[0, 0] = s_min\n",
    "    # Fucking constants\n",
    "    ss = sigma * sigma\n",
    "    dxx = dx*dx\n",
    "    \n",
    "    # a-1, a0, a+1\n",
    "    if scheme==\"FCTS\":\n",
    "        f = (0.5*ss * dt / dxx)\n",
    "        g = (r-0.5*ss) *dt / (2*dx)\n",
    "        h = r * dt\n",
    "        \n",
    "        ad = f-g\n",
    "        a0 = 1-2*f - h\n",
    "        au = f+g\n",
    "    else:       \n",
    "        f = ((r-0.5*ss) * (dt/(4*dx)))\n",
    "        g = (ss*dt)/(4*dxx)\n",
    "        h = (r*dt/2)\n",
    "        \n",
    "        ad = g-f\n",
    "        a0 = 1-2*g-h\n",
    "        au = g+f\n",
    "        \n",
    "        \n",
    "        bd = f-g\n",
    "        b0 = 1+2*g+h\n",
    "        bu = -f-g\n",
    "        \n",
    "        \n",
    "    # Generate matrix A\n",
    "    A = np.zeros((M,M))\n",
    "    \n",
    "    np.fill_diagonal(A[1:], ad)\n",
    "    np.fill_diagonal(A[:,1:], au)\n",
    "    np.fill_diagonal(A, a0)\n",
    "    A[0,0], A[0,1], A[-1,-2], A[-1,-1] = 1,0, 0,1\n",
    "    \n",
    "    if scheme == \"CN\":\n",
    "        B = np.zeros((M,M))\n",
    "    \n",
    "        np.fill_diagonal(B[1:], bd)\n",
    "        np.fill_diagonal(B[:,1:], bu)\n",
    "        np.fill_diagonal(B, b0)\n",
    "        \n",
    "        B[0,0], B[0,1], B[-1,-2], B[-1,-1] = 1,0, 0,1\n",
    "\n",
    "        \n",
    "    # main loop\n",
    "    if scheme == \"CN\":\n",
    "        for i in range(1,N):\n",
    "            b = np.matmul(A, V[:, i-1])\n",
    "            n = len(b)\n",
    "            w= np.zeros(n-1, float)\n",
    "            g= np.zeros(n, float)\n",
    "            p = np.zeros(n,float)\n",
    "            V[:, i]  = TDMA(B.diagonal(-1),B.diagonal(0), B.diagonal(+1), b, w, g, p, n)\n",
    "    else:\n",
    "        for i in range(1,N):\n",
    "            V[:, i] = np.matmul(A, V[:, i-1])\n",
    "\n",
    "    return A, V , X\n",
    "\n",
    "# returns the answer from a result object\n",
    "def get_ans(result, S):\n",
    "    nearest_idx = np.where(abs(np.exp(result[2])-S)==abs(np.exp(result[2])-S).min())[0]\n",
    "    return result[1][nearest_idx, -1]\n",
    "\n",
    "def stability_2(S, K, r, sigma, T, N, M):\n",
    "    dt = T/N\n",
    "    M_h = int(M/2)\n",
    "    M -= 1\n",
    "    S_log = np.log(S)\n",
    "    \n",
    "    Xp1 = np.logspace(0,S_log,M_h,endpoint=True, base=math.e)\n",
    "    Xp2 = np.logspace(S_log,S_log*2,M_h,endpoint=True, base=math.e)\n",
    "    X_true = [*Xp1, *Xp2[1:]]\n",
    "    X = np.log(X_true)\n",
    "        \n",
    "    dx = (X[-1] - X[0])/(M-1);\n",
    "    mesh_ratio = (dt*(2*sigma**2 + dx**2)) / (4*dx**2)\n",
    "    if mesh_ratio <= 0.5:\n",
    "        if mesh_ratio >= 0:\n",
    "            return True\n",
    "    return False\n",
    "\n",
    "\n",
    "#https://stackoverflow.com/questions/8733015/tridiagonal-matrix-algorithm-tdma-aka-thomas-algorithm-using-python-with-nump\n",
    "@jit(nopython=False)\n",
    "def TDMA(a,b,c,d, w, g, p, n):\n",
    "    #n = len(d)\n",
    "    #w= np.zeros(n-1,float)\n",
    "    #g= np.zeros(n, float)\n",
    "    #p = np.zeros(n,float)\n",
    "    \n",
    "    w[0] = c[0]/b[0]\n",
    "    g[0] = d[0]/b[0]\n",
    "\n",
    "    for i in range(1,n-1):\n",
    "        w[i] = c[i]/(b[i] - a[i-1]*w[i-1])\n",
    "    for i in range(1,n):\n",
    "        g[i] = (d[i] - a[i-1]*g[i-1])/(b[i] - a[i-1]*w[i-1])\n",
    "    p[n-1] = g[n-1]\n",
    "    for i in range(n-1,0,-1):\n",
    "        p[i-1] = g[i-1] - w[i-1]*p[i]\n",
    "    return p"
   ]
  },
  {
   "cell_type": "code",
   "execution_count": 4,
   "id": "9fc94756",
   "metadata": {},
   "outputs": [],
   "source": [
    "sigma = 0.3\n",
    "K = 110\n",
    "S = 100\n",
    "r = 0.04\n",
    "T = 1\n",
    "N = 1000 # time points\n",
    "M =  1200# space points"
   ]
  },
  {
   "cell_type": "code",
   "execution_count": 5,
   "id": "c51f611d",
   "metadata": {},
   "outputs": [
    {
     "name": "stdout",
     "output_type": "stream",
     "text": [
      "Wall time: 0 ns\n"
     ]
    },
    {
     "data": {
      "text/plain": [
       "9.625357828843697"
      ]
     },
     "execution_count": 5,
     "metadata": {},
     "output_type": "execute_result"
    }
   ],
   "source": [
    "%%time\n",
    "Black_Scholes_Call(S, K, r, sigma, T)"
   ]
  },
  {
   "cell_type": "code",
   "execution_count": 17,
   "id": "c62bf428",
   "metadata": {},
   "outputs": [
    {
     "name": "stdout",
     "output_type": "stream",
     "text": [
      "0.10418512834986486\n",
      "Wall time: 40.6 ms\n"
     ]
    },
    {
     "data": {
      "text/plain": [
       "array([9.56848388])"
      ]
     },
     "execution_count": 17,
     "metadata": {},
     "output_type": "execute_result"
    }
   ],
   "source": [
    "%%time\n",
    "result = FD(S, K, r, sigma, T, 200, 200, scheme=\"FCTS\")\n",
    "get_ans(result, S)"
   ]
  },
  {
   "cell_type": "code",
   "execution_count": null,
   "id": "085cc423",
   "metadata": {},
   "outputs": [],
   "source": [
    "%%time\n",
    "result = FD(S, K, r, sigma, T, N, M, scheme=\"CN\")\n",
    "get_ans(result, S)"
   ]
  },
  {
   "cell_type": "markdown",
   "id": "1e3c392e",
   "metadata": {},
   "source": [
    "## Experiments"
   ]
  },
  {
   "cell_type": "markdown",
   "id": "055d307d",
   "metadata": {},
   "source": [
    "### Space experiment"
   ]
  },
  {
   "cell_type": "code",
   "execution_count": null,
   "id": "80d47124",
   "metadata": {},
   "outputs": [],
   "source": [
    "def space_experiment(scheme, points):\n",
    "    results = Parallel(n_jobs=10)(delayed(FD)(S, K, r, sigma, T, N, M=int(point), scheme=scheme)\n",
    "                                 for point in points)\n",
    "    final = []\n",
    "    for result in results:\n",
    "        final.append(get_ans(result, S))\n",
    "        \n",
    "    return final"
   ]
  },
  {
   "cell_type": "code",
   "execution_count": null,
   "id": "cb574d42",
   "metadata": {},
   "outputs": [],
   "source": [
    "points = np.arange(50,800,10)\n",
    "y = space_experiment(\"FCTS\", points)\n",
    "plt.plot(points, abs(y-Black_Scholes_Call(S, K, r, sigma, T)))"
   ]
  },
  {
   "cell_type": "code",
   "execution_count": null,
   "id": "643ab3d7",
   "metadata": {},
   "outputs": [],
   "source": [
    "y = space_experiment(\"CN\", points)\n",
    "plt.plot(points, abs(y-Black_Scholes_Call(S, K, r, sigma, T)))"
   ]
  },
  {
   "cell_type": "code",
   "execution_count": null,
   "id": "f1952b87",
   "metadata": {},
   "outputs": [],
   "source": [
    "points = np.arange(1000,7000,500)\n",
    "y = space_experiment(\"CN\", points)\n",
    "plt.plot(points, abs(y-Black_Scholes_Call(S, K, r, sigma, T)))"
   ]
  },
  {
   "cell_type": "code",
   "execution_count": null,
   "id": "af3cdb70",
   "metadata": {},
   "outputs": [],
   "source": [
    "y = space_experiment(\"FCTS\", points)\n",
    "plt.plot(points, abs(y-Black_Scholes_Call(S, K, r, sigma, T)))"
   ]
  },
  {
   "cell_type": "code",
   "execution_count": null,
   "id": "6ac71b06",
   "metadata": {},
   "outputs": [],
   "source": [
    "fig = plt.figure()\n",
    "ax = fig.add_subplot(111)\n",
    "ax.plot(points, abs(y-Black_Scholes_Call(S, K, r, sigma, T)))\n",
    "ax.set_yscale(\"log\")"
   ]
  },
  {
   "cell_type": "markdown",
   "id": "3be36387",
   "metadata": {},
   "source": [
    "### Experiment 2: Time points"
   ]
  },
  {
   "cell_type": "code",
   "execution_count": null,
   "id": "3387904f",
   "metadata": {},
   "outputs": [],
   "source": [
    "def time_experiment(scheme, points):\n",
    "    results = Parallel(n_jobs=10)(delayed(FD)(S, K, r, sigma, T, N=point, M=M, scheme=scheme)\n",
    "                                 for point in points)\n",
    "    final = []\n",
    "    for result in results:\n",
    "        final.append(get_ans(result, S))\n",
    "        \n",
    "    return final"
   ]
  },
  {
   "cell_type": "code",
   "execution_count": null,
   "id": "508a17e9",
   "metadata": {},
   "outputs": [],
   "source": [
    "points = np.arange(50,800,10)\n",
    "y = time_experiment(\"FCTS\", points)\n",
    "plt.plot(points, abs(y-Black_Scholes_Call(S, K, r, sigma, T)))"
   ]
  },
  {
   "cell_type": "code",
   "execution_count": null,
   "id": "feffe02c",
   "metadata": {},
   "outputs": [],
   "source": [
    "result = FD(S, K, r, sigma, T, 1600, M, scheme=\"FCTS\")\n",
    "get_ans(result, S)"
   ]
  },
  {
   "cell_type": "code",
   "execution_count": null,
   "id": "6fd0b4e0",
   "metadata": {},
   "outputs": [],
   "source": [
    "result = FD(S, K, r, sigma, T, 100, 300, scheme=\"FCTS\")\n",
    "get_ans(result, S)"
   ]
  },
  {
   "cell_type": "code",
   "execution_count": null,
   "id": "ec952528",
   "metadata": {},
   "outputs": [],
   "source": [
    "points = np.arange(50,800,10)\n",
    "y = time_experiment(\"CN\", points)\n",
    "plt.plot(points, abs(y-Black_Scholes_Call(S, K, r, sigma, T)))"
   ]
  },
  {
   "cell_type": "code",
   "execution_count": null,
   "id": "cdc2d258",
   "metadata": {},
   "outputs": [],
   "source": [
    "points = np.arange(50,800,10)\n",
    "y = time_experiment(\"FCTS\", points)\n",
    "plt.plot(points, abs(y-Black_Scholes_Call(S, K, r, sigma, T)))"
   ]
  },
  {
   "cell_type": "code",
   "execution_count": null,
   "id": "e9a17b6c",
   "metadata": {},
   "outputs": [],
   "source": [
    "points = np.arange(1000,7000,500)\n",
    "y = time_experiment(\"CN\", points)\n",
    "plt.plot(points, abs(y-Black_Scholes_Call(S, K, r, sigma, T)))"
   ]
  },
  {
   "cell_type": "code",
   "execution_count": null,
   "id": "b688a1d6",
   "metadata": {},
   "outputs": [],
   "source": [
    "points = np.arange(1000,7000,500)\n",
    "y = time_experiment(\"FCTS\", points)\n",
    "plt.plot(points, abs(y-Black_Scholes_Call(S, K, r, sigma, T)))"
   ]
  },
  {
   "cell_type": "markdown",
   "id": "9d396e7d",
   "metadata": {},
   "source": [
    "### Conlusion: run CN with big mesh"
   ]
  },
  {
   "cell_type": "code",
   "execution_count": null,
   "id": "55a820a6",
   "metadata": {},
   "outputs": [],
   "source": [
    "result = FD(S, K, r, sigma, T, 10000, 10000, scheme=\"CN\")\n",
    "get_ans(result, S)\n",
    "np.save(\"data/S_100\", result[1])\n",
    "np.save(\"data/X_S_100\", result[2])"
   ]
  },
  {
   "cell_type": "code",
   "execution_count": null,
   "id": "0f352c1b",
   "metadata": {},
   "outputs": [],
   "source": [
    "Black_Scholes_Call(S, K, r, sigma, T)"
   ]
  },
  {
   "cell_type": "markdown",
   "id": "565ac1a9",
   "metadata": {},
   "source": [
    "### Retrieve hedge parameter from data"
   ]
  },
  {
   "cell_type": "code",
   "execution_count": null,
   "id": "ca743e88",
   "metadata": {},
   "outputs": [],
   "source": [
    "def Delta_Analytical_Call(S, K, r, sigma, tau):\n",
    "    d1 = (math.log(S/K) + (r + 0.5 * sigma**2) * tau) / (sigma * math.sqrt(tau))\n",
    "    return norm.cdf(d1)"
   ]
  },
  {
   "cell_type": "code",
   "execution_count": null,
   "id": "deef8cfa",
   "metadata": {},
   "outputs": [],
   "source": [
    "Delta_Analytical_Call(100, K, r, sigma, 1)"
   ]
  },
  {
   "cell_type": "code",
   "execution_count": null,
   "id": "33230276",
   "metadata": {},
   "outputs": [],
   "source": [
    "def get_delta(result, S, timepoint = -1):\n",
    "    nearest_idx = np.where(abs(np.exp(result[2])-S)==abs(np.exp(result[2])-S).min())[0]\n",
    "    delV = result[1][nearest_idx+1, timepoint] - result[1][nearest_idx-1, timepoint]\n",
    "    stonks = np.exp(result[2])\n",
    "    delS = stonks[nearest_idx+1] - stonks[nearest_idx-1]\n",
    "    return delV/delS"
   ]
  },
  {
   "cell_type": "code",
   "execution_count": null,
   "id": "b0b1e26c",
   "metadata": {},
   "outputs": [],
   "source": [
    "get_delta(result, 100)"
   ]
  },
  {
   "cell_type": "code",
   "execution_count": null,
   "id": "545852b2",
   "metadata": {},
   "outputs": [],
   "source": [
    "get_delta(result, 100, 30)"
   ]
  },
  {
   "cell_type": "code",
   "execution_count": null,
   "id": "2700584a",
   "metadata": {},
   "outputs": [],
   "source": [
    "np.arange(80, 150, 3)"
   ]
  },
  {
   "cell_type": "code",
   "execution_count": null,
   "id": "5922ce5e",
   "metadata": {},
   "outputs": [],
   "source": [
    "deltas = []\n",
    "ss = np.arange(20, 250, 3)\n",
    "tt = [0,3000,-1]\n",
    "for t in tt:\n",
    "    time = []\n",
    "    for s in ss:\n",
    "        time.append(get_delta(result, s, t))\n",
    "    deltas.append(time)"
   ]
  },
  {
   "cell_type": "code",
   "execution_count": null,
   "id": "81226a16",
   "metadata": {},
   "outputs": [],
   "source": [
    "plt.plot(ss, deltas[0])"
   ]
  },
  {
   "cell_type": "code",
   "execution_count": null,
   "id": "b5ccb6f2",
   "metadata": {},
   "outputs": [],
   "source": [
    "plt.plot(ss, deltas[1])"
   ]
  },
  {
   "cell_type": "code",
   "execution_count": null,
   "id": "953d7e4d",
   "metadata": {},
   "outputs": [],
   "source": [
    "plt.plot(ss, deltas[2])"
   ]
  }
 ],
 "metadata": {
  "kernelspec": {
   "display_name": "Python 3",
   "language": "python",
   "name": "python3"
  },
  "language_info": {
   "codemirror_mode": {
    "name": "ipython",
    "version": 3
   },
   "file_extension": ".py",
   "mimetype": "text/x-python",
   "name": "python",
   "nbconvert_exporter": "python",
   "pygments_lexer": "ipython3",
   "version": "3.9.2"
  }
 },
 "nbformat": 4,
 "nbformat_minor": 5
}
