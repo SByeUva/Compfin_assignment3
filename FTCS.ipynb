{
 "cells": [
  {
   "cell_type": "code",
   "execution_count": 1,
   "id": "cc33c64e",
   "metadata": {},
   "outputs": [],
   "source": [
    "import numpy as np\n",
    "import math\n",
    "import matplotlib.pyplot as plt\n",
    "import scipy.linalg as linalg\n",
    "from numba import jit"
   ]
  },
  {
   "cell_type": "code",
   "execution_count": 2,
   "id": "0d1abd3e",
   "metadata": {},
   "outputs": [],
   "source": [
    "from scipy.stats import norm\n",
    "def Black_Scholes_Call(S, K, r, vol, tau):\n",
    "    \"\"\" \n",
    "    Black Scholes Model for European Call\n",
    "    \"\"\"\n",
    "    d1 = (np.log(S / K) + (r + ((vol**2)/2.)*tau)) / (vol*np.sqrt(tau))\n",
    "    d2 = d1 - vol*np.sqrt(tau)\n",
    "    V = S * norm.cdf(d1) - np.exp(-r*tau) * K * norm.cdf(d2)\n",
    "    \n",
    "    return V"
   ]
  },
  {
   "cell_type": "code",
   "execution_count": 31,
   "id": "9fc94756",
   "metadata": {},
   "outputs": [],
   "source": [
    "sigma = 0.3\n",
    "K = 110\n",
    "S = 100\n",
    "r = 0.04\n",
    "T = 1\n",
    "N = 400# time points\n",
    "M =  400# space points"
   ]
  },
  {
   "cell_type": "code",
   "execution_count": 32,
   "id": "c51f611d",
   "metadata": {},
   "outputs": [
    {
     "data": {
      "text/plain": [
       "9.625357828843697"
      ]
     },
     "execution_count": 32,
     "metadata": {},
     "output_type": "execute_result"
    }
   ],
   "source": [
    "Black_Scholes_Call(S, K, r, sigma, T)"
   ]
  },
  {
   "cell_type": "code",
   "execution_count": 33,
   "id": "e81da210",
   "metadata": {
    "scrolled": true
   },
   "outputs": [
    {
     "name": "stdout",
     "output_type": "stream",
     "text": [
      "0.0025\n",
      "0.018\n",
      "-0.3475694444444445 1.6945444444444446 -0.3468750000000001\n",
      "[[-1.          1.          0.         ...  0.          0.\n",
      "   0.        ]\n",
      " [-0.34756944  1.69454444 -0.346875   ...  0.          0.\n",
      "   0.        ]\n",
      " [ 0.         -0.34756944  1.69454444 ...  0.          0.\n",
      "   0.        ]\n",
      " ...\n",
      " [ 0.          0.          0.         ...  1.69454444 -0.346875\n",
      "   0.        ]\n",
      " [ 0.          0.          0.         ... -0.34756944  1.69454444\n",
      "  -0.346875  ]\n",
      " [ 0.          0.          0.         ...  0.         -1.\n",
      "   1.        ]]\n"
     ]
    },
    {
     "data": {
      "text/plain": [
       "9.630705997071836"
      ]
     },
     "execution_count": 33,
     "metadata": {},
     "output_type": "execute_result"
    }
   ],
   "source": [
    "FTCS(S, K, r, sigma, T, N, M)"
   ]
  },
  {
   "cell_type": "code",
   "execution_count": 14,
   "id": "891f825f",
   "metadata": {},
   "outputs": [],
   "source": [
    "def FTCS(S, K, r, vol, T, N, M):\n",
    "    # Compute delta T\n",
    "    dt = T/N\n",
    "    print(dt)\n",
    "\n",
    "    # Assignmen 3 part 3 boundaries\n",
    "    x_max = np.log(S) + 12*sigma*np.sqrt(T);\n",
    "    x_min = np.log(S) - 12*sigma*np.sqrt(T);\n",
    "    dx = (x_max - x_min)/M;\n",
    "    print(dx)\n",
    "\n",
    "    # Generate stock prices on log scale\n",
    "    X = np.linspace(x_min, x_max, M+1)\n",
    "    # Generate T * S grid\n",
    "    V = np.zeros((N+1, M+1))\n",
    "\n",
    "    # Put the discounted values into the first column\n",
    "    V[0, :] = [max(np.exp(stocks)-K,0) for stocks in X]\n",
    "\n",
    "    # Fucking constants\n",
    "    ss = sigma * sigma\n",
    "    dxx = dx*dx\n",
    "    \n",
    "    # a-1, a0, a+1\n",
    "    ad = (dt/2)* ((r - 1/2*ss)/dx - ss/dxx)\n",
    "    a0 = 1 + dt*(ss/(dxx) + r)\n",
    "    au = (dt/2)*(-ss/dxx - (r - 1/2*ss)/dx)\n",
    "    print(ad, a0, au)\n",
    "\n",
    "    # Generate matrix A\n",
    "    A = np.zeros((M+1, M+1))\n",
    "    for i in range(1, M):\n",
    "        A[i,i-1] = ad\n",
    "        A[i,i] = a0\n",
    "        A[i,i+1] = au\n",
    "    A[0,0], A[0,1], A[-1,-1], A[-1,-2] = -1, 1, 1, -1\n",
    "    #A[0,0], A[0,1], A[-1,-1], A[-1,-2] = 0,0,0,0\n",
    "    print(A)\n",
    "\n",
    "    # V[n+1] = A * V[m]\n",
    "    for i in range(0,N):\n",
    "        V[i+1, :] = np.linalg.solve(A,V[i,:])\n",
    "\n",
    "    return V[-1,int(M/2)]"
   ]
  },
  {
   "cell_type": "code",
   "execution_count": null,
   "id": "ff9f787d",
   "metadata": {},
   "outputs": [],
   "source": []
  },
  {
   "cell_type": "code",
   "execution_count": null,
   "id": "c668004e",
   "metadata": {},
   "outputs": [],
   "source": []
  },
  {
   "cell_type": "code",
   "execution_count": null,
   "id": "392dccf8",
   "metadata": {},
   "outputs": [],
   "source": []
  },
  {
   "cell_type": "code",
   "execution_count": null,
   "id": "56727efe",
   "metadata": {},
   "outputs": [],
   "source": []
  },
  {
   "cell_type": "code",
   "execution_count": null,
   "id": "98d23522",
   "metadata": {},
   "outputs": [],
   "source": [
    "def FTCS(S, K, r, vol, T, N, M):\n",
    "    # Compute delta T\n",
    "    dt = T/N\n",
    "    print(dt)\n",
    "\n",
    "    # Assignmen 3 part 3 boundaries\n",
    "    x_max = np.log(S) + 12*sigma*np.sqrt(T);\n",
    "    x_min = np.log(S) - 12*sigma*np.sqrt(T);\n",
    "    dx = (x_max - x_min)/M;\n",
    "    print(dx)\n",
    "\n",
    "    # Generate stock prices on log scale\n",
    "    X = np.linspace(x_min, x_max, M+1)\n",
    "    # Generate T * S grid\n",
    "    V = np.zeros((N+1, M+1))\n",
    "\n",
    "    # Put the discounted values into the first column\n",
    "    V[0, :] = [max(np.exp(stocks)-K,0) for stocks in X]\n",
    "\n",
    "    # Fucking constants\n",
    "    ss = sigma * sigma\n",
    "    dxx = dx*dx\n",
    "    \n",
    "    # a-1, a0, a+1\n",
    "    ad = 0.5 * (ss * dxx * dt - r*dxx*dt)\n",
    "    a0 = 1 + dt*(ss/(dxx) + r)\n",
    "    au = (dt/2)*(-ss/dxx - (r - 1/2*ss)/dx)\n",
    "    print(ad, a0, au)\n",
    "\n",
    "    # Generate matrix A\n",
    "    A = np.zeros((M+1, M+1))\n",
    "    for i in range(1, M):\n",
    "        A[i,i-1] = ad\n",
    "        A[i,i] = a0\n",
    "        A[i,i+1] = au\n",
    "    A[0,0], A[0,1], A[-1,-1], A[-1,-2] = -1, 1, 1, -1\n",
    "    #A[0,0], A[0,1], A[-1,-1], A[-1,-2] = 0,0,0,0\n",
    "    print(A)\n",
    "\n",
    "    # V[n+1] = A * V[m]\n",
    "    for i in range(0,N):\n",
    "        V[i+1, :] = np.linalg.solve(A,V[i,:])\n",
    "\n",
    "    return V[-1,int(M/2)]"
   ]
  }
 ],
 "metadata": {
  "kernelspec": {
   "display_name": "Python 3",
   "language": "python",
   "name": "python3"
  },
  "language_info": {
   "codemirror_mode": {
    "name": "ipython",
    "version": 3
   },
   "file_extension": ".py",
   "mimetype": "text/x-python",
   "name": "python",
   "nbconvert_exporter": "python",
   "pygments_lexer": "ipython3",
   "version": "3.9.2"
  }
 },
 "nbformat": 4,
 "nbformat_minor": 5
}
