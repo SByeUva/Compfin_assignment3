{
 "cells": [
  {
   "cell_type": "code",
   "execution_count": 5,
   "id": "5c40f267",
   "metadata": {},
   "outputs": [],
   "source": [
    "import numpy as np\n",
    "import scipy.integrate as integrate"
   ]
  },
  {
   "cell_type": "code",
   "execution_count": 3,
   "id": "3d30862e",
   "metadata": {},
   "outputs": [],
   "source": [
    "r, sigma, S0, K, T = 0.04, 0.3, 100, 110, 1"
   ]
  },
  {
   "cell_type": "code",
   "execution_count": 4,
   "id": "e786520b",
   "metadata": {},
   "outputs": [],
   "source": [
    "a = np.log(S0/K) + r*T - 12*np.sqrt(sigma*sigma*T)\n",
    "b = np.log(S0/K) + r*T + 12*np.sqrt(sigma*sigma*T)"
   ]
  },
  {
   "cell_type": "code",
   "execution_count": null,
   "id": "a89d2bbb",
   "metadata": {},
   "outputs": [],
   "source": [
    "def Fn(a,b,n):\n",
    "    \n",
    "    (2/(b-a)) * \n",
    "    "
   ]
  },
  {
   "cell_type": "code",
   "execution_count": null,
   "id": "97d2e7f9",
   "metadata": {},
   "outputs": [],
   "source": [
    "phi(x, r, sigma, T):\n",
    "    np.exp()"
   ]
  },
  {
   "cell_type": "code",
   "execution_count": 7,
   "id": "d6e81854",
   "metadata": {},
   "outputs": [
    {
     "ename": "TypeError",
     "evalue": "quad() missing 3 required positional arguments: 'func', 'a', and 'b'",
     "output_type": "error",
     "traceback": [
      "\u001b[1;31m---------------------------------------------------------------------------\u001b[0m",
      "\u001b[1;31mTypeError\u001b[0m                                 Traceback (most recent call last)",
      "\u001b[1;32m~\\AppData\\Local\\Temp/ipykernel_6304/4206681077.py\u001b[0m in \u001b[0;36m<module>\u001b[1;34m\u001b[0m\n\u001b[1;32m----> 1\u001b[1;33m \u001b[0mintegrate\u001b[0m\u001b[1;33m.\u001b[0m\u001b[0mquad\u001b[0m\u001b[1;33m(\u001b[0m\u001b[1;33m)\u001b[0m\u001b[1;33m\u001b[0m\u001b[1;33m\u001b[0m\u001b[0m\n\u001b[0m",
      "\u001b[1;31mTypeError\u001b[0m: quad() missing 3 required positional arguments: 'func', 'a', and 'b'"
     ]
    }
   ],
   "source": [
    "integrate.quad()"
   ]
  },
  {
   "cell_type": "code",
   "execution_count": null,
   "id": "cc33c64e",
   "metadata": {},
   "outputs": [],
   "source": []
  }
 ],
 "metadata": {
  "kernelspec": {
   "display_name": "Python 3",
   "language": "python",
   "name": "python3"
  },
  "language_info": {
   "codemirror_mode": {
    "name": "ipython",
    "version": 3
   },
   "file_extension": ".py",
   "mimetype": "text/x-python",
   "name": "python",
   "nbconvert_exporter": "python",
   "pygments_lexer": "ipython3",
   "version": "3.9.2"
  }
 },
 "nbformat": 4,
 "nbformat_minor": 5
}
