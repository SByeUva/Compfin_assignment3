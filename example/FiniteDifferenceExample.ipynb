{
 "cells": [
  {
   "cell_type": "markdown",
   "metadata": {
    "slideshow": {
     "slide_type": "slide"
    }
   },
   "source": [
    "# Solving 2D heat equation using finite difference method"
   ]
  },
  {
   "cell_type": "markdown",
   "metadata": {
    "slideshow": {
     "slide_type": "subslide"
    }
   },
   "source": [
    "In this notebook we will use the example (based on https://levelup.gitconnected.com/solving-2d-heat-equation-numerically-using-python-3334004aa01a) of a simple heat equation to illustrate the solution of a finite difference method. Recall that a 2D heat equation is given by the following partial differential equation (PDE):\n",
    "\n",
    "$$\n",
    "    \\frac{\\partial u}{\\partial t} = \\alpha \\left(\\frac{\\partial ^ 2 u} {\\partial x^2} + \\frac{\\partial ^ 2 u} {\\partial y^2}\\right)\n",
    "$$\n",
    "\n",
    "In order to solve the above PDE, we will  “discretize” the spatial domain $x$,$y$ and the time interval $t$. \n",
    "\n",
    "<img src=\"grid.png\" width=\"500\" height=\"300\">\n",
    "\n",
    "We can use the following dicretization for the spatial and time dimensions.\n",
    "\n",
    "$$x_i = i \\Delta x $$\n",
    "\n",
    "$$y_j = j \\Delta y $$\n",
    "\n",
    "$$t_n = n \\Delta t $$\n",
    "\n",
    "As we can see, $i$, $j$, and $n$ are the steps for each difference for $x$, $y$, and $t$ respectively. What we want is the solution $u$, which is\n",
    "\n",
    "$$u(x,y,t) = u_{i,j}^{n}$$\n",
    "\n",
    "We can write the heat equation above using finite-difference method \n",
    "\n",
    "$$ \\frac{u_{i,j}^{n+1}- u_{i,j}^{n}}{\\Delta t} -\\alpha \\left(\\frac{u_{i+1,j}^{n} - 2 u_{i,j}^{n} + u_{i-1,j}^{n}}{\\Delta x^2} + \\frac{u_{i,j+1}^{n} - 2 u_{i,j}^{n} + u_{i,j-1}^{n}}{\\Delta y^2}\\right) = 0$$\n",
    "\n",
    "which can be rewritten as \n",
    "\n",
    "$$ u_{i,j}^{n+1} = \\gamma (u_{i+1,j}^{n} + u_{i-1,j}^{n} + u_{i,j+1}^{n} + u_{i,j-1}^{n} - 4 u_{i,j}^{n}) + u_{i,j}^{n} $$\n",
    "\n",
    "where $$\\gamma = \\alpha\\frac{\\Delta t}{\\Delta x^2}.$$ \n",
    "\n",
    "We use explicit method to get the solution for the heat equation, so it will be numerically stable whenever $$ \\Delta t \\leq \\frac{\\Delta x^2}{4 \\alpha}.$$\n",
    "We can also the picture below to intuitively understand the above equation.\n",
    "\n",
    "<img src=\"eqn_grid.png\" width=\"250\" height=\"150\">\n",
    "\n",
    "For an implementation, let’s suppose a thin square plate with the side of 50 unit length. The temperature everywhere inside the plate is originally 0 degree (at $t =0$), except at one edge which is at 100 degrees.\n",
    "\n",
    "<img src=\"bdry.png\" width=\"400\" height=\"250\">"
   ]
  },
  {
   "cell_type": "markdown",
   "metadata": {},
   "source": [
    "# Implementing the Finite Difference method in Python"
   ]
  },
  {
   "cell_type": "code",
   "execution_count": 1,
   "metadata": {
    "collapsed": true
   },
   "outputs": [],
   "source": [
    "import numpy as np\n",
    "import matplotlib.pyplot as plt\n",
    "import matplotlib.animation as animation\n",
    "from matplotlib.animation import FuncAnimation"
   ]
  },
  {
   "cell_type": "code",
   "execution_count": 2,
   "metadata": {
    "collapsed": true
   },
   "outputs": [],
   "source": [
    "# We use numpy (for array related operations) and matplotlib (for plotting) \n",
    "# because they will help us a lot\n",
    "\n",
    "def initialize_grid(max_iter_time, plate_length, boundary_value):\n",
    "    \n",
    "    # Initialize solution: the grid of u(k, i, j)\n",
    "    u = np.empty((max_iter_time, plate_length, plate_length))\n",
    "\n",
    "    # Initial condition everywhere inside the grid\n",
    "    u_initial = 0.0\n",
    "\n",
    "    # Boundary conditions (fixed temperature)\n",
    "    u_top = boundary_value\n",
    "    u_left = 0.0\n",
    "    u_bottom = 0.0\n",
    "    u_right = 0.0\n",
    "\n",
    "    # Set the initial condition\n",
    "    u.fill(u_initial)\n",
    "\n",
    "    # Set the boundary conditions\n",
    "    u[:, (plate_length-1):, :] = u_top\n",
    "    u[:, :, :1] = u_left\n",
    "    u[:, :1, 1:] = u_bottom\n",
    "    u[:, :, (plate_length-1):] = u_right\n",
    "\n",
    "\n",
    "    print(\"\\nInitial 2-D grid in spatial dimension for time snapshot t=0 is listed below\\n\")\n",
    "    print(u[0,:,:])\n",
    "    return u"
   ]
  },
  {
   "cell_type": "code",
   "execution_count": 3,
   "metadata": {},
   "outputs": [
    {
     "name": "stdout",
     "output_type": "stream",
     "text": [
      "\n",
      "Initial 2-D grid in spatial dimension for time snapshot t=0 is listed below\n",
      "\n",
      "[[   0.    0.    0. ...,    0.    0.    0.]\n",
      " [   0.    0.    0. ...,    0.    0.    0.]\n",
      " [   0.    0.    0. ...,    0.    0.    0.]\n",
      " ..., \n",
      " [   0.    0.    0. ...,    0.    0.    0.]\n",
      " [   0.    0.    0. ...,    0.    0.    0.]\n",
      " [   0.  100.  100. ...,  100.  100.    0.]]\n",
      "\n",
      "Using a timestep size of \\Delta t =  0.125\n"
     ]
    }
   ],
   "source": [
    "\n",
    "#Initialize plate length and max time iterations\n",
    "\n",
    "plate_length = 50\n",
    "max_iter_time = 500\n",
    "boundary_value = 100\n",
    "\n",
    "initial_grid = initialize_grid(max_iter_time, plate_length, boundary_value)\n",
    "\n",
    "alpha = 2.0\n",
    "delta_x = 1\n",
    "\n",
    "# Calculated params (\\Delta t should obey the FTCS condition for stability)\n",
    "delta_t = (delta_x ** 2)/(4 * alpha)\n",
    "print(\"\\nUsing a timestep size of \\Delta t = \", delta_t)\n",
    "gamma = (alpha * delta_t) / (delta_x ** 2)"
   ]
  },
  {
   "cell_type": "code",
   "execution_count": 4,
   "metadata": {
    "collapsed": true
   },
   "outputs": [],
   "source": [
    "# Calculate u iteratively on the grid based on the equation derived above\n",
    "\n",
    "def calculate(u):\n",
    "    for k in range(0, max_iter_time-1, 1):\n",
    "        for i in range(1, plate_length-1, delta_x):\n",
    "            for j in range(1, plate_length-1, delta_x):\n",
    "                u[k + 1, i, j] = gamma * (u[k][i+1][j] + u[k][i-1][j] + u[k][i][j+1] + u[k][i][j-1] - 4*u[k][i][j]) + u[k][i][j]\n",
    "  \n",
    "    return u"
   ]
  },
  {
   "cell_type": "code",
   "execution_count": 6,
   "metadata": {
    "collapsed": true
   },
   "outputs": [],
   "source": [
    "def plotheatmap(u_k, k):\n",
    "  # Clear the current plot figure\n",
    "    plt.clf()\n",
    "    plt.title(f\"Temperature at t = {k*delta_t:.3f} unit time\")\n",
    "    plt.xlabel(\"x\")\n",
    "    plt.ylabel(\"y\")\n",
    "  \n",
    "    # This is to plot u_k (u at time-step k)\n",
    "    plt.pcolormesh(u_k, cmap=plt.cm.jet, vmin=0, vmax=100)\n",
    "    plt.colorbar()\n",
    "    return plt"
   ]
  },
  {
   "cell_type": "code",
   "execution_count": 82,
   "metadata": {},
   "outputs": [
    {
     "data": {
      "image/png": "[encoded data removed]",
      "text/plain": [
       "<Figure size 432x288 with 2 Axes>"
      ]
     },
     "metadata": {
      "needs_background": "light"
     },
     "output_type": "display_data"
    }
   ],
   "source": [
    "# Calculate final grid \n",
    "final_grid = calculate(initial_grid)\n",
    "\n",
    "# Plot the animation for the solution in time steps\n",
    "\n",
    "def animate(k):\n",
    "    plotheatmap(final_grid[k], k)\n",
    "\n",
    "\n",
    "anim = animation.FuncAnimation(plt.figure(), animate, interval=1,frames=max_iter_time, repeat=False)\n",
    "anim.save(\"heat_equation_solution.gif\")"
   ]
  },
  {
   "cell_type": "markdown",
   "metadata": {},
   "source": [
    "# Unstable solution example"
   ]
  },
  {
   "cell_type": "markdown",
   "metadata": {},
   "source": [
    "Suppose we violate the condition for stability for the explicit scheme $$\\Delta t \\leq \\frac{\\Delta x^2}{4 \\alpha}$$ by setting $\\Delta t > \\frac{\\Delta x^2}{4 \\alpha}$."
   ]
  },
  {
   "cell_type": "code",
   "execution_count": 78,
   "metadata": {},
   "outputs": [
    {
     "name": "stdout",
     "output_type": "stream",
     "text": [
      "\n",
      "Initial 2-D grid in spatial dimension for time snapshot t=0 is listed below\n",
      "\n",
      "[[  0.   0.   0. ...   0.   0.   0.]\n",
      " [  0.   0.   0. ...   0.   0.   0.]\n",
      " [  0.   0.   0. ...   0.   0.   0.]\n",
      " ...\n",
      " [  0.   0.   0. ...   0.   0.   0.]\n",
      " [  0.   0.   0. ...   0.   0.   0.]\n",
      " [  0. 100. 100. ... 100. 100.   0.]]\n",
      "\n",
      "Using a timestep size of \\Delta t =  0.1875\n"
     ]
    }
   ],
   "source": [
    "\n",
    "#Initialize plate length and max time iterations\n",
    "\n",
    "plate_length = 50\n",
    "max_iter_time = 50\n",
    "boundary_value = 100\n",
    "\n",
    "initial_unstable_grid = initialize_grid(max_iter_time, plate_length, boundary_value)\n",
    "\n",
    "alpha = 2.0\n",
    "delta_x = 1\n",
    "\n",
    "# Calculated params (\\Delta t violates the FTCS condition for stability)\n",
    "\n",
    "delta_t = 1.5 * (delta_x ** 2)/(4 * alpha)\n",
    "print(\"\\nUsing a timestep size of \\Delta t = \", delta_t)\n",
    "gamma = (alpha * delta_t) / (delta_x ** 2)"
   ]
  },
  {
   "cell_type": "code",
   "execution_count": 79,
   "metadata": {},
   "outputs": [
    {
     "data": {
      "image/png": "[encoded data removed]",
      "text/plain": [
       "<Figure size 432x288 with 2 Axes>"
      ]
     },
     "metadata": {
      "needs_background": "light"
     },
     "output_type": "display_data"
    }
   ],
   "source": [
    "# Calculate final grid\n",
    "final_unstable_grid = calculate(initial_unstable_grid)\n",
    "\n",
    "# Plot the animation for the solution in time steps\n",
    "\n",
    "def animate(k):\n",
    "    plotheatmap(final_unstable_grid[k], k)\n",
    "\n",
    "\n",
    "anim = animation.FuncAnimation(plt.figure(), animate, interval=1,frames=max_iter_time, repeat=False)\n",
    "anim.save(\"heat_equation_solution_unstable.gif\")"
   ]
  },
  {
   "cell_type": "code",
   "execution_count": null,
   "metadata": {
    "collapsed": true
   },
   "outputs": [],
   "source": []
  }
 ],
 "metadata": {
  "kernelspec": {
   "display_name": "Python 3",
   "language": "python",
   "name": "python3"
  },
  "language_info": {
   "codemirror_mode": {
    "name": "ipython",
    "version": 3
   },
   "file_extension": ".py",
   "mimetype": "text/x-python",
   "name": "python",
   "nbconvert_exporter": "python",
   "pygments_lexer": "ipython3",
   "version": "3.9.2"
  }
 },
 "nbformat": 4,
 "nbformat_minor": 2
}
